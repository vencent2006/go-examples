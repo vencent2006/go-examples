{
 "cells": [
  {
   "cell_type": "code",
   "execution_count": 1,
   "id": "9566d53b-b910-4759-bd53-e06bd738e25c",
   "metadata": {
    "tags": []
   },
   "outputs": [],
   "source": [
    "import time\n",
    "from decimal import Decimal\n",
    "\n",
    "import matplotlib.pyplot as plt\n",
    "import numpy as np\n",
    "import pandas as pd\n",
    "\n",
    "import api.xq\n",
    "import history\n"
   ]
  },
  {
   "cell_type": "code",
   "execution_count": 2,
   "id": "7e6c8c57-b181-4a71-bf1a-5fe36d668a62",
   "metadata": {
    "tags": []
   },
   "outputs": [
    {
     "name": "stdout",
     "output_type": "stream",
     "text": [
      "SH512000 day\n",
      "https://stock.xueqiu.com/v5/stock/chart/kline.json?symbol=SH512000&begin=1684407245165&period=day&type=before&count=-2000000000&indicator=kline,pe,pb,ps,pcf,market_capital,agt,ggt,balance\n",
      "[[1473782400000 117724091 0.98 ... None None None]\n",
      " [1474214400000 23491531 0.979 ... None None None]\n",
      " [1474300800000 17201235 0.982 ... None None None]\n",
      " ...\n",
      " [1684166400000 592766402 0.913 ... None None None]\n",
      " [1684252800000 483431600 0.906 ... None None None]\n",
      " [1684339200000 486100333 0.907 ... None None None]]\n",
      "*********************************\n",
      "[['2016-09-14' 0.98 0.985 0.977 0.98]\n",
      " ['2016-09-19' 0.979 0.985 0.979 0.982]\n",
      " ['2016-09-20' 0.982 0.983 0.978 0.98]\n",
      " ...\n",
      " ['2023-05-16' 0.913 0.925 0.906 0.908]\n",
      " ['2023-05-17' 0.906 0.913 0.901 0.904]\n",
      " ['2023-05-18' 0.907 0.912 0.899 0.902]]\n"
     ]
    },
    {
     "data": {
      "text/html": [
       "<div>\n",
       "<style scoped>\n",
       "    .dataframe tbody tr th:only-of-type {\n",
       "        vertical-align: middle;\n",
       "    }\n",
       "\n",
       "    .dataframe tbody tr th {\n",
       "        vertical-align: top;\n",
       "    }\n",
       "\n",
       "    .dataframe thead th {\n",
       "        text-align: right;\n",
       "    }\n",
       "</style>\n",
       "<table border=\"1\" class=\"dataframe\">\n",
       "  <thead>\n",
       "    <tr style=\"text-align: right;\">\n",
       "      <th></th>\n",
       "      <th>open</th>\n",
       "      <th>high</th>\n",
       "      <th>low</th>\n",
       "      <th>close</th>\n",
       "    </tr>\n",
       "    <tr>\n",
       "      <th>timestamp</th>\n",
       "      <th></th>\n",
       "      <th></th>\n",
       "      <th></th>\n",
       "      <th></th>\n",
       "    </tr>\n",
       "  </thead>\n",
       "  <tbody>\n",
       "    <tr>\n",
       "      <th>2016-09-14</th>\n",
       "      <td>0.98</td>\n",
       "      <td>0.985</td>\n",
       "      <td>0.977</td>\n",
       "      <td>0.98</td>\n",
       "    </tr>\n",
       "    <tr>\n",
       "      <th>2016-09-19</th>\n",
       "      <td>0.979</td>\n",
       "      <td>0.985</td>\n",
       "      <td>0.979</td>\n",
       "      <td>0.982</td>\n",
       "    </tr>\n",
       "    <tr>\n",
       "      <th>2016-09-20</th>\n",
       "      <td>0.982</td>\n",
       "      <td>0.983</td>\n",
       "      <td>0.978</td>\n",
       "      <td>0.98</td>\n",
       "    </tr>\n",
       "    <tr>\n",
       "      <th>2016-09-21</th>\n",
       "      <td>0.979</td>\n",
       "      <td>0.994</td>\n",
       "      <td>0.979</td>\n",
       "      <td>0.989</td>\n",
       "    </tr>\n",
       "    <tr>\n",
       "      <th>2016-09-22</th>\n",
       "      <td>0.998</td>\n",
       "      <td>0.998</td>\n",
       "      <td>0.988</td>\n",
       "      <td>0.989</td>\n",
       "    </tr>\n",
       "    <tr>\n",
       "      <th>...</th>\n",
       "      <td>...</td>\n",
       "      <td>...</td>\n",
       "      <td>...</td>\n",
       "      <td>...</td>\n",
       "    </tr>\n",
       "    <tr>\n",
       "      <th>2023-05-12</th>\n",
       "      <td>0.912</td>\n",
       "      <td>0.918</td>\n",
       "      <td>0.901</td>\n",
       "      <td>0.902</td>\n",
       "    </tr>\n",
       "    <tr>\n",
       "      <th>2023-05-15</th>\n",
       "      <td>0.902</td>\n",
       "      <td>0.918</td>\n",
       "      <td>0.883</td>\n",
       "      <td>0.915</td>\n",
       "    </tr>\n",
       "    <tr>\n",
       "      <th>2023-05-16</th>\n",
       "      <td>0.913</td>\n",
       "      <td>0.925</td>\n",
       "      <td>0.906</td>\n",
       "      <td>0.908</td>\n",
       "    </tr>\n",
       "    <tr>\n",
       "      <th>2023-05-17</th>\n",
       "      <td>0.906</td>\n",
       "      <td>0.913</td>\n",
       "      <td>0.901</td>\n",
       "      <td>0.904</td>\n",
       "    </tr>\n",
       "    <tr>\n",
       "      <th>2023-05-18</th>\n",
       "      <td>0.907</td>\n",
       "      <td>0.912</td>\n",
       "      <td>0.899</td>\n",
       "      <td>0.902</td>\n",
       "    </tr>\n",
       "  </tbody>\n",
       "</table>\n",
       "<p>1619 rows × 4 columns</p>\n",
       "</div>"
      ],
      "text/plain": [
       "             open   high    low  close\n",
       "timestamp                             \n",
       "2016-09-14   0.98  0.985  0.977   0.98\n",
       "2016-09-19  0.979  0.985  0.979  0.982\n",
       "2016-09-20  0.982  0.983  0.978   0.98\n",
       "2016-09-21  0.979  0.994  0.979  0.989\n",
       "2016-09-22  0.998  0.998  0.988  0.989\n",
       "...           ...    ...    ...    ...\n",
       "2023-05-12  0.912  0.918  0.901  0.902\n",
       "2023-05-15  0.902  0.918  0.883  0.915\n",
       "2023-05-16  0.913  0.925  0.906  0.908\n",
       "2023-05-17  0.906  0.913  0.901  0.904\n",
       "2023-05-18  0.907  0.912  0.899  0.902\n",
       "\n",
       "[1619 rows x 4 columns]"
      ]
     },
     "execution_count": 2,
     "metadata": {},
     "output_type": "execute_result"
    }
   ],
   "source": [
    "stock_code = \"SH512000\"\n",
    "# data = api.xq.get_data(stock_code, \"day\")\n",
    "data = api.xq.get_data(stock_code, \"day\")\n",
    "data = np.array(data)\n",
    "# to_date = lambda row: row[0] = time.strftime(\"%Y-%m-%d\", time.localtime(row[0] / 1000))\n",
    "# date = np.zeros(data.size)\n",
    "print(data)\n",
    "\n",
    "print(\"*********************************\")\n",
    "\n",
    "data = np.delete(data[:, 0:6], 1, axis=1)\n",
    "# 日期\n",
    "for row in data:\n",
    "    row[0] = time.strftime(\"%Y-%m-%d\", time.localtime(row[0] / 1000))\n",
    "    # row[0] = time.strftime(\"%Y-%m-%d %H:%M:%S\", time.localtime(row[0] / 1000))\n",
    "    # row[0] = datetime.fromtimestamp(row[0] / 1000)\n",
    "print(data)\n",
    "# date = np.array(map(lambda row: time.strftime(\"%Y-%m-%d\", time.localtime(row[0] / 1000)), data[:, 0]))\n",
    "\n",
    "data = pd.DataFrame(data, columns=['timestamp', 'open', 'high', 'low', 'close'])\n",
    "# data['timestamp'] = pd.to_datetime(data['timestamp'])\n",
    "\n",
    "# keys：这个参数可以是单个列键、与调用DataFrame相同长度的单个数组，或者包含列键和数组的任意组合的列表。在这里，数组包括Series、Index、np.ndarray\n",
    "# drop：删除要用作新索引的列。\n",
    "# append：是否向现有索引追加列。\n",
    "# inplace： 如果为True，则就地修改DataFrame(不创建新对象)。\n",
    "# verify_integrity：检查新索引是否有副本。\n",
    "data.set_index('timestamp', drop=True, inplace=True)\n",
    "data.sort_index()  # 根据index的值进行排序"
   ]
  },
  {
   "cell_type": "code",
   "execution_count": 7,
   "id": "51afb02d-80fc-428c-a411-309ba8bd912e",
   "metadata": {
    "tags": []
   },
   "outputs": [
    {
     "name": "stdout",
     "output_type": "stream",
     "text": [
      "             open   high    low  close\n",
      "timestamp                             \n",
      "2018-06-01  0.784    0.8  0.779   0.79\n",
      "2018-06-04  0.792  0.795  0.785  0.785\n",
      "2018-06-05  0.787  0.791  0.781  0.791\n",
      "2018-06-06  0.791  0.794  0.783  0.789\n",
      "2018-06-07  0.792  0.806   0.79  0.796\n",
      "...           ...    ...    ...    ...\n",
      "2021-05-26  1.085  1.098  1.075  1.076\n",
      "2021-05-27  1.072  1.088  1.068  1.077\n",
      "2021-05-28  1.075  1.112  1.073  1.093\n",
      "2021-05-31  1.093  1.097  1.082  1.094\n",
      "2021-06-01  1.088  1.089  1.068  1.079\n",
      "\n",
      "[729 rows x 4 columns]\n"
     ]
    }
   ],
   "source": [
    "    # 时间区间\n",
    "data = data['2018-06-01':'2021-06-01']\n",
    "# data = data['2018-06-01':'2019-06-01']\n",
    "\n",
    "print(data)"
   ]
  },
  {
   "cell_type": "code",
   "execution_count": 11,
   "id": "a726257b-610a-41ed-8d0f-458b506a2370",
   "metadata": {
    "tags": []
   },
   "outputs": [
    {
     "data": {
      "text/plain": [
       "(0.0, 800.0)"
      ]
     },
     "execution_count": 11,
     "metadata": {},
     "output_type": "execute_result"
    },
    {
     "data": {
      "image/png": "[encoded data removed]",
      "text/plain": [
       "<Figure size 640x480 with 1 Axes>"
      ]
     },
     "metadata": {},
     "output_type": "display_data"
    }
   ],
   "source": [
    "    # # plt\n",
    "# plt.figure(figsize=[10, 10])\n",
    "plt.plot(data.index, data['close'])\n",
    "# x轴文字倾斜程度\n",
    "# plt.xticks(rotation=90, size=7)\n",
    "plt.xticks(size=7)\n",
    "# 设置标签\n",
    "plt.xlabel('day')\n",
    "plt.ylabel('close')\n",
    "plt.title(stock_code)\n",
    "\n",
    "from matplotlib.pyplot import MultipleLocator\n",
    "\n",
    "# 把x轴的刻度间隔设置为1，并存在变量里\n",
    "x_major_locator = MultipleLocator(40)\n",
    "# ax为两条坐标轴的实例\n",
    "ax = plt.gca()\n",
    "# 把x轴的主刻度设置为1的倍数\n",
    "ax.xaxis.set_major_locator(x_major_locator)\n",
    "# 把x轴的刻度范围设置为-0.5到11，因为0.5不满一个刻度间隔，所以数字不会显示出来，但是能看到一点空白\n",
    "plt.xlim(0, 800)"
   ]
  },
  {
   "cell_type": "code",
   "execution_count": 14,
   "id": "9dfaed5a-b593-49c7-ac82-872c3e78e8d3",
   "metadata": {
    "tags": []
   },
   "outputs": [
    {
     "name": "stdout",
     "output_type": "stream",
     "text": [
      "max= 1.335\n",
      "min= 0.584\n",
      "benchmark= 1.151\n"
     ]
    }
   ],
   "source": [
    "    # 最大值中的最大值\n",
    "max = data['high'].max()\n",
    "min = data['low'].min()\n",
    "# 基准价\n",
    "# 当然这还只是基于过往的历史最低，如果当前创下了历史新低的话，就需要额外的钱，我们再把边际下移20%（宁愿买的便宜也千万不要买贵）\n",
    "benchmark = float(Decimal((max + min) / 2 * 1.2).quantize(Decimal('0.000')))\n",
    "# print(max, min, benchmark)\n",
    "print(\"max=\", max)\n",
    "print(\"min=\", min)\n",
    "print(\"benchmark=\", benchmark)"
   ]
  },
  {
   "cell_type": "code",
   "execution_count": 15,
   "id": "b42690e7-4fb2-45d6-9ec0-e8f89edf1db3",
   "metadata": {
    "tags": []
   },
   "outputs": [],
   "source": [
    "    # grid = 0.025\n",
    "grid = 0.05\n",
    "count = 100  # 一手多少倍(股）\n",
    "max_consume_money = Decimal(0)\n",
    "consume_money = Decimal(0)\n",
    "opt = []\n",
    "# [日期, 价格, -1/1] 用于画点\n",
    "# 历史\n",
    "opt_b = []  # operation buy\n",
    "opt_s = []  # operation sell\n",
    "# 利润\n",
    "profit = 0"
   ]
  },
  {
   "cell_type": "code",
   "execution_count": 16,
   "id": "ec5bfb1f-74c0-44f6-83f2-7ae7a5a7016e",
   "metadata": {
    "tags": []
   },
   "outputs": [
    {
     "name": "stdout",
     "output_type": "stream",
     "text": [
      "2018-06-01 建仓买入 1.093\n",
      "2018-06-01 建仓买入 1.038\n",
      "2018-06-01 建仓买入 0.986\n",
      "2018-06-01 建仓买入 0.937\n",
      "2018-06-01 建仓买入 0.89\n",
      "2018-06-01 建仓买入 0.845\n",
      "2018-06-01 建仓买入 0.803\n"
     ]
    }
   ],
   "source": [
    "    # 建仓\n",
    "\n",
    "# 就是第一行的数据\n",
    "# open     0.784\n",
    "# high       0.8\n",
    "# low      0.779\n",
    "# close     0.79\n",
    "# Name: 2018-06-01\n",
    "# dtype: object\n",
    "first = data.iloc[0]\n",
    "while benchmark * (1 - grid) > first['open']:  # 比较的是: 开盘价\n",
    "    # 一手买入 或者 倍数买入\n",
    "    # 买入\n",
    "    # 基准价变更\n",
    "    benchmark = float(Decimal(benchmark * (1 - grid)).quantize(Decimal('0.000')))\n",
    "    print(data.index[0], \"建仓买入\", benchmark)\n",
    "\n",
    "    # 计算的操作\n",
    "    consume_money += Decimal(benchmark) * Decimal(count)\n",
    "\n",
    "    # 添加记录\n",
    "    h = history.History(stock_code, 1, benchmark, count)\n",
    "    opt.append(h)\n",
    "    opt_b.append([data.index[0], benchmark, 1])\n",
    "\n",
    "max_consume_money = consume_money"
   ]
  },
  {
   "cell_type": "code",
   "execution_count": 19,
   "id": "d53625e5-d879-46cc-826b-08acb974ec77",
   "metadata": {
    "tags": []
   },
   "outputs": [
    {
     "data": {
      "text/plain": [
       "[<history.History at 0x136b1a150>,\n",
       " <history.History at 0x1306e6610>,\n",
       " <history.History at 0x136ba8910>,\n",
       " <history.History at 0x130da5510>,\n",
       " <history.History at 0x136bcdc50>,\n",
       " <history.History at 0x130c5d5d0>,\n",
       " <history.History at 0x136988410>]"
      ]
     },
     "execution_count": 19,
     "metadata": {},
     "output_type": "execute_result"
    }
   ],
   "source": [
    "opt"
   ]
  },
  {
   "cell_type": "code",
   "execution_count": 18,
   "id": "ff1e8f6e-f0e9-42b2-8973-b954cf989dea",
   "metadata": {
    "tags": []
   },
   "outputs": [
    {
     "data": {
      "text/plain": [
       "open     0.784\n",
       "high       0.8\n",
       "low      0.779\n",
       "close     0.79\n",
       "Name: 2018-06-01, dtype: object"
      ]
     },
     "execution_count": 18,
     "metadata": {},
     "output_type": "execute_result"
    }
   ],
   "source": [
    "data.iloc[0]"
   ]
  },
  {
   "cell_type": "code",
   "execution_count": null,
   "id": "7b3e7e86-f38f-4dc2-b841-ccd24759d620",
   "metadata": {},
   "outputs": [],
   "source": []
  }
 ],
 "metadata": {
  "kernelspec": {
   "display_name": "Python 3 (ipykernel)",
   "language": "python",
   "name": "python3"
  },
  "language_info": {
   "codemirror_mode": {
    "name": "ipython",
    "version": 3
   },
   "file_extension": ".py",
   "mimetype": "text/x-python",
   "name": "python",
   "nbconvert_exporter": "python",
   "pygments_lexer": "ipython3",
   "version": "3.11.3"
  }
 },
 "nbformat": 4,
 "nbformat_minor": 5
}
