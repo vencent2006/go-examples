{
 "cells": [
  {
   "cell_type": "markdown",
   "id": "e5e8cd80",
   "metadata": {},
   "source": [
    "# 比较"
   ]
  },
  {
   "cell_type": "code",
   "execution_count": 1,
   "id": "0eecb3ab",
   "metadata": {},
   "outputs": [
    {
     "data": {
      "text/plain": [
       "True"
      ]
     },
     "execution_count": 1,
     "metadata": {},
     "output_type": "execute_result"
    }
   ],
   "source": [
    "(3,2) > (1,4)"
   ]
  },
  {
   "cell_type": "code",
   "execution_count": 2,
   "id": "0951871c",
   "metadata": {},
   "outputs": [
    {
     "data": {
      "text/plain": [
       "False"
      ]
     },
     "execution_count": 2,
     "metadata": {},
     "output_type": "execute_result"
    }
   ],
   "source": [
    "(3,2) > (3, 4)"
   ]
  },
  {
   "cell_type": "markdown",
   "id": "f37b988e",
   "metadata": {},
   "source": [
    "# 生成分数字典"
   ]
  },
  {
   "cell_type": "code",
   "execution_count": 3,
   "id": "10a8e3ad",
   "metadata": {},
   "outputs": [],
   "source": [
    "from random import randint"
   ]
  },
  {
   "cell_type": "code",
   "execution_count": 4,
   "id": "d016da40",
   "metadata": {},
   "outputs": [],
   "source": [
    "d = {k:randint(60, 100) for k in 'abcdefgh'}"
   ]
  },
  {
   "cell_type": "code",
   "execution_count": 5,
   "id": "154fc8bb",
   "metadata": {},
   "outputs": [
    {
     "data": {
      "text/plain": [
       "{'a': 72, 'b': 71, 'c': 66, 'd': 72, 'e': 62, 'f': 93, 'g': 71, 'h': 87}"
      ]
     },
     "execution_count": 5,
     "metadata": {},
     "output_type": "execute_result"
    }
   ],
   "source": [
    "d"
   ]
  },
  {
   "cell_type": "markdown",
   "id": "1eef9c61",
   "metadata": {},
   "source": [
    "# 方案1：列表解析"
   ]
  },
  {
   "cell_type": "code",
   "execution_count": 6,
   "id": "1d06bf67",
   "metadata": {},
   "outputs": [],
   "source": [
    "l = [(v, k) for k, v in d.items()]"
   ]
  },
  {
   "cell_type": "code",
   "execution_count": 7,
   "id": "0df5ecce",
   "metadata": {},
   "outputs": [
    {
     "data": {
      "text/plain": [
       "[(72, 'a'),\n",
       " (71, 'b'),\n",
       " (66, 'c'),\n",
       " (72, 'd'),\n",
       " (62, 'e'),\n",
       " (93, 'f'),\n",
       " (71, 'g'),\n",
       " (87, 'h')]"
      ]
     },
     "execution_count": 7,
     "metadata": {},
     "output_type": "execute_result"
    }
   ],
   "source": [
    "l"
   ]
  },
  {
   "cell_type": "code",
   "execution_count": 8,
   "id": "b628e6c9",
   "metadata": {},
   "outputs": [
    {
     "data": {
      "text/plain": [
       "[(62, 'e'),\n",
       " (66, 'c'),\n",
       " (71, 'b'),\n",
       " (71, 'g'),\n",
       " (72, 'a'),\n",
       " (72, 'd'),\n",
       " (87, 'h'),\n",
       " (93, 'f')]"
      ]
     },
     "execution_count": 8,
     "metadata": {},
     "output_type": "execute_result"
    }
   ],
   "source": [
    "sorted(l)"
   ]
  },
  {
   "cell_type": "code",
   "execution_count": 9,
   "id": "9f23b110",
   "metadata": {},
   "outputs": [
    {
     "data": {
      "text/plain": [
       "[(93, 'f'),\n",
       " (87, 'h'),\n",
       " (72, 'd'),\n",
       " (72, 'a'),\n",
       " (71, 'g'),\n",
       " (71, 'b'),\n",
       " (66, 'c'),\n",
       " (62, 'e')]"
      ]
     },
     "execution_count": 9,
     "metadata": {},
     "output_type": "execute_result"
    }
   ],
   "source": [
    "sorted(l, reverse=True)"
   ]
  },
  {
   "cell_type": "markdown",
   "id": "44589f4b",
   "metadata": {},
   "source": [
    "# 还是方案1，但是用zip"
   ]
  },
  {
   "cell_type": "code",
   "execution_count": 10,
   "id": "0e7174ca",
   "metadata": {},
   "outputs": [
    {
     "data": {
      "text/plain": [
       "<zip at 0x110dfcb40>"
      ]
     },
     "execution_count": 10,
     "metadata": {},
     "output_type": "execute_result"
    }
   ],
   "source": [
    "zip([1,2,3], [4,5,6])"
   ]
  },
  {
   "cell_type": "code",
   "execution_count": 11,
   "id": "bada4bd0",
   "metadata": {},
   "outputs": [
    {
     "data": {
      "text/plain": [
       "[(1, 4), (2, 5), (3, 6)]"
      ]
     },
     "execution_count": 11,
     "metadata": {},
     "output_type": "execute_result"
    }
   ],
   "source": [
    "list(zip([1,2,3], [4,5,6]))"
   ]
  },
  {
   "cell_type": "code",
   "execution_count": 12,
   "id": "a87fbe22",
   "metadata": {},
   "outputs": [],
   "source": [
    "l_zip = list(zip(d.values(), d.keys()))"
   ]
  },
  {
   "cell_type": "code",
   "execution_count": 13,
   "id": "d8482dc0",
   "metadata": {},
   "outputs": [
    {
     "data": {
      "text/plain": [
       "[(72, 'a'),\n",
       " (71, 'b'),\n",
       " (66, 'c'),\n",
       " (72, 'd'),\n",
       " (62, 'e'),\n",
       " (93, 'f'),\n",
       " (71, 'g'),\n",
       " (87, 'h')]"
      ]
     },
     "execution_count": 13,
     "metadata": {},
     "output_type": "execute_result"
    }
   ],
   "source": [
    "l_zip"
   ]
  },
  {
   "cell_type": "code",
   "execution_count": 14,
   "id": "67b8774e",
   "metadata": {},
   "outputs": [
    {
     "data": {
      "text/plain": [
       "[(93, 'f'),\n",
       " (87, 'h'),\n",
       " (72, 'd'),\n",
       " (72, 'a'),\n",
       " (71, 'g'),\n",
       " (71, 'b'),\n",
       " (66, 'c'),\n",
       " (62, 'e')]"
      ]
     },
     "execution_count": 14,
     "metadata": {},
     "output_type": "execute_result"
    }
   ],
   "source": [
    "sorted(l_zip, reverse=True)"
   ]
  },
  {
   "cell_type": "markdown",
   "id": "89931dca",
   "metadata": {},
   "source": [
    "# 方案2：传递sorted函数的key参数"
   ]
  },
  {
   "cell_type": "code",
   "execution_count": 15,
   "id": "5a836b77",
   "metadata": {},
   "outputs": [
    {
     "data": {
      "text/plain": [
       "dict_items([('a', 72), ('b', 71), ('c', 66), ('d', 72), ('e', 62), ('f', 93), ('g', 71), ('h', 87)])"
      ]
     },
     "execution_count": 15,
     "metadata": {},
     "output_type": "execute_result"
    }
   ],
   "source": [
    "d.items()"
   ]
  },
  {
   "cell_type": "code",
   "execution_count": 16,
   "id": "db23a122",
   "metadata": {},
   "outputs": [
    {
     "data": {
      "text/plain": [
       "[('f', 93),\n",
       " ('h', 87),\n",
       " ('a', 72),\n",
       " ('d', 72),\n",
       " ('b', 71),\n",
       " ('g', 71),\n",
       " ('c', 66),\n",
       " ('e', 62)]"
      ]
     },
     "execution_count": 16,
     "metadata": {},
     "output_type": "execute_result"
    }
   ],
   "source": [
    "sorted(d.items(), key=lambda item: item[1], reverse=True)"
   ]
  },
  {
   "cell_type": "code",
   "execution_count": 17,
   "id": "cdbb9490",
   "metadata": {},
   "outputs": [],
   "source": [
    "p = sorted(d.items(), key=lambda item: item[1], reverse=True)"
   ]
  },
  {
   "cell_type": "code",
   "execution_count": 18,
   "id": "a1434141",
   "metadata": {},
   "outputs": [
    {
     "data": {
      "text/plain": [
       "[('f', 93),\n",
       " ('h', 87),\n",
       " ('a', 72),\n",
       " ('d', 72),\n",
       " ('b', 71),\n",
       " ('g', 71),\n",
       " ('c', 66),\n",
       " ('e', 62)]"
      ]
     },
     "execution_count": 18,
     "metadata": {},
     "output_type": "execute_result"
    }
   ],
   "source": [
    "p"
   ]
  },
  {
   "cell_type": "code",
   "execution_count": 19,
   "id": "961ca723",
   "metadata": {},
   "outputs": [
    {
     "data": {
      "text/plain": [
       "<enumerate at 0x1114de540>"
      ]
     },
     "execution_count": 19,
     "metadata": {},
     "output_type": "execute_result"
    }
   ],
   "source": [
    "enumerate(p)"
   ]
  },
  {
   "cell_type": "code",
   "execution_count": 20,
   "id": "5f6cfdab",
   "metadata": {},
   "outputs": [
    {
     "data": {
      "text/plain": [
       "[(0, ('f', 93)),\n",
       " (1, ('h', 87)),\n",
       " (2, ('a', 72)),\n",
       " (3, ('d', 72)),\n",
       " (4, ('b', 71)),\n",
       " (5, ('g', 71)),\n",
       " (6, ('c', 66)),\n",
       " (7, ('e', 62))]"
      ]
     },
     "execution_count": 20,
     "metadata": {},
     "output_type": "execute_result"
    }
   ],
   "source": [
    "list(enumerate(p))"
   ]
  },
  {
   "cell_type": "code",
   "execution_count": 21,
   "id": "bafa8791",
   "metadata": {},
   "outputs": [
    {
     "data": {
      "text/plain": [
       "[(1, ('f', 93)),\n",
       " (2, ('h', 87)),\n",
       " (3, ('a', 72)),\n",
       " (4, ('d', 72)),\n",
       " (5, ('b', 71)),\n",
       " (6, ('g', 71)),\n",
       " (7, ('c', 66)),\n",
       " (8, ('e', 62))]"
      ]
     },
     "execution_count": 21,
     "metadata": {},
     "output_type": "execute_result"
    }
   ],
   "source": [
    "list(enumerate(p, 1))"
   ]
  },
  {
   "cell_type": "code",
   "execution_count": 22,
   "id": "0d46df73",
   "metadata": {},
   "outputs": [
    {
     "name": "stdout",
     "output_type": "stream",
     "text": [
      "1 f 93\n",
      "2 h 87\n",
      "3 a 72\n",
      "4 d 72\n",
      "5 b 71\n",
      "6 g 71\n",
      "7 c 66\n",
      "8 e 62\n"
     ]
    }
   ],
   "source": [
    "for i, (k, v) in enumerate(p, 1):\n",
    "    print(i, k, v)"
   ]
  },
  {
   "cell_type": "code",
   "execution_count": 23,
   "id": "f4163d23",
   "metadata": {},
   "outputs": [
    {
     "data": {
      "text/plain": [
       "{'f': (1, 93),\n",
       " 'h': (2, 87),\n",
       " 'a': (3, 72),\n",
       " 'd': (4, 72),\n",
       " 'b': (5, 71),\n",
       " 'g': (6, 71),\n",
       " 'c': (7, 66),\n",
       " 'e': (8, 62)}"
      ]
     },
     "execution_count": 23,
     "metadata": {},
     "output_type": "execute_result"
    }
   ],
   "source": [
    "# 新字典\n",
    "{k:(i, v) for i, (k, v) in enumerate(p, 1)}"
   ]
  },
  {
   "cell_type": "code",
   "execution_count": null,
   "id": "34399f2f",
   "metadata": {},
   "outputs": [],
   "source": []
  }
 ],
 "metadata": {
  "kernelspec": {
   "display_name": "Python 3 (ipykernel)",
   "language": "python",
   "name": "python3"
  },
  "language_info": {
   "codemirror_mode": {
    "name": "ipython",
    "version": 3
   },
   "file_extension": ".py",
   "mimetype": "text/x-python",
   "name": "python",
   "nbconvert_exporter": "python",
   "pygments_lexer": "ipython3",
   "version": "3.9.6"
  }
 },
 "nbformat": 4,
 "nbformat_minor": 5
}
