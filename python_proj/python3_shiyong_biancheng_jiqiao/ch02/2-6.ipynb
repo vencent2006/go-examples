{
 "cells": [
  {
   "cell_type": "markdown",
   "id": "7ea6d340",
   "metadata": {},
   "source": [
    "# 如何让字典保持有序"
   ]
  },
  {
   "cell_type": "markdown",
   "id": "1767f59a",
   "metadata": {},
   "source": [
    "## 看下当前是否有序"
   ]
  },
  {
   "cell_type": "code",
   "execution_count": 1,
   "id": "f3eebee8",
   "metadata": {},
   "outputs": [],
   "source": [
    "d = {}"
   ]
  },
  {
   "cell_type": "code",
   "execution_count": 2,
   "id": "997682c1",
   "metadata": {},
   "outputs": [],
   "source": [
    "d['c'] = 1"
   ]
  },
  {
   "cell_type": "code",
   "execution_count": 3,
   "id": "97599223",
   "metadata": {},
   "outputs": [],
   "source": [
    "d['b'] = 2"
   ]
  },
  {
   "cell_type": "code",
   "execution_count": 4,
   "id": "2de313e1",
   "metadata": {},
   "outputs": [],
   "source": [
    "d['a'] = 3"
   ]
  },
  {
   "cell_type": "code",
   "execution_count": 5,
   "id": "9e2dcdbf",
   "metadata": {},
   "outputs": [
    {
     "data": {
      "text/plain": [
       "dict_keys(['c', 'b', 'a'])"
      ]
     },
     "execution_count": 5,
     "metadata": {},
     "output_type": "execute_result"
    }
   ],
   "source": [
    "d.keys()"
   ]
  },
  {
   "cell_type": "code",
   "execution_count": 6,
   "id": "bc48f362",
   "metadata": {},
   "outputs": [
    {
     "data": {
      "text/plain": [
       "['c', 'b', 'a']"
      ]
     },
     "execution_count": 6,
     "metadata": {},
     "output_type": "execute_result"
    }
   ],
   "source": [
    "list(iter(d))"
   ]
  },
  {
   "cell_type": "code",
   "execution_count": null,
   "id": "4edd4e1d",
   "metadata": {},
   "outputs": [],
   "source": []
  }
 ],
 "metadata": {
  "kernelspec": {
   "display_name": "Python 3 (ipykernel)",
   "language": "python",
   "name": "python3"
  },
  "language_info": {
   "codemirror_mode": {
    "name": "ipython",
    "version": 3
   },
   "file_extension": ".py",
   "mimetype": "text/x-python",
   "name": "python",
   "nbconvert_exporter": "python",
   "pygments_lexer": "ipython3",
   "version": "3.9.6"
  }
 },
 "nbformat": 4,
 "nbformat_minor": 5
}
