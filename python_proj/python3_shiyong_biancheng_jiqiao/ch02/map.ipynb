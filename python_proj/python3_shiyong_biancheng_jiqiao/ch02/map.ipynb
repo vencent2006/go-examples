{
 "cells": [
  {
   "cell_type": "markdown",
   "id": "f77e41f4",
   "metadata": {},
   "source": [
    "[Python之map()函数详解](https://blog.csdn.net/u012856866/article/details/131660354)"
   ]
  },
  {
   "cell_type": "markdown",
   "id": "21b2896f",
   "metadata": {},
   "source": [
    "# 列表中每个数都乘2"
   ]
  },
  {
   "cell_type": "markdown",
   "id": "74bccea7",
   "metadata": {},
   "source": [
    "## 方法1： for"
   ]
  },
  {
   "cell_type": "code",
   "execution_count": 1,
   "id": "bb4389b5",
   "metadata": {},
   "outputs": [],
   "source": [
    "bonuses = [100, 200, 300]"
   ]
  },
  {
   "cell_type": "code",
   "execution_count": 2,
   "id": "95d2b3f2",
   "metadata": {},
   "outputs": [],
   "source": [
    "new_bonuses = []"
   ]
  },
  {
   "cell_type": "code",
   "execution_count": 3,
   "id": "cd4d2059",
   "metadata": {},
   "outputs": [],
   "source": [
    "for x in bonuses:\n",
    "    new_bonuses.append(x*2)"
   ]
  },
  {
   "cell_type": "code",
   "execution_count": 4,
   "id": "d6ed640d",
   "metadata": {},
   "outputs": [
    {
     "data": {
      "text/plain": [
       "[200, 400, 600]"
      ]
     },
     "execution_count": 4,
     "metadata": {},
     "output_type": "execute_result"
    }
   ],
   "source": [
    "new_bonuses"
   ]
  },
  {
   "cell_type": "markdown",
   "id": "f7949f69",
   "metadata": {},
   "source": [
    "## 方法2: map"
   ]
  },
  {
   "cell_type": "code",
   "execution_count": 5,
   "id": "f27a8eff",
   "metadata": {},
   "outputs": [],
   "source": [
    "def double_func(x):\n",
    "    return x*2"
   ]
  },
  {
   "cell_type": "code",
   "execution_count": 6,
   "id": "2b44cb5f",
   "metadata": {},
   "outputs": [],
   "source": [
    "iterator = map(double_func, bonuses)"
   ]
  },
  {
   "cell_type": "code",
   "execution_count": 7,
   "id": "cea9e41b",
   "metadata": {},
   "outputs": [
    {
     "data": {
      "text/plain": [
       "<map at 0x105900fa0>"
      ]
     },
     "execution_count": 7,
     "metadata": {},
     "output_type": "execute_result"
    }
   ],
   "source": [
    "iterator"
   ]
  },
  {
   "cell_type": "code",
   "execution_count": 8,
   "id": "4c597a7b",
   "metadata": {},
   "outputs": [
    {
     "data": {
      "text/plain": [
       "[200, 400, 600]"
      ]
     },
     "execution_count": 8,
     "metadata": {},
     "output_type": "execute_result"
    }
   ],
   "source": [
    "list(iterator)"
   ]
  },
  {
   "attachments": {},
   "cell_type": "markdown",
   "id": "c9a4d777",
   "metadata": {},
   "source": [
    "# map()函数输入多个可迭代对象"
   ]
  },
  {
   "cell_type": "code",
   "execution_count": 9,
   "id": "8adb9629",
   "metadata": {},
   "outputs": [],
   "source": [
    "b1 = [100, 200, 300]"
   ]
  },
  {
   "cell_type": "code",
   "execution_count": 10,
   "id": "2712f7a3",
   "metadata": {},
   "outputs": [],
   "source": [
    "b2 = [1, 2, 3]"
   ]
  },
  {
   "cell_type": "code",
   "execution_count": 11,
   "id": "68ad9950",
   "metadata": {},
   "outputs": [],
   "source": [
    "iterator = map(lambda x,y : x*y, b1, b2)"
   ]
  },
  {
   "cell_type": "code",
   "execution_count": 12,
   "id": "ed5c3727",
   "metadata": {},
   "outputs": [
    {
     "data": {
      "text/plain": [
       "[100, 400, 900]"
      ]
     },
     "execution_count": 12,
     "metadata": {},
     "output_type": "execute_result"
    }
   ],
   "source": [
    "list(iterator)"
   ]
  },
  {
   "cell_type": "markdown",
   "id": "0303b711",
   "metadata": {},
   "source": [
    "# 使用map() 函数操作元组列表"
   ]
  },
  {
   "cell_type": "code",
   "execution_count": 13,
   "id": "670d893b",
   "metadata": {},
   "outputs": [],
   "source": [
    "carts = [['SmartPhone', 400], \n",
    "         ['Tablet', 450],\n",
    "         ['Laptop', 700]]"
   ]
  },
  {
   "cell_type": "code",
   "execution_count": 14,
   "id": "8a9470ce",
   "metadata": {},
   "outputs": [],
   "source": [
    "TAX = 0.1"
   ]
  },
  {
   "cell_type": "code",
   "execution_count": 15,
   "id": "b9ed71d7",
   "metadata": {},
   "outputs": [],
   "source": [
    "carts = map(lambda item:[item[0], item[1], item[1]*TAX], carts)"
   ]
  },
  {
   "cell_type": "code",
   "execution_count": 16,
   "id": "d7fcd441",
   "metadata": {},
   "outputs": [
    {
     "data": {
      "text/plain": [
       "[['SmartPhone', 400, 40.0], ['Tablet', 450, 45.0], ['Laptop', 700, 70.0]]"
      ]
     },
     "execution_count": 16,
     "metadata": {},
     "output_type": "execute_result"
    }
   ],
   "source": [
    "list(carts)"
   ]
  },
  {
   "cell_type": "code",
   "execution_count": null,
   "id": "031161e4",
   "metadata": {},
   "outputs": [],
   "source": []
  }
 ],
 "metadata": {
  "kernelspec": {
   "display_name": "Python 3 (ipykernel)",
   "language": "python",
   "name": "python3"
  },
  "language_info": {
   "codemirror_mode": {
    "name": "ipython",
    "version": 3
   },
   "file_extension": ".py",
   "mimetype": "text/x-python",
   "name": "python",
   "nbconvert_exporter": "python",
   "pygments_lexer": "ipython3",
   "version": "3.9.6"
  }
 },
 "nbformat": 4,
 "nbformat_minor": 5
}
