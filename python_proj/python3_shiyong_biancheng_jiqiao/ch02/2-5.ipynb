{
 "cells": [
  {
   "cell_type": "markdown",
   "id": "1c6947de",
   "metadata": {},
   "source": [
    "# 构造数据"
   ]
  },
  {
   "cell_type": "code",
   "execution_count": 1,
   "id": "5a50460a",
   "metadata": {},
   "outputs": [],
   "source": [
    "from random import randint, sample"
   ]
  },
  {
   "cell_type": "code",
   "execution_count": 2,
   "id": "ee727332",
   "metadata": {},
   "outputs": [
    {
     "data": {
      "text/plain": [
       "['g', 'e', 'd']"
      ]
     },
     "execution_count": 2,
     "metadata": {},
     "output_type": "execute_result"
    }
   ],
   "source": [
    "sample('abcdefgh', 3)"
   ]
  },
  {
   "cell_type": "code",
   "execution_count": 3,
   "id": "ce2149b3",
   "metadata": {},
   "outputs": [
    {
     "data": {
      "text/plain": [
       "['b', 'd', 'h', 'a']"
      ]
     },
     "execution_count": 3,
     "metadata": {},
     "output_type": "execute_result"
    }
   ],
   "source": [
    "sample('abcdefgh', randint(3,6))"
   ]
  },
  {
   "cell_type": "code",
   "execution_count": 4,
   "id": "0986bbae",
   "metadata": {},
   "outputs": [],
   "source": [
    "# 第1轮\n",
    "d1 = {k: randint(1,4) for k in sample('abcdefgh', randint(3,6))}"
   ]
  },
  {
   "cell_type": "code",
   "execution_count": 5,
   "id": "cd05b97c",
   "metadata": {},
   "outputs": [
    {
     "data": {
      "text/plain": [
       "{'e': 2, 'f': 1, 'c': 3, 'b': 2, 'a': 3}"
      ]
     },
     "execution_count": 5,
     "metadata": {},
     "output_type": "execute_result"
    }
   ],
   "source": [
    "d1"
   ]
  },
  {
   "cell_type": "code",
   "execution_count": 6,
   "id": "5436dd34",
   "metadata": {},
   "outputs": [],
   "source": [
    "# 第2轮\n",
    "d2 = {k: randint(1,4) for k in sample('abcdefgh', randint(3,6))}"
   ]
  },
  {
   "cell_type": "code",
   "execution_count": 7,
   "id": "e1416a42",
   "metadata": {},
   "outputs": [
    {
     "data": {
      "text/plain": [
       "{'b': 2, 'a': 3, 'f': 4, 'd': 3, 'h': 2}"
      ]
     },
     "execution_count": 7,
     "metadata": {},
     "output_type": "execute_result"
    }
   ],
   "source": [
    "d2"
   ]
  },
  {
   "cell_type": "code",
   "execution_count": 8,
   "id": "51283ff9",
   "metadata": {},
   "outputs": [],
   "source": [
    "# 第3轮\n",
    "d3 = {k: randint(1,4) for k in sample('abcdefgh', randint(3,6))}"
   ]
  },
  {
   "cell_type": "code",
   "execution_count": 9,
   "id": "a99f5732",
   "metadata": {},
   "outputs": [
    {
     "data": {
      "text/plain": [
       "{'g': 1, 'b': 2, 'd': 4, 'a': 4, 'c': 3, 'h': 1}"
      ]
     },
     "execution_count": 9,
     "metadata": {},
     "output_type": "execute_result"
    }
   ],
   "source": [
    "d3"
   ]
  },
  {
   "cell_type": "markdown",
   "id": "883d502d",
   "metadata": {},
   "source": [
    "# 方案1： 利用in"
   ]
  },
  {
   "cell_type": "code",
   "execution_count": 10,
   "id": "0542a509",
   "metadata": {},
   "outputs": [
    {
     "name": "stdout",
     "output_type": "stream",
     "text": [
      "b\n",
      "a\n"
     ]
    }
   ],
   "source": [
    "for k in d1:\n",
    "    if k in d2 and k in d3:\n",
    "        print(k)"
   ]
  },
  {
   "cell_type": "code",
   "execution_count": 11,
   "id": "4b81714c",
   "metadata": {},
   "outputs": [
    {
     "data": {
      "text/plain": [
       "['b', 'a']"
      ]
     },
     "execution_count": 11,
     "metadata": {},
     "output_type": "execute_result"
    }
   ],
   "source": [
    "# 生成式\n",
    "[k for k in d1 if k in d2 and k in d3]"
   ]
  },
  {
   "cell_type": "markdown",
   "id": "de1cacad",
   "metadata": {},
   "source": [
    "## 面对轮次不确定时"
   ]
  },
  {
   "cell_type": "code",
   "execution_count": 12,
   "id": "18937f77",
   "metadata": {},
   "outputs": [],
   "source": [
    "dl = [d1, d2, d3]"
   ]
  },
  {
   "cell_type": "code",
   "execution_count": 13,
   "id": "b830d46e",
   "metadata": {},
   "outputs": [
    {
     "data": {
      "text/plain": [
       "['b', 'a']"
      ]
     },
     "execution_count": 13,
     "metadata": {},
     "output_type": "execute_result"
    }
   ],
   "source": [
    "[k for k in dl[0] if all(map(lambda d: k in d, dl[1:]))]"
   ]
  },
  {
   "cell_type": "code",
   "execution_count": null,
   "id": "4e0bbba4",
   "metadata": {},
   "outputs": [],
   "source": []
  },
  {
   "cell_type": "markdown",
   "id": "000db1bc",
   "metadata": {},
   "source": [
    "# 方案2：set"
   ]
  },
  {
   "cell_type": "code",
   "execution_count": 14,
   "id": "6d094380",
   "metadata": {},
   "outputs": [],
   "source": [
    "s1 = d1.keys()"
   ]
  },
  {
   "cell_type": "code",
   "execution_count": 15,
   "id": "08a96762",
   "metadata": {},
   "outputs": [
    {
     "data": {
      "text/plain": [
       "dict_keys(['e', 'f', 'c', 'b', 'a'])"
      ]
     },
     "execution_count": 15,
     "metadata": {},
     "output_type": "execute_result"
    }
   ],
   "source": [
    "s1"
   ]
  },
  {
   "cell_type": "code",
   "execution_count": 16,
   "id": "03c15cad",
   "metadata": {},
   "outputs": [],
   "source": [
    "s2 = d2.keys()"
   ]
  },
  {
   "cell_type": "code",
   "execution_count": 17,
   "id": "7f309054",
   "metadata": {},
   "outputs": [
    {
     "data": {
      "text/plain": [
       "dict_keys(['b', 'a', 'f', 'd', 'h'])"
      ]
     },
     "execution_count": 17,
     "metadata": {},
     "output_type": "execute_result"
    }
   ],
   "source": [
    "s2"
   ]
  },
  {
   "cell_type": "code",
   "execution_count": 19,
   "id": "86993203",
   "metadata": {},
   "outputs": [
    {
     "data": {
      "text/plain": [
       "{'a', 'b', 'f'}"
      ]
     },
     "execution_count": 19,
     "metadata": {},
     "output_type": "execute_result"
    }
   ],
   "source": [
    "s1 & s2"
   ]
  },
  {
   "cell_type": "code",
   "execution_count": 21,
   "id": "305e305f",
   "metadata": {},
   "outputs": [],
   "source": [
    "from functools import reduce"
   ]
  },
  {
   "cell_type": "code",
   "execution_count": 22,
   "id": "85834639",
   "metadata": {},
   "outputs": [
    {
     "data": {
      "text/plain": [
       "3628800"
      ]
     },
     "execution_count": 22,
     "metadata": {},
     "output_type": "execute_result"
    }
   ],
   "source": [
    "reduce(lambda a, b: a*b, range(1, 11))"
   ]
  },
  {
   "cell_type": "code",
   "execution_count": 23,
   "id": "2d630f64",
   "metadata": {},
   "outputs": [
    {
     "data": {
      "text/plain": [
       "<map at 0x1108f9b80>"
      ]
     },
     "execution_count": 23,
     "metadata": {},
     "output_type": "execute_result"
    }
   ],
   "source": [
    "map(dict.keys, dl)"
   ]
  },
  {
   "cell_type": "code",
   "execution_count": 24,
   "id": "74ba8326",
   "metadata": {},
   "outputs": [
    {
     "data": {
      "text/plain": [
       "[dict_keys(['e', 'f', 'c', 'b', 'a']),\n",
       " dict_keys(['b', 'a', 'f', 'd', 'h']),\n",
       " dict_keys(['g', 'b', 'd', 'a', 'c', 'h'])]"
      ]
     },
     "execution_count": 24,
     "metadata": {},
     "output_type": "execute_result"
    }
   ],
   "source": [
    "list(map(dict.keys, dl))"
   ]
  },
  {
   "cell_type": "code",
   "execution_count": 25,
   "id": "be8356fa",
   "metadata": {},
   "outputs": [
    {
     "data": {
      "text/plain": [
       "{'a', 'b'}"
      ]
     },
     "execution_count": 25,
     "metadata": {},
     "output_type": "execute_result"
    }
   ],
   "source": [
    "reduce(lambda a, b: a&b, map(dict.keys, dl))"
   ]
  },
  {
   "cell_type": "code",
   "execution_count": 26,
   "id": "8b8fc1ef",
   "metadata": {},
   "outputs": [
    {
     "name": "stdout",
     "output_type": "stream",
     "text": [
      "3.9.6 (default, Oct 18 2022, 12:41:40) \n",
      "[Clang 14.0.0 (clang-1400.0.29.202)]\n"
     ]
    }
   ],
   "source": [
    "# 查询python版本\n",
    "# <= 3.5 dict的遍历顺序不是稳定的\n",
    "# >= 3.6 dict的遍历顺序是稳定，但是还是建议使用OrderedDict\n",
    "import sys\n",
    "print(sys.version)"
   ]
  },
  {
   "cell_type": "markdown",
   "id": "cb706440",
   "metadata": {},
   "source": [
    "# OrderedDict"
   ]
  },
  {
   "cell_type": "code",
   "execution_count": 27,
   "id": "358e5310",
   "metadata": {},
   "outputs": [],
   "source": [
    "from collections import OrderedDict"
   ]
  },
  {
   "cell_type": "code",
   "execution_count": 28,
   "id": "0f4c17db",
   "metadata": {},
   "outputs": [],
   "source": [
    "od = OrderedDict()"
   ]
  },
  {
   "cell_type": "code",
   "execution_count": 29,
   "id": "3bedd7e1",
   "metadata": {},
   "outputs": [],
   "source": [
    "od['c'] = 1"
   ]
  },
  {
   "cell_type": "code",
   "execution_count": 30,
   "id": "1d207464",
   "metadata": {},
   "outputs": [],
   "source": [
    "od['b'] = 2"
   ]
  },
  {
   "cell_type": "code",
   "execution_count": 31,
   "id": "f718829e",
   "metadata": {},
   "outputs": [],
   "source": [
    "od['a'] = 3"
   ]
  },
  {
   "cell_type": "code",
   "execution_count": 32,
   "id": "a62afcc5",
   "metadata": {},
   "outputs": [
    {
     "data": {
      "text/plain": [
       "odict_keys(['c', 'b', 'a'])"
      ]
     },
     "execution_count": 32,
     "metadata": {},
     "output_type": "execute_result"
    }
   ],
   "source": [
    "od.keys()"
   ]
  },
  {
   "cell_type": "markdown",
   "id": "955be9c4",
   "metadata": {},
   "source": [
    "# prepare data"
   ]
  },
  {
   "cell_type": "code",
   "execution_count": 37,
   "id": "a9a332c8",
   "metadata": {},
   "outputs": [],
   "source": [
    "players = list('abcdefgh')"
   ]
  },
  {
   "cell_type": "code",
   "execution_count": 38,
   "id": "59eb6179",
   "metadata": {},
   "outputs": [
    {
     "data": {
      "text/plain": [
       "['a', 'b', 'c', 'd', 'e', 'f', 'g', 'h']"
      ]
     },
     "execution_count": 38,
     "metadata": {},
     "output_type": "execute_result"
    }
   ],
   "source": [
    "players"
   ]
  },
  {
   "cell_type": "code",
   "execution_count": 39,
   "id": "2fbdf00c",
   "metadata": {},
   "outputs": [],
   "source": [
    "from random import shuffle"
   ]
  },
  {
   "cell_type": "code",
   "execution_count": 40,
   "id": "11e1d290",
   "metadata": {},
   "outputs": [],
   "source": [
    "shuffle(players)"
   ]
  },
  {
   "cell_type": "code",
   "execution_count": 41,
   "id": "62ac6785",
   "metadata": {},
   "outputs": [
    {
     "data": {
      "text/plain": [
       "['c', 'e', 'f', 'h', 'b', 'a', 'g', 'd']"
      ]
     },
     "execution_count": 41,
     "metadata": {},
     "output_type": "execute_result"
    }
   ],
   "source": [
    "players"
   ]
  },
  {
   "cell_type": "markdown",
   "id": "5b84e34e",
   "metadata": {},
   "source": [
    "# 创建成绩表"
   ]
  },
  {
   "cell_type": "code",
   "execution_count": 42,
   "id": "f7993bf9",
   "metadata": {},
   "outputs": [],
   "source": [
    "od = OrderedDict()"
   ]
  },
  {
   "cell_type": "code",
   "execution_count": 43,
   "id": "384e2ecb",
   "metadata": {},
   "outputs": [],
   "source": [
    "for i, p in enumerate(players, 1):\n",
    "    od[p] = i"
   ]
  },
  {
   "cell_type": "code",
   "execution_count": 44,
   "id": "bf9d46b7",
   "metadata": {},
   "outputs": [
    {
     "data": {
      "text/plain": [
       "OrderedDict([('c', 1),\n",
       "             ('e', 2),\n",
       "             ('f', 3),\n",
       "             ('h', 4),\n",
       "             ('b', 5),\n",
       "             ('a', 6),\n",
       "             ('g', 7),\n",
       "             ('d', 8)])"
      ]
     },
     "execution_count": 44,
     "metadata": {},
     "output_type": "execute_result"
    }
   ],
   "source": [
    "od"
   ]
  },
  {
   "cell_type": "code",
   "execution_count": 47,
   "id": "c8ba5657",
   "metadata": {},
   "outputs": [
    {
     "ename": "TypeError",
     "evalue": "'odict_iterator' object is not subscriptable",
     "output_type": "error",
     "traceback": [
      "\u001b[0;31m---------------------------------------------------------------------------\u001b[0m",
      "\u001b[0;31mTypeError\u001b[0m                                 Traceback (most recent call last)",
      "Cell \u001b[0;32mIn[47], line 2\u001b[0m\n\u001b[1;32m      1\u001b[0m \u001b[38;5;66;03m# od不支持切片操作\u001b[39;00m\n\u001b[0;32m----> 2\u001b[0m \u001b[38;5;28;43miter\u001b[39;49m\u001b[43m(\u001b[49m\u001b[43mod\u001b[49m\u001b[43m)\u001b[49m\u001b[43m[\u001b[49m\u001b[38;5;241;43m3\u001b[39;49m\u001b[43m]\u001b[49m\n",
      "\u001b[0;31mTypeError\u001b[0m: 'odict_iterator' object is not subscriptable"
     ]
    }
   ],
   "source": [
    "# od不支持切片操作\n",
    "iter(od)[3]"
   ]
  },
  {
   "cell_type": "code",
   "execution_count": 48,
   "id": "1cb9d57c",
   "metadata": {},
   "outputs": [
    {
     "ename": "TypeError",
     "evalue": "'odict_iterator' object is not subscriptable",
     "output_type": "error",
     "traceback": [
      "\u001b[0;31m---------------------------------------------------------------------------\u001b[0m",
      "\u001b[0;31mTypeError\u001b[0m                                 Traceback (most recent call last)",
      "Cell \u001b[0;32mIn[48], line 1\u001b[0m\n\u001b[0;32m----> 1\u001b[0m \u001b[38;5;28;43miter\u001b[39;49m\u001b[43m(\u001b[49m\u001b[43mod\u001b[49m\u001b[43m)\u001b[49m\u001b[43m[\u001b[49m\u001b[38;5;241;43m3\u001b[39;49m\u001b[43m:\u001b[49m\u001b[38;5;241;43m5\u001b[39;49m\u001b[43m]\u001b[49m\n",
      "\u001b[0;31mTypeError\u001b[0m: 'odict_iterator' object is not subscriptable"
     ]
    }
   ],
   "source": [
    "# od不支持切片操作\n",
    "iter(od)[3:5]"
   ]
  },
  {
   "cell_type": "markdown",
   "id": "4a60d0b6",
   "metadata": {},
   "source": [
    "# 根据名次查询 query_by_order"
   ]
  },
  {
   "cell_type": "code",
   "execution_count": 45,
   "id": "47c97ab3",
   "metadata": {},
   "outputs": [],
   "source": [
    "# islice 让可迭代的容器可以进行切片操作\n",
    "from itertools import islice"
   ]
  },
  {
   "cell_type": "code",
   "execution_count": 46,
   "id": "179c04ef",
   "metadata": {},
   "outputs": [
    {
     "data": {
      "text/plain": [
       "[3, 4, 5]"
      ]
     },
     "execution_count": 46,
     "metadata": {},
     "output_type": "execute_result"
    }
   ],
   "source": [
    "list(islice(range(10), 3, 6))"
   ]
  },
  {
   "cell_type": "code",
   "execution_count": 49,
   "id": "6fdfb439",
   "metadata": {},
   "outputs": [],
   "source": [
    "def query_by_order(d, a, b=None):\n",
    "    a -= 1\n",
    "    if b is None:\n",
    "        b = a + 1\n",
    "    return list(islice(od, a, b))"
   ]
  },
  {
   "cell_type": "code",
   "execution_count": 50,
   "id": "323d390c",
   "metadata": {},
   "outputs": [
    {
     "data": {
      "text/plain": [
       "OrderedDict([('c', 1),\n",
       "             ('e', 2),\n",
       "             ('f', 3),\n",
       "             ('h', 4),\n",
       "             ('b', 5),\n",
       "             ('a', 6),\n",
       "             ('g', 7),\n",
       "             ('d', 8)])"
      ]
     },
     "execution_count": 50,
     "metadata": {},
     "output_type": "execute_result"
    }
   ],
   "source": [
    "od"
   ]
  },
  {
   "cell_type": "code",
   "execution_count": 51,
   "id": "0d13139a",
   "metadata": {},
   "outputs": [
    {
     "data": {
      "text/plain": [
       "['h']"
      ]
     },
     "execution_count": 51,
     "metadata": {},
     "output_type": "execute_result"
    }
   ],
   "source": [
    "query_by_order(od, 4)"
   ]
  },
  {
   "cell_type": "code",
   "execution_count": 52,
   "id": "18933ff0",
   "metadata": {},
   "outputs": [
    {
     "data": {
      "text/plain": [
       "['h', 'b', 'a']"
      ]
     },
     "execution_count": 52,
     "metadata": {},
     "output_type": "execute_result"
    }
   ],
   "source": [
    "query_by_order(od, 4, 6)"
   ]
  },
  {
   "cell_type": "code",
   "execution_count": null,
   "id": "d14747b6",
   "metadata": {},
   "outputs": [],
   "source": []
  }
 ],
 "metadata": {
  "kernelspec": {
   "display_name": "Python 3 (ipykernel)",
   "language": "python",
   "name": "python3"
  },
  "language_info": {
   "codemirror_mode": {
    "name": "ipython",
    "version": 3
   },
   "file_extension": ".py",
   "mimetype": "text/x-python",
   "name": "python",
   "nbconvert_exporter": "python",
   "pygments_lexer": "ipython3",
   "version": "3.9.6"
  }
 },
 "nbformat": 4,
 "nbformat_minor": 5
}
