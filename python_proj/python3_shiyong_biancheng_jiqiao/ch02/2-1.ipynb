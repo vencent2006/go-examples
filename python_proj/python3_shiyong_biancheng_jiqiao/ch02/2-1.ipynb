{
 "cells": [
  {
   "cell_type": "markdown",
   "id": "4ed671ce",
   "metadata": {},
   "source": [
    "# filter data from dict, list, set"
   ]
  },
  {
   "cell_type": "code",
   "execution_count": 1,
   "id": "09894a16",
   "metadata": {},
   "outputs": [],
   "source": [
    "data = [-1, 2, 3, -4, 5]"
   ]
  },
  {
   "cell_type": "code",
   "execution_count": 2,
   "id": "8a2b23b6",
   "metadata": {},
   "outputs": [],
   "source": [
    "res = []"
   ]
  },
  {
   "cell_type": "code",
   "execution_count": 3,
   "id": "68a97a68",
   "metadata": {},
   "outputs": [],
   "source": [
    "for x in data:\n",
    "    if x >= 0:\n",
    "        res.append(x)"
   ]
  },
  {
   "cell_type": "code",
   "execution_count": 4,
   "id": "9c2e36ba",
   "metadata": {},
   "outputs": [
    {
     "data": {
      "text/plain": [
       "[2, 3, 5]"
      ]
     },
     "execution_count": 4,
     "metadata": {},
     "output_type": "execute_result"
    }
   ],
   "source": [
    "res"
   ]
  },
  {
   "cell_type": "markdown",
   "id": "e737737b",
   "metadata": {},
   "source": [
    "## smart solution"
   ]
  },
  {
   "cell_type": "code",
   "execution_count": 5,
   "id": "f048ee2d",
   "metadata": {},
   "outputs": [],
   "source": [
    "from random import randint"
   ]
  },
  {
   "cell_type": "code",
   "execution_count": 6,
   "id": "d43f251d",
   "metadata": {},
   "outputs": [],
   "source": [
    "randint?"
   ]
  },
  {
   "cell_type": "markdown",
   "id": "6b0cb0ee",
   "metadata": {},
   "source": [
    "# question 1"
   ]
  },
  {
   "cell_type": "code",
   "execution_count": 7,
   "id": "9b4241ea",
   "metadata": {},
   "outputs": [],
   "source": [
    "l = [randint(-10, 10) for _ in range(10)]"
   ]
  },
  {
   "cell_type": "code",
   "execution_count": 11,
   "id": "1d8ca7ac",
   "metadata": {},
   "outputs": [
    {
     "data": {
      "text/plain": [
       "[10, 4, -1, -3, 7, 9, -8, 7, -8, 2]"
      ]
     },
     "execution_count": 11,
     "metadata": {},
     "output_type": "execute_result"
    }
   ],
   "source": [
    "l"
   ]
  },
  {
   "cell_type": "markdown",
   "id": "4c52f7f1",
   "metadata": {},
   "source": [
    "## solution 1"
   ]
  },
  {
   "cell_type": "code",
   "execution_count": 12,
   "id": "57fd5132",
   "metadata": {},
   "outputs": [
    {
     "data": {
      "text/plain": [
       "[10, 4, 7, 9, 7, 2]"
      ]
     },
     "execution_count": 12,
     "metadata": {},
     "output_type": "execute_result"
    }
   ],
   "source": [
    "[x for x in l if x >= 0]"
   ]
  },
  {
   "cell_type": "markdown",
   "id": "71f5e0b7",
   "metadata": {},
   "source": [
    "## solution 2"
   ]
  },
  {
   "cell_type": "code",
   "execution_count": 13,
   "id": "f6ecc9c5",
   "metadata": {},
   "outputs": [
    {
     "data": {
      "text/plain": [
       "[10, 4, 7, 9, 7, 2]"
      ]
     },
     "execution_count": 13,
     "metadata": {},
     "output_type": "execute_result"
    }
   ],
   "source": [
    "list(filter(lambda x:x>=0, l))"
   ]
  },
  {
   "cell_type": "markdown",
   "id": "3daef23e",
   "metadata": {},
   "source": [
    "# question 2"
   ]
  },
  {
   "cell_type": "code",
   "execution_count": 15,
   "id": "c8e7d5ef",
   "metadata": {},
   "outputs": [],
   "source": [
    "d = {'student%d'%i:randint(50, 100) for i in range(1,21)}"
   ]
  },
  {
   "cell_type": "code",
   "execution_count": 16,
   "id": "0b56b9b4",
   "metadata": {},
   "outputs": [
    {
     "data": {
      "text/plain": [
       "{'student1': 96,\n",
       " 'student2': 62,\n",
       " 'student3': 66,\n",
       " 'student4': 78,\n",
       " 'student5': 100,\n",
       " 'student6': 95,\n",
       " 'student7': 64,\n",
       " 'student8': 57,\n",
       " 'student9': 83,\n",
       " 'student10': 81,\n",
       " 'student11': 70,\n",
       " 'student12': 89,\n",
       " 'student13': 93,\n",
       " 'student14': 97,\n",
       " 'student15': 73,\n",
       " 'student16': 72,\n",
       " 'student17': 74,\n",
       " 'student18': 83,\n",
       " 'student19': 92,\n",
       " 'student20': 66}"
      ]
     },
     "execution_count": 16,
     "metadata": {},
     "output_type": "execute_result"
    }
   ],
   "source": [
    "d"
   ]
  },
  {
   "cell_type": "markdown",
   "id": "1525cf52",
   "metadata": {},
   "source": [
    "## solution 1"
   ]
  },
  {
   "cell_type": "code",
   "execution_count": 17,
   "id": "63491941",
   "metadata": {},
   "outputs": [
    {
     "data": {
      "text/plain": [
       "{'student1': 96,\n",
       " 'student5': 100,\n",
       " 'student6': 95,\n",
       " 'student13': 93,\n",
       " 'student14': 97,\n",
       " 'student19': 92}"
      ]
     },
     "execution_count": 17,
     "metadata": {},
     "output_type": "execute_result"
    }
   ],
   "source": [
    "{k:v for k, v in d.items() if v >= 90}"
   ]
  },
  {
   "cell_type": "markdown",
   "id": "7a203e09",
   "metadata": {},
   "source": [
    "## solution 2"
   ]
  },
  {
   "cell_type": "code",
   "execution_count": 25,
   "id": "1fa96e8d",
   "metadata": {},
   "outputs": [
    {
     "data": {
      "text/plain": [
       "{'student1': 96,\n",
       " 'student5': 100,\n",
       " 'student6': 95,\n",
       " 'student13': 93,\n",
       " 'student14': 97,\n",
       " 'student19': 92}"
      ]
     },
     "execution_count": 25,
     "metadata": {},
     "output_type": "execute_result"
    }
   ],
   "source": [
    "dict(filter(lambda item:item[1]>=90, d.items()))"
   ]
  },
  {
   "cell_type": "markdown",
   "id": "4e359bcc",
   "metadata": {},
   "source": [
    "# question 3"
   ]
  },
  {
   "cell_type": "code",
   "execution_count": 28,
   "id": "b1f72f9a",
   "metadata": {},
   "outputs": [],
   "source": [
    "s = {randint(0, 20) for _ in range(20)}"
   ]
  },
  {
   "cell_type": "code",
   "execution_count": 29,
   "id": "d5ec9d03",
   "metadata": {},
   "outputs": [
    {
     "data": {
      "text/plain": [
       "{0, 1, 2, 3, 4, 6, 7, 14, 15, 16, 17, 18, 19}"
      ]
     },
     "execution_count": 29,
     "metadata": {},
     "output_type": "execute_result"
    }
   ],
   "source": [
    "s"
   ]
  },
  {
   "cell_type": "code",
   "execution_count": 30,
   "id": "57d74e22",
   "metadata": {},
   "outputs": [
    {
     "data": {
      "text/plain": [
       "{0, 3, 6, 15, 18}"
      ]
     },
     "execution_count": 30,
     "metadata": {},
     "output_type": "execute_result"
    }
   ],
   "source": [
    "{x for x in s if x % 3== 0}"
   ]
  }
 ],
 "metadata": {
  "kernelspec": {
   "display_name": "Python 3 (ipykernel)",
   "language": "python",
   "name": "python3"
  },
  "language_info": {
   "codemirror_mode": {
    "name": "ipython",
    "version": 3
   },
   "file_extension": ".py",
   "mimetype": "text/x-python",
   "name": "python",
   "nbconvert_exporter": "python",
   "pygments_lexer": "ipython3",
   "version": "3.9.6"
  }
 },
 "nbformat": 4,
 "nbformat_minor": 5
}
