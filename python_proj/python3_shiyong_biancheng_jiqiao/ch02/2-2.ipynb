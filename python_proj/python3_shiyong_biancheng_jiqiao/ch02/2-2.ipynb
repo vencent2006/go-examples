{
 "cells": [
  {
   "cell_type": "markdown",
   "id": "52bee5ad",
   "metadata": {},
   "source": [
    "# 方法1： 类似c++的define"
   ]
  },
  {
   "cell_type": "code",
   "execution_count": 31,
   "id": "11a52b5d",
   "metadata": {},
   "outputs": [],
   "source": [
    "NAME, AGE, SEX, EMAIL = range(4)"
   ]
  },
  {
   "cell_type": "code",
   "execution_count": 32,
   "id": "979a9f95",
   "metadata": {},
   "outputs": [],
   "source": [
    "def xxx_func(student):\n",
    "    if student[AGE] < 18:\n",
    "        pass\n",
    "    \n",
    "    if student[SEX] == 'male':\n",
    "        pass\n",
    "    # ..."
   ]
  },
  {
   "cell_type": "code",
   "execution_count": 33,
   "id": "5c342fa7",
   "metadata": {},
   "outputs": [],
   "source": [
    "student = ('Jim', 16, 'male', 'jim8721@gmail.com')"
   ]
  },
  {
   "cell_type": "code",
   "execution_count": 34,
   "id": "f27bc82b",
   "metadata": {},
   "outputs": [],
   "source": [
    "xxx_func(student)"
   ]
  },
  {
   "cell_type": "code",
   "execution_count": null,
   "id": "1d310af8",
   "metadata": {},
   "outputs": [],
   "source": []
  },
  {
   "cell_type": "markdown",
   "id": "92c3b0f6",
   "metadata": {},
   "source": [
    "# 方法2：利用枚举"
   ]
  },
  {
   "cell_type": "code",
   "execution_count": 1,
   "id": "60ea0f89",
   "metadata": {},
   "outputs": [],
   "source": [
    "# student\n",
    "s = ('Jim', 16 , 'male', 'jim8271@gmail.com')"
   ]
  },
  {
   "cell_type": "code",
   "execution_count": 2,
   "id": "14f66762",
   "metadata": {},
   "outputs": [],
   "source": [
    "# teacher\n",
    "t = (34, 'liushuo')"
   ]
  },
  {
   "cell_type": "code",
   "execution_count": 4,
   "id": "d7b0c94c",
   "metadata": {},
   "outputs": [],
   "source": [
    "from enum import IntEnum"
   ]
  },
  {
   "cell_type": "code",
   "execution_count": 5,
   "id": "d7620112",
   "metadata": {},
   "outputs": [],
   "source": [
    "class StudentEnum(IntEnum):\n",
    "    NAME = 0\n",
    "    AGE = 1\n",
    "    SEX = 2\n",
    "    EMAIL = 3"
   ]
  },
  {
   "cell_type": "code",
   "execution_count": 6,
   "id": "ea9d5be2",
   "metadata": {},
   "outputs": [
    {
     "data": {
      "text/plain": [
       "<StudentEnum.NAME: 0>"
      ]
     },
     "execution_count": 6,
     "metadata": {},
     "output_type": "execute_result"
    }
   ],
   "source": [
    "StudentEnum.NAME"
   ]
  },
  {
   "cell_type": "code",
   "execution_count": 7,
   "id": "9995a9cc",
   "metadata": {},
   "outputs": [
    {
     "data": {
      "text/plain": [
       "'Jim'"
      ]
     },
     "execution_count": 7,
     "metadata": {},
     "output_type": "execute_result"
    }
   ],
   "source": [
    "s[StudentEnum.NAME]"
   ]
  },
  {
   "cell_type": "code",
   "execution_count": 8,
   "id": "24dbff35",
   "metadata": {},
   "outputs": [
    {
     "data": {
      "text/plain": [
       "16"
      ]
     },
     "execution_count": 8,
     "metadata": {},
     "output_type": "execute_result"
    }
   ],
   "source": [
    "s[StudentEnum.AGE]"
   ]
  },
  {
   "cell_type": "code",
   "execution_count": 9,
   "id": "29e9aa2c",
   "metadata": {},
   "outputs": [
    {
     "data": {
      "text/plain": [
       "True"
      ]
     },
     "execution_count": 9,
     "metadata": {},
     "output_type": "execute_result"
    }
   ],
   "source": [
    "isinstance(StudentEnum.NAME, int)"
   ]
  },
  {
   "cell_type": "code",
   "execution_count": 10,
   "id": "f64b4fa0",
   "metadata": {},
   "outputs": [
    {
     "data": {
      "text/plain": [
       "False"
      ]
     },
     "execution_count": 10,
     "metadata": {},
     "output_type": "execute_result"
    }
   ],
   "source": [
    "StudentEnum.NAME == 1"
   ]
  },
  {
   "cell_type": "code",
   "execution_count": 11,
   "id": "5ba20840",
   "metadata": {},
   "outputs": [
    {
     "data": {
      "text/plain": [
       "True"
      ]
     },
     "execution_count": 11,
     "metadata": {},
     "output_type": "execute_result"
    }
   ],
   "source": [
    "StudentEnum.NAME == 0"
   ]
  },
  {
   "cell_type": "markdown",
   "id": "2cd73490",
   "metadata": {},
   "source": [
    "# 方法3：命名元组"
   ]
  },
  {
   "cell_type": "code",
   "execution_count": 12,
   "id": "e20a1dbc",
   "metadata": {},
   "outputs": [],
   "source": [
    "from collections import namedtuple"
   ]
  },
  {
   "cell_type": "code",
   "execution_count": 20,
   "id": "614e417e",
   "metadata": {},
   "outputs": [],
   "source": [
    "Stu = namedtuple('Student', ['name', 'age', 'sex', 'email'])"
   ]
  },
  {
   "cell_type": "code",
   "execution_count": 21,
   "id": "909cb781",
   "metadata": {},
   "outputs": [],
   "source": [
    "s2 = Stu('Jim', 16, 'male', 'jim8721@gmail.com')"
   ]
  },
  {
   "cell_type": "code",
   "execution_count": 22,
   "id": "65a440d3",
   "metadata": {},
   "outputs": [
    {
     "data": {
      "text/plain": [
       "Student(name='Jim', age=16, sex='male', email='jim8721@gmail.com')"
      ]
     },
     "execution_count": 22,
     "metadata": {},
     "output_type": "execute_result"
    }
   ],
   "source": [
    "s2"
   ]
  },
  {
   "cell_type": "code",
   "execution_count": 23,
   "id": "7f00b51c",
   "metadata": {},
   "outputs": [
    {
     "data": {
      "text/plain": [
       "True"
      ]
     },
     "execution_count": 23,
     "metadata": {},
     "output_type": "execute_result"
    }
   ],
   "source": [
    "isinstance(s2, tuple)"
   ]
  },
  {
   "cell_type": "code",
   "execution_count": 24,
   "id": "8e0c6973",
   "metadata": {},
   "outputs": [
    {
     "data": {
      "text/plain": [
       "'Jim'"
      ]
     },
     "execution_count": 24,
     "metadata": {},
     "output_type": "execute_result"
    }
   ],
   "source": [
    "s2[0]"
   ]
  },
  {
   "cell_type": "code",
   "execution_count": 25,
   "id": "4c2496d0",
   "metadata": {},
   "outputs": [
    {
     "data": {
      "text/plain": [
       "16"
      ]
     },
     "execution_count": 25,
     "metadata": {},
     "output_type": "execute_result"
    }
   ],
   "source": [
    "s2[1]"
   ]
  },
  {
   "cell_type": "code",
   "execution_count": 26,
   "id": "034fb8e2",
   "metadata": {},
   "outputs": [
    {
     "data": {
      "text/plain": [
       "'Jim'"
      ]
     },
     "execution_count": 26,
     "metadata": {},
     "output_type": "execute_result"
    }
   ],
   "source": [
    "s2.name"
   ]
  },
  {
   "cell_type": "code",
   "execution_count": 27,
   "id": "66a74333",
   "metadata": {},
   "outputs": [
    {
     "data": {
      "text/plain": [
       "16"
      ]
     },
     "execution_count": 27,
     "metadata": {},
     "output_type": "execute_result"
    }
   ],
   "source": [
    "s2.age"
   ]
  },
  {
   "cell_type": "code",
   "execution_count": null,
   "id": "0a03693d",
   "metadata": {},
   "outputs": [],
   "source": []
  }
 ],
 "metadata": {
  "kernelspec": {
   "display_name": "Python 3 (ipykernel)",
   "language": "python",
   "name": "python3"
  },
  "language_info": {
   "codemirror_mode": {
    "name": "ipython",
    "version": 3
   },
   "file_extension": ".py",
   "mimetype": "text/x-python",
   "name": "python",
   "nbconvert_exporter": "python",
   "pygments_lexer": "ipython3",
   "version": "3.9.6"
  }
 },
 "nbformat": 4,
 "nbformat_minor": 5
}
