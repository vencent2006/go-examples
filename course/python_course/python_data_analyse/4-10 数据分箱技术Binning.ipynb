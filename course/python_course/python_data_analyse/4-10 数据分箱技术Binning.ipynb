{
 "cells": [
  {
   "cell_type": "code",
   "execution_count": 1,
   "outputs": [],
   "source": [
    "import numpy as np\n",
    "import pandas as pd\n",
    "from pandas import Series, DataFrame"
   ],
   "metadata": {
    "collapsed": false,
    "pycharm": {
     "name": "#%%\n"
    }
   }
  },
  {
   "cell_type": "code",
   "execution_count": 4,
   "outputs": [],
   "source": [
    "score_list = np.random.randint(25,100,size=20)"
   ],
   "metadata": {
    "collapsed": false,
    "pycharm": {
     "name": "#%%\n"
    }
   }
  },
  {
   "cell_type": "code",
   "execution_count": 5,
   "outputs": [
    {
     "data": {
      "text/plain": "array([89, 94, 96, 35, 95, 94, 78, 83, 52, 69, 74, 97, 82, 44, 61, 26, 88,\n       44, 77, 78])"
     },
     "execution_count": 5,
     "metadata": {},
     "output_type": "execute_result"
    }
   ],
   "source": [
    "score_list"
   ],
   "metadata": {
    "collapsed": false,
    "pycharm": {
     "name": "#%%\n"
    }
   }
  },
  {
   "cell_type": "code",
   "execution_count": 6,
   "outputs": [],
   "source": [
    "bins = [0,59,70,80,100]"
   ],
   "metadata": {
    "collapsed": false,
    "pycharm": {
     "name": "#%%\n"
    }
   }
  },
  {
   "cell_type": "code",
   "execution_count": 7,
   "outputs": [
    {
     "data": {
      "text/plain": "[0, 59, 70, 80, 100]"
     },
     "execution_count": 7,
     "metadata": {},
     "output_type": "execute_result"
    }
   ],
   "source": [
    "bins"
   ],
   "metadata": {
    "collapsed": false,
    "pycharm": {
     "name": "#%%\n"
    }
   }
  },
  {
   "cell_type": "code",
   "execution_count": 9,
   "outputs": [],
   "source": [
    "score_cat = pd.cut(score_list, bins)"
   ],
   "metadata": {
    "collapsed": false,
    "pycharm": {
     "name": "#%%\n"
    }
   }
  },
  {
   "cell_type": "code",
   "execution_count": 10,
   "outputs": [
    {
     "data": {
      "text/plain": "(80, 100]    9\n(0, 59]      5\n(70, 80]     4\n(59, 70]     2\ndtype: int64"
     },
     "execution_count": 10,
     "metadata": {},
     "output_type": "execute_result"
    }
   ],
   "source": [
    "pd.value_counts(score_cat)"
   ],
   "metadata": {
    "collapsed": false,
    "pycharm": {
     "name": "#%%\n"
    }
   }
  },
  {
   "cell_type": "code",
   "execution_count": 11,
   "outputs": [],
   "source": [
    "df = DataFrame()"
   ],
   "metadata": {
    "collapsed": false,
    "pycharm": {
     "name": "#%%\n"
    }
   }
  },
  {
   "cell_type": "code",
   "execution_count": 12,
   "outputs": [],
   "source": [
    "df['score'] = score_list"
   ],
   "metadata": {
    "collapsed": false,
    "pycharm": {
     "name": "#%%\n"
    }
   }
  },
  {
   "cell_type": "code",
   "execution_count": 13,
   "outputs": [
    {
     "data": {
      "text/plain": "    score\n0      89\n1      94\n2      96\n3      35\n4      95\n5      94\n6      78\n7      83\n8      52\n9      69\n10     74\n11     97\n12     82\n13     44\n14     61\n15     26\n16     88\n17     44\n18     77\n19     78",
      "text/html": "<div>\n<style scoped>\n    .dataframe tbody tr th:only-of-type {\n        vertical-align: middle;\n    }\n\n    .dataframe tbody tr th {\n        vertical-align: top;\n    }\n\n    .dataframe thead th {\n        text-align: right;\n    }\n</style>\n<table border=\"1\" class=\"dataframe\">\n  <thead>\n    <tr style=\"text-align: right;\">\n      <th></th>\n      <th>score</th>\n    </tr>\n  </thead>\n  <tbody>\n    <tr>\n      <th>0</th>\n      <td>89</td>\n    </tr>\n    <tr>\n      <th>1</th>\n      <td>94</td>\n    </tr>\n    <tr>\n      <th>2</th>\n      <td>96</td>\n    </tr>\n    <tr>\n      <th>3</th>\n      <td>35</td>\n    </tr>\n    <tr>\n      <th>4</th>\n      <td>95</td>\n    </tr>\n    <tr>\n      <th>5</th>\n      <td>94</td>\n    </tr>\n    <tr>\n      <th>6</th>\n      <td>78</td>\n    </tr>\n    <tr>\n      <th>7</th>\n      <td>83</td>\n    </tr>\n    <tr>\n      <th>8</th>\n      <td>52</td>\n    </tr>\n    <tr>\n      <th>9</th>\n      <td>69</td>\n    </tr>\n    <tr>\n      <th>10</th>\n      <td>74</td>\n    </tr>\n    <tr>\n      <th>11</th>\n      <td>97</td>\n    </tr>\n    <tr>\n      <th>12</th>\n      <td>82</td>\n    </tr>\n    <tr>\n      <th>13</th>\n      <td>44</td>\n    </tr>\n    <tr>\n      <th>14</th>\n      <td>61</td>\n    </tr>\n    <tr>\n      <th>15</th>\n      <td>26</td>\n    </tr>\n    <tr>\n      <th>16</th>\n      <td>88</td>\n    </tr>\n    <tr>\n      <th>17</th>\n      <td>44</td>\n    </tr>\n    <tr>\n      <th>18</th>\n      <td>77</td>\n    </tr>\n    <tr>\n      <th>19</th>\n      <td>78</td>\n    </tr>\n  </tbody>\n</table>\n</div>"
     },
     "execution_count": 13,
     "metadata": {},
     "output_type": "execute_result"
    }
   ],
   "source": [
    "df"
   ],
   "metadata": {
    "collapsed": false,
    "pycharm": {
     "name": "#%%\n"
    }
   }
  },
  {
   "cell_type": "code",
   "execution_count": 15,
   "outputs": [],
   "source": [
    "# 利用pd.util.testing.rands(3)，测试库随机生成student姓名\n",
    "df['student'] = [pd.util.testing.rands(3) for i in range(20) ]"
   ],
   "metadata": {
    "collapsed": false,
    "pycharm": {
     "name": "#%%\n"
    }
   }
  },
  {
   "cell_type": "code",
   "execution_count": 16,
   "outputs": [
    {
     "data": {
      "text/plain": "    score student\n0      89     zcM\n1      94     SgU\n2      96     dK8\n3      35     FIA\n4      95     vCh\n5      94     A84\n6      78     hhQ\n7      83     01T\n8      52     6Rx\n9      69     Hlk\n10     74     Fq0\n11     97     oUK\n12     82     AiC\n13     44     83C\n14     61     0jk\n15     26     YFA\n16     88     bhY\n17     44     wY1\n18     77     x9f\n19     78     PmM",
      "text/html": "<div>\n<style scoped>\n    .dataframe tbody tr th:only-of-type {\n        vertical-align: middle;\n    }\n\n    .dataframe tbody tr th {\n        vertical-align: top;\n    }\n\n    .dataframe thead th {\n        text-align: right;\n    }\n</style>\n<table border=\"1\" class=\"dataframe\">\n  <thead>\n    <tr style=\"text-align: right;\">\n      <th></th>\n      <th>score</th>\n      <th>student</th>\n    </tr>\n  </thead>\n  <tbody>\n    <tr>\n      <th>0</th>\n      <td>89</td>\n      <td>zcM</td>\n    </tr>\n    <tr>\n      <th>1</th>\n      <td>94</td>\n      <td>SgU</td>\n    </tr>\n    <tr>\n      <th>2</th>\n      <td>96</td>\n      <td>dK8</td>\n    </tr>\n    <tr>\n      <th>3</th>\n      <td>35</td>\n      <td>FIA</td>\n    </tr>\n    <tr>\n      <th>4</th>\n      <td>95</td>\n      <td>vCh</td>\n    </tr>\n    <tr>\n      <th>5</th>\n      <td>94</td>\n      <td>A84</td>\n    </tr>\n    <tr>\n      <th>6</th>\n      <td>78</td>\n      <td>hhQ</td>\n    </tr>\n    <tr>\n      <th>7</th>\n      <td>83</td>\n      <td>01T</td>\n    </tr>\n    <tr>\n      <th>8</th>\n      <td>52</td>\n      <td>6Rx</td>\n    </tr>\n    <tr>\n      <th>9</th>\n      <td>69</td>\n      <td>Hlk</td>\n    </tr>\n    <tr>\n      <th>10</th>\n      <td>74</td>\n      <td>Fq0</td>\n    </tr>\n    <tr>\n      <th>11</th>\n      <td>97</td>\n      <td>oUK</td>\n    </tr>\n    <tr>\n      <th>12</th>\n      <td>82</td>\n      <td>AiC</td>\n    </tr>\n    <tr>\n      <th>13</th>\n      <td>44</td>\n      <td>83C</td>\n    </tr>\n    <tr>\n      <th>14</th>\n      <td>61</td>\n      <td>0jk</td>\n    </tr>\n    <tr>\n      <th>15</th>\n      <td>26</td>\n      <td>YFA</td>\n    </tr>\n    <tr>\n      <th>16</th>\n      <td>88</td>\n      <td>bhY</td>\n    </tr>\n    <tr>\n      <th>17</th>\n      <td>44</td>\n      <td>wY1</td>\n    </tr>\n    <tr>\n      <th>18</th>\n      <td>77</td>\n      <td>x9f</td>\n    </tr>\n    <tr>\n      <th>19</th>\n      <td>78</td>\n      <td>PmM</td>\n    </tr>\n  </tbody>\n</table>\n</div>"
     },
     "execution_count": 16,
     "metadata": {},
     "output_type": "execute_result"
    }
   ],
   "source": [
    "df"
   ],
   "metadata": {
    "collapsed": false,
    "pycharm": {
     "name": "#%%\n"
    }
   }
  },
  {
   "cell_type": "code",
   "execution_count": 17,
   "outputs": [
    {
     "data": {
      "text/plain": "0     (80, 100]\n1     (80, 100]\n2     (80, 100]\n3       (0, 59]\n4     (80, 100]\n5     (80, 100]\n6      (70, 80]\n7     (80, 100]\n8       (0, 59]\n9      (59, 70]\n10     (70, 80]\n11    (80, 100]\n12    (80, 100]\n13      (0, 59]\n14     (59, 70]\n15      (0, 59]\n16    (80, 100]\n17      (0, 59]\n18     (70, 80]\n19     (70, 80]\nName: score, dtype: category\nCategories (4, interval[int64, right]): [(0, 59] < (59, 70] < (70, 80] < (80, 100]]"
     },
     "execution_count": 17,
     "metadata": {},
     "output_type": "execute_result"
    }
   ],
   "source": [
    "pd.cut(df['score'], bins)"
   ],
   "metadata": {
    "collapsed": false,
    "pycharm": {
     "name": "#%%\n"
    }
   }
  },
  {
   "cell_type": "code",
   "execution_count": 20,
   "outputs": [],
   "source": [
    "df['Categories'] = pd.cut(df['score'], bins,labels=['Low', 'OK', 'Good', 'Great'])"
   ],
   "metadata": {
    "collapsed": false,
    "pycharm": {
     "name": "#%%\n"
    }
   }
  },
  {
   "cell_type": "code",
   "execution_count": 21,
   "outputs": [
    {
     "data": {
      "text/plain": "    score student Categories\n0      89     zcM      Great\n1      94     SgU      Great\n2      96     dK8      Great\n3      35     FIA        Low\n4      95     vCh      Great\n5      94     A84      Great\n6      78     hhQ       Good\n7      83     01T      Great\n8      52     6Rx        Low\n9      69     Hlk         OK\n10     74     Fq0       Good\n11     97     oUK      Great\n12     82     AiC      Great\n13     44     83C        Low\n14     61     0jk         OK\n15     26     YFA        Low\n16     88     bhY      Great\n17     44     wY1        Low\n18     77     x9f       Good\n19     78     PmM       Good",
      "text/html": "<div>\n<style scoped>\n    .dataframe tbody tr th:only-of-type {\n        vertical-align: middle;\n    }\n\n    .dataframe tbody tr th {\n        vertical-align: top;\n    }\n\n    .dataframe thead th {\n        text-align: right;\n    }\n</style>\n<table border=\"1\" class=\"dataframe\">\n  <thead>\n    <tr style=\"text-align: right;\">\n      <th></th>\n      <th>score</th>\n      <th>student</th>\n      <th>Categories</th>\n    </tr>\n  </thead>\n  <tbody>\n    <tr>\n      <th>0</th>\n      <td>89</td>\n      <td>zcM</td>\n      <td>Great</td>\n    </tr>\n    <tr>\n      <th>1</th>\n      <td>94</td>\n      <td>SgU</td>\n      <td>Great</td>\n    </tr>\n    <tr>\n      <th>2</th>\n      <td>96</td>\n      <td>dK8</td>\n      <td>Great</td>\n    </tr>\n    <tr>\n      <th>3</th>\n      <td>35</td>\n      <td>FIA</td>\n      <td>Low</td>\n    </tr>\n    <tr>\n      <th>4</th>\n      <td>95</td>\n      <td>vCh</td>\n      <td>Great</td>\n    </tr>\n    <tr>\n      <th>5</th>\n      <td>94</td>\n      <td>A84</td>\n      <td>Great</td>\n    </tr>\n    <tr>\n      <th>6</th>\n      <td>78</td>\n      <td>hhQ</td>\n      <td>Good</td>\n    </tr>\n    <tr>\n      <th>7</th>\n      <td>83</td>\n      <td>01T</td>\n      <td>Great</td>\n    </tr>\n    <tr>\n      <th>8</th>\n      <td>52</td>\n      <td>6Rx</td>\n      <td>Low</td>\n    </tr>\n    <tr>\n      <th>9</th>\n      <td>69</td>\n      <td>Hlk</td>\n      <td>OK</td>\n    </tr>\n    <tr>\n      <th>10</th>\n      <td>74</td>\n      <td>Fq0</td>\n      <td>Good</td>\n    </tr>\n    <tr>\n      <th>11</th>\n      <td>97</td>\n      <td>oUK</td>\n      <td>Great</td>\n    </tr>\n    <tr>\n      <th>12</th>\n      <td>82</td>\n      <td>AiC</td>\n      <td>Great</td>\n    </tr>\n    <tr>\n      <th>13</th>\n      <td>44</td>\n      <td>83C</td>\n      <td>Low</td>\n    </tr>\n    <tr>\n      <th>14</th>\n      <td>61</td>\n      <td>0jk</td>\n      <td>OK</td>\n    </tr>\n    <tr>\n      <th>15</th>\n      <td>26</td>\n      <td>YFA</td>\n      <td>Low</td>\n    </tr>\n    <tr>\n      <th>16</th>\n      <td>88</td>\n      <td>bhY</td>\n      <td>Great</td>\n    </tr>\n    <tr>\n      <th>17</th>\n      <td>44</td>\n      <td>wY1</td>\n      <td>Low</td>\n    </tr>\n    <tr>\n      <th>18</th>\n      <td>77</td>\n      <td>x9f</td>\n      <td>Good</td>\n    </tr>\n    <tr>\n      <th>19</th>\n      <td>78</td>\n      <td>PmM</td>\n      <td>Good</td>\n    </tr>\n  </tbody>\n</table>\n</div>"
     },
     "execution_count": 21,
     "metadata": {},
     "output_type": "execute_result"
    }
   ],
   "source": [
    "df"
   ],
   "metadata": {
    "collapsed": false,
    "pycharm": {
     "name": "#%%\n"
    }
   }
  },
  {
   "cell_type": "code",
   "execution_count": null,
   "outputs": [],
   "source": [],
   "metadata": {
    "collapsed": false,
    "pycharm": {
     "name": "#%%\n"
    }
   }
  }
 ],
 "metadata": {
  "kernelspec": {
   "display_name": "Python 3",
   "language": "python",
   "name": "python3"
  },
  "language_info": {
   "codemirror_mode": {
    "name": "ipython",
    "version": 2
   },
   "file_extension": ".py",
   "mimetype": "text/x-python",
   "name": "python",
   "nbconvert_exporter": "python",
   "pygments_lexer": "ipython2",
   "version": "2.7.6"
  }
 },
 "nbformat": 4,
 "nbformat_minor": 0
}