{
 "cells": [
  {
   "cell_type": "code",
   "execution_count": 82,
   "outputs": [],
   "source": [
    "import numpy as np\n",
    "import pandas as pd\n",
    "from pandas import Series, DataFrame"
   ],
   "metadata": {
    "collapsed": false,
    "pycharm": {
     "name": "#%%\n"
    }
   }
  },
  {
   "cell_type": "code",
   "execution_count": 83,
   "outputs": [
    {
     "name": "stdout",
     "output_type": "stream",
     "text": [
      "apply_demo.csv     iris.csv           movie_metadata.csv\r\n"
     ]
    }
   ],
   "source": [
    "!ls ./homework"
   ],
   "metadata": {
    "collapsed": false,
    "pycharm": {
     "name": "#%%\n"
    }
   }
  },
  {
   "cell_type": "code",
   "execution_count": 84,
   "outputs": [],
   "source": [
    "df = pd.read_csv('./homework/apply_demo.csv')"
   ],
   "metadata": {
    "collapsed": false,
    "pycharm": {
     "name": "#%%\n"
    }
   }
  },
  {
   "cell_type": "code",
   "execution_count": 85,
   "outputs": [
    {
     "data": {
      "text/plain": "         time                                data\n0  1473411962   Symbol: APPL Seqno: 0 Price: 1623\n1  1473411962   Symbol: APPL Seqno: 0 Price: 1623\n2  1473411963   Symbol: APPL Seqno: 0 Price: 1623\n3  1473411963   Symbol: APPL Seqno: 0 Price: 1623\n4  1473411963   Symbol: APPL Seqno: 1 Price: 1649",
      "text/html": "<div>\n<style scoped>\n    .dataframe tbody tr th:only-of-type {\n        vertical-align: middle;\n    }\n\n    .dataframe tbody tr th {\n        vertical-align: top;\n    }\n\n    .dataframe thead th {\n        text-align: right;\n    }\n</style>\n<table border=\"1\" class=\"dataframe\">\n  <thead>\n    <tr style=\"text-align: right;\">\n      <th></th>\n      <th>time</th>\n      <th>data</th>\n    </tr>\n  </thead>\n  <tbody>\n    <tr>\n      <th>0</th>\n      <td>1473411962</td>\n      <td>Symbol: APPL Seqno: 0 Price: 1623</td>\n    </tr>\n    <tr>\n      <th>1</th>\n      <td>1473411962</td>\n      <td>Symbol: APPL Seqno: 0 Price: 1623</td>\n    </tr>\n    <tr>\n      <th>2</th>\n      <td>1473411963</td>\n      <td>Symbol: APPL Seqno: 0 Price: 1623</td>\n    </tr>\n    <tr>\n      <th>3</th>\n      <td>1473411963</td>\n      <td>Symbol: APPL Seqno: 0 Price: 1623</td>\n    </tr>\n    <tr>\n      <th>4</th>\n      <td>1473411963</td>\n      <td>Symbol: APPL Seqno: 1 Price: 1649</td>\n    </tr>\n  </tbody>\n</table>\n</div>"
     },
     "execution_count": 85,
     "metadata": {},
     "output_type": "execute_result"
    }
   ],
   "source": [
    "df.head()"
   ],
   "metadata": {
    "collapsed": false,
    "pycharm": {
     "name": "#%%\n"
    }
   }
  },
  {
   "cell_type": "code",
   "execution_count": 86,
   "outputs": [
    {
     "data": {
      "text/plain": "7978"
     },
     "execution_count": 86,
     "metadata": {},
     "output_type": "execute_result"
    }
   ],
   "source": [
    "df.size"
   ],
   "metadata": {
    "collapsed": false,
    "pycharm": {
     "name": "#%%\n"
    }
   }
  },
  {
   "cell_type": "code",
   "execution_count": 87,
   "outputs": [
    {
     "data": {
      "text/plain": "(3989, 2)"
     },
     "execution_count": 87,
     "metadata": {},
     "output_type": "execute_result"
    }
   ],
   "source": [
    "df.shape"
   ],
   "metadata": {
    "collapsed": false,
    "pycharm": {
     "name": "#%%\n"
    }
   }
  },
  {
   "cell_type": "code",
   "execution_count": 88,
   "outputs": [],
   "source": [
    "s1 = Series(['a']*7978)"
   ],
   "metadata": {
    "collapsed": false,
    "pycharm": {
     "name": "#%%\n"
    }
   }
  },
  {
   "cell_type": "code",
   "execution_count": 89,
   "outputs": [],
   "source": [
    "df['A'] = s1"
   ],
   "metadata": {
    "collapsed": false,
    "pycharm": {
     "name": "#%%\n"
    }
   }
  },
  {
   "cell_type": "code",
   "execution_count": 90,
   "outputs": [
    {
     "data": {
      "text/plain": "         time                                data  A\n0  1473411962   Symbol: APPL Seqno: 0 Price: 1623  a\n1  1473411962   Symbol: APPL Seqno: 0 Price: 1623  a\n2  1473411963   Symbol: APPL Seqno: 0 Price: 1623  a\n3  1473411963   Symbol: APPL Seqno: 0 Price: 1623  a\n4  1473411963   Symbol: APPL Seqno: 1 Price: 1649  a",
      "text/html": "<div>\n<style scoped>\n    .dataframe tbody tr th:only-of-type {\n        vertical-align: middle;\n    }\n\n    .dataframe tbody tr th {\n        vertical-align: top;\n    }\n\n    .dataframe thead th {\n        text-align: right;\n    }\n</style>\n<table border=\"1\" class=\"dataframe\">\n  <thead>\n    <tr style=\"text-align: right;\">\n      <th></th>\n      <th>time</th>\n      <th>data</th>\n      <th>A</th>\n    </tr>\n  </thead>\n  <tbody>\n    <tr>\n      <th>0</th>\n      <td>1473411962</td>\n      <td>Symbol: APPL Seqno: 0 Price: 1623</td>\n      <td>a</td>\n    </tr>\n    <tr>\n      <th>1</th>\n      <td>1473411962</td>\n      <td>Symbol: APPL Seqno: 0 Price: 1623</td>\n      <td>a</td>\n    </tr>\n    <tr>\n      <th>2</th>\n      <td>1473411963</td>\n      <td>Symbol: APPL Seqno: 0 Price: 1623</td>\n      <td>a</td>\n    </tr>\n    <tr>\n      <th>3</th>\n      <td>1473411963</td>\n      <td>Symbol: APPL Seqno: 0 Price: 1623</td>\n      <td>a</td>\n    </tr>\n    <tr>\n      <th>4</th>\n      <td>1473411963</td>\n      <td>Symbol: APPL Seqno: 1 Price: 1649</td>\n      <td>a</td>\n    </tr>\n  </tbody>\n</table>\n</div>"
     },
     "execution_count": 90,
     "metadata": {},
     "output_type": "execute_result"
    }
   ],
   "source": [
    "df.head()"
   ],
   "metadata": {
    "collapsed": false,
    "pycharm": {
     "name": "#%%\n"
    }
   }
  },
  {
   "cell_type": "code",
   "execution_count": 91,
   "outputs": [],
   "source": [
    "df['A'] = df['A'].apply(str.upper)"
   ],
   "metadata": {
    "collapsed": false,
    "pycharm": {
     "name": "#%%\n"
    }
   }
  },
  {
   "cell_type": "code",
   "execution_count": 92,
   "outputs": [
    {
     "data": {
      "text/plain": "         time                                data  A\n0  1473411962   Symbol: APPL Seqno: 0 Price: 1623  A\n1  1473411962   Symbol: APPL Seqno: 0 Price: 1623  A\n2  1473411963   Symbol: APPL Seqno: 0 Price: 1623  A\n3  1473411963   Symbol: APPL Seqno: 0 Price: 1623  A\n4  1473411963   Symbol: APPL Seqno: 1 Price: 1649  A",
      "text/html": "<div>\n<style scoped>\n    .dataframe tbody tr th:only-of-type {\n        vertical-align: middle;\n    }\n\n    .dataframe tbody tr th {\n        vertical-align: top;\n    }\n\n    .dataframe thead th {\n        text-align: right;\n    }\n</style>\n<table border=\"1\" class=\"dataframe\">\n  <thead>\n    <tr style=\"text-align: right;\">\n      <th></th>\n      <th>time</th>\n      <th>data</th>\n      <th>A</th>\n    </tr>\n  </thead>\n  <tbody>\n    <tr>\n      <th>0</th>\n      <td>1473411962</td>\n      <td>Symbol: APPL Seqno: 0 Price: 1623</td>\n      <td>A</td>\n    </tr>\n    <tr>\n      <th>1</th>\n      <td>1473411962</td>\n      <td>Symbol: APPL Seqno: 0 Price: 1623</td>\n      <td>A</td>\n    </tr>\n    <tr>\n      <th>2</th>\n      <td>1473411963</td>\n      <td>Symbol: APPL Seqno: 0 Price: 1623</td>\n      <td>A</td>\n    </tr>\n    <tr>\n      <th>3</th>\n      <td>1473411963</td>\n      <td>Symbol: APPL Seqno: 0 Price: 1623</td>\n      <td>A</td>\n    </tr>\n    <tr>\n      <th>4</th>\n      <td>1473411963</td>\n      <td>Symbol: APPL Seqno: 1 Price: 1649</td>\n      <td>A</td>\n    </tr>\n  </tbody>\n</table>\n</div>"
     },
     "execution_count": 92,
     "metadata": {},
     "output_type": "execute_result"
    }
   ],
   "source": [
    "df.head()"
   ],
   "metadata": {
    "collapsed": false,
    "pycharm": {
     "name": "#%%\n"
    }
   }
  },
  {
   "cell_type": "code",
   "execution_count": 93,
   "outputs": [
    {
     "data": {
      "text/plain": "' Symbol: APPL Seqno: 0 Price: 1623'"
     },
     "execution_count": 93,
     "metadata": {},
     "output_type": "execute_result"
    }
   ],
   "source": [
    "df['data'][0]"
   ],
   "metadata": {
    "collapsed": false,
    "pycharm": {
     "name": "#%%\n"
    }
   }
  },
  {
   "cell_type": "code",
   "execution_count": 94,
   "outputs": [],
   "source": [
    "l1 = df['data'][0].strip().split(' ')"
   ],
   "metadata": {
    "collapsed": false,
    "pycharm": {
     "name": "#%%\n"
    }
   }
  },
  {
   "cell_type": "code",
   "execution_count": 95,
   "outputs": [
    {
     "data": {
      "text/plain": "['Symbol:', 'APPL', 'Seqno:', '0', 'Price:', '1623']"
     },
     "execution_count": 95,
     "metadata": {},
     "output_type": "execute_result"
    }
   ],
   "source": [
    "l1"
   ],
   "metadata": {
    "collapsed": false,
    "pycharm": {
     "name": "#%%\n"
    }
   }
  },
  {
   "cell_type": "code",
   "execution_count": 96,
   "outputs": [
    {
     "data": {
      "text/plain": "('APPL', '0', '1623')"
     },
     "execution_count": 96,
     "metadata": {},
     "output_type": "execute_result"
    }
   ],
   "source": [
    "l1[1], l1[3], l1[5]"
   ],
   "metadata": {
    "collapsed": false,
    "pycharm": {
     "name": "#%%\n"
    }
   }
  },
  {
   "cell_type": "code",
   "execution_count": 97,
   "outputs": [],
   "source": [
    "def foo(line):\n",
    "    items = line.strip().split(' ')\n",
    "    return Series([items[1], items[3], items[5]])"
   ],
   "metadata": {
    "collapsed": false,
    "pycharm": {
     "name": "#%%\n"
    }
   }
  },
  {
   "cell_type": "code",
   "execution_count": 98,
   "outputs": [],
   "source": [
    "df_tmp = df['data'].apply(foo)"
   ],
   "metadata": {
    "collapsed": false,
    "pycharm": {
     "name": "#%%\n"
    }
   }
  },
  {
   "cell_type": "code",
   "execution_count": 99,
   "outputs": [
    {
     "data": {
      "text/plain": "      0  1     2\n0  APPL  0  1623\n1  APPL  0  1623\n2  APPL  0  1623\n3  APPL  0  1623\n4  APPL  1  1649",
      "text/html": "<div>\n<style scoped>\n    .dataframe tbody tr th:only-of-type {\n        vertical-align: middle;\n    }\n\n    .dataframe tbody tr th {\n        vertical-align: top;\n    }\n\n    .dataframe thead th {\n        text-align: right;\n    }\n</style>\n<table border=\"1\" class=\"dataframe\">\n  <thead>\n    <tr style=\"text-align: right;\">\n      <th></th>\n      <th>0</th>\n      <th>1</th>\n      <th>2</th>\n    </tr>\n  </thead>\n  <tbody>\n    <tr>\n      <th>0</th>\n      <td>APPL</td>\n      <td>0</td>\n      <td>1623</td>\n    </tr>\n    <tr>\n      <th>1</th>\n      <td>APPL</td>\n      <td>0</td>\n      <td>1623</td>\n    </tr>\n    <tr>\n      <th>2</th>\n      <td>APPL</td>\n      <td>0</td>\n      <td>1623</td>\n    </tr>\n    <tr>\n      <th>3</th>\n      <td>APPL</td>\n      <td>0</td>\n      <td>1623</td>\n    </tr>\n    <tr>\n      <th>4</th>\n      <td>APPL</td>\n      <td>1</td>\n      <td>1649</td>\n    </tr>\n  </tbody>\n</table>\n</div>"
     },
     "execution_count": 99,
     "metadata": {},
     "output_type": "execute_result"
    }
   ],
   "source": [
    "df_tmp.head()"
   ],
   "metadata": {
    "collapsed": false,
    "pycharm": {
     "name": "#%%\n"
    }
   }
  },
  {
   "cell_type": "markdown",
   "source": [],
   "metadata": {
    "collapsed": false,
    "pycharm": {
     "name": "#%% md\n"
    }
   }
  },
  {
   "cell_type": "code",
   "execution_count": 100,
   "outputs": [],
   "source": [
    "df_tmp = df_tmp.rename(columns={0:\"Symbol\", 1:\"Seqno\", 2:\"Price\"})"
   ],
   "metadata": {
    "collapsed": false,
    "pycharm": {
     "name": "#%%\n"
    }
   }
  },
  {
   "cell_type": "code",
   "execution_count": 101,
   "outputs": [
    {
     "data": {
      "text/plain": "  Symbol Seqno Price\n0   APPL     0  1623\n1   APPL     0  1623\n2   APPL     0  1623\n3   APPL     0  1623\n4   APPL     1  1649",
      "text/html": "<div>\n<style scoped>\n    .dataframe tbody tr th:only-of-type {\n        vertical-align: middle;\n    }\n\n    .dataframe tbody tr th {\n        vertical-align: top;\n    }\n\n    .dataframe thead th {\n        text-align: right;\n    }\n</style>\n<table border=\"1\" class=\"dataframe\">\n  <thead>\n    <tr style=\"text-align: right;\">\n      <th></th>\n      <th>Symbol</th>\n      <th>Seqno</th>\n      <th>Price</th>\n    </tr>\n  </thead>\n  <tbody>\n    <tr>\n      <th>0</th>\n      <td>APPL</td>\n      <td>0</td>\n      <td>1623</td>\n    </tr>\n    <tr>\n      <th>1</th>\n      <td>APPL</td>\n      <td>0</td>\n      <td>1623</td>\n    </tr>\n    <tr>\n      <th>2</th>\n      <td>APPL</td>\n      <td>0</td>\n      <td>1623</td>\n    </tr>\n    <tr>\n      <th>3</th>\n      <td>APPL</td>\n      <td>0</td>\n      <td>1623</td>\n    </tr>\n    <tr>\n      <th>4</th>\n      <td>APPL</td>\n      <td>1</td>\n      <td>1649</td>\n    </tr>\n  </tbody>\n</table>\n</div>"
     },
     "execution_count": 101,
     "metadata": {},
     "output_type": "execute_result"
    }
   ],
   "source": [
    "df_tmp.head()"
   ],
   "metadata": {
    "collapsed": false,
    "pycharm": {
     "name": "#%%\n"
    }
   }
  },
  {
   "cell_type": "code",
   "execution_count": 102,
   "outputs": [
    {
     "data": {
      "text/plain": "11967"
     },
     "execution_count": 102,
     "metadata": {},
     "output_type": "execute_result"
    }
   ],
   "source": [
    "df_tmp.size"
   ],
   "metadata": {
    "collapsed": false,
    "pycharm": {
     "name": "#%%\n"
    }
   }
  },
  {
   "cell_type": "code",
   "execution_count": 103,
   "outputs": [
    {
     "data": {
      "text/plain": "       Symbol Seqno Price\ncount    3989  3989  3989\nunique      1  1000   199\ntop      APPL     0  1612\nfreq     3989     4    56",
      "text/html": "<div>\n<style scoped>\n    .dataframe tbody tr th:only-of-type {\n        vertical-align: middle;\n    }\n\n    .dataframe tbody tr th {\n        vertical-align: top;\n    }\n\n    .dataframe thead th {\n        text-align: right;\n    }\n</style>\n<table border=\"1\" class=\"dataframe\">\n  <thead>\n    <tr style=\"text-align: right;\">\n      <th></th>\n      <th>Symbol</th>\n      <th>Seqno</th>\n      <th>Price</th>\n    </tr>\n  </thead>\n  <tbody>\n    <tr>\n      <th>count</th>\n      <td>3989</td>\n      <td>3989</td>\n      <td>3989</td>\n    </tr>\n    <tr>\n      <th>unique</th>\n      <td>1</td>\n      <td>1000</td>\n      <td>199</td>\n    </tr>\n    <tr>\n      <th>top</th>\n      <td>APPL</td>\n      <td>0</td>\n      <td>1612</td>\n    </tr>\n    <tr>\n      <th>freq</th>\n      <td>3989</td>\n      <td>4</td>\n      <td>56</td>\n    </tr>\n  </tbody>\n</table>\n</div>"
     },
     "execution_count": 103,
     "metadata": {},
     "output_type": "execute_result"
    }
   ],
   "source": [
    "df_tmp.describe()"
   ],
   "metadata": {
    "collapsed": false,
    "pycharm": {
     "name": "#%%\n"
    }
   }
  },
  {
   "cell_type": "code",
   "execution_count": 104,
   "outputs": [],
   "source": [
    "df_new = df.combine_first(df_tmp)"
   ],
   "metadata": {
    "collapsed": false,
    "pycharm": {
     "name": "#%%\n"
    }
   }
  },
  {
   "cell_type": "code",
   "execution_count": 105,
   "outputs": [],
   "source": [
    "del df_new['data']"
   ],
   "metadata": {
    "collapsed": false,
    "pycharm": {
     "name": "#%%\n"
    }
   }
  },
  {
   "cell_type": "code",
   "execution_count": 108,
   "outputs": [],
   "source": [
    "del df_new['A']"
   ],
   "metadata": {
    "collapsed": false,
    "pycharm": {
     "name": "#%%\n"
    }
   }
  },
  {
   "cell_type": "code",
   "execution_count": 109,
   "outputs": [
    {
     "data": {
      "text/plain": "  Price Seqno Symbol        time\n0  1623     0   APPL  1473411962\n1  1623     0   APPL  1473411962\n2  1623     0   APPL  1473411963\n3  1623     0   APPL  1473411963\n4  1649     1   APPL  1473411963",
      "text/html": "<div>\n<style scoped>\n    .dataframe tbody tr th:only-of-type {\n        vertical-align: middle;\n    }\n\n    .dataframe tbody tr th {\n        vertical-align: top;\n    }\n\n    .dataframe thead th {\n        text-align: right;\n    }\n</style>\n<table border=\"1\" class=\"dataframe\">\n  <thead>\n    <tr style=\"text-align: right;\">\n      <th></th>\n      <th>Price</th>\n      <th>Seqno</th>\n      <th>Symbol</th>\n      <th>time</th>\n    </tr>\n  </thead>\n  <tbody>\n    <tr>\n      <th>0</th>\n      <td>1623</td>\n      <td>0</td>\n      <td>APPL</td>\n      <td>1473411962</td>\n    </tr>\n    <tr>\n      <th>1</th>\n      <td>1623</td>\n      <td>0</td>\n      <td>APPL</td>\n      <td>1473411962</td>\n    </tr>\n    <tr>\n      <th>2</th>\n      <td>1623</td>\n      <td>0</td>\n      <td>APPL</td>\n      <td>1473411963</td>\n    </tr>\n    <tr>\n      <th>3</th>\n      <td>1623</td>\n      <td>0</td>\n      <td>APPL</td>\n      <td>1473411963</td>\n    </tr>\n    <tr>\n      <th>4</th>\n      <td>1649</td>\n      <td>1</td>\n      <td>APPL</td>\n      <td>1473411963</td>\n    </tr>\n  </tbody>\n</table>\n</div>"
     },
     "execution_count": 109,
     "metadata": {},
     "output_type": "execute_result"
    }
   ],
   "source": [
    "df_new.head()"
   ],
   "metadata": {
    "collapsed": false,
    "pycharm": {
     "name": "#%%\n"
    }
   }
  },
  {
   "cell_type": "code",
   "execution_count": 115,
   "outputs": [
    {
     "data": {
      "text/plain": "(3989, 4)"
     },
     "execution_count": 115,
     "metadata": {},
     "output_type": "execute_result"
    }
   ],
   "source": [
    "df_new.shape"
   ],
   "metadata": {
    "collapsed": false,
    "pycharm": {
     "name": "#%%\n"
    }
   }
  },
  {
   "cell_type": "code",
   "execution_count": 125,
   "outputs": [],
   "source": [
    "df_new.to_csv('demo_duplicate.csv')"
   ],
   "metadata": {
    "collapsed": false,
    "pycharm": {
     "name": "#%%\n"
    }
   }
  },
  {
   "cell_type": "code",
   "execution_count": 126,
   "outputs": [
    {
     "name": "stdout",
     "output_type": "stream",
     "text": [
      "apply_demo.csv     demo_duplicate.csv iris.csv           movie_metadata.csv\r\n"
     ]
    }
   ],
   "source": [
    "!ls ./homework"
   ],
   "metadata": {
    "collapsed": false,
    "pycharm": {
     "name": "#%%\n"
    }
   }
  },
  {
   "cell_type": "code",
   "execution_count": 127,
   "outputs": [
    {
     "name": "stdout",
     "output_type": "stream",
     "text": [
      "apply_demo.csv     demo_duplicate.csv iris.csv           movie_metadata.csv\r\n"
     ]
    }
   ],
   "source": [
    "!ls homework"
   ],
   "metadata": {
    "collapsed": false,
    "pycharm": {
     "name": "#%%\n"
    }
   }
  },
  {
   "cell_type": "code",
   "execution_count": null,
   "outputs": [],
   "source": [],
   "metadata": {
    "collapsed": false,
    "pycharm": {
     "name": "#%%\n"
    }
   }
  }
 ],
 "metadata": {
  "kernelspec": {
   "display_name": "Python 3",
   "language": "python",
   "name": "python3"
  },
  "language_info": {
   "codemirror_mode": {
    "name": "ipython",
    "version": 2
   },
   "file_extension": ".py",
   "mimetype": "text/x-python",
   "name": "python",
   "nbconvert_exporter": "python",
   "pygments_lexer": "ipython2",
   "version": "2.7.6"
  }
 },
 "nbformat": 4,
 "nbformat_minor": 0
}