{
 "cells": [
  {
   "cell_type": "code",
   "execution_count": 1,
   "outputs": [],
   "source": [
    "import numpy as np\n",
    "import pandas as pd\n",
    "from pandas import Series, DataFrame"
   ],
   "metadata": {
    "collapsed": false,
    "pycharm": {
     "name": "#%%\n"
    }
   }
  },
  {
   "cell_type": "code",
   "execution_count": 2,
   "outputs": [],
   "source": [
    "from datetime import datetime\n",
    "t1 = datetime(2009, 10, 20)"
   ],
   "metadata": {
    "collapsed": false,
    "pycharm": {
     "name": "#%%\n"
    }
   }
  },
  {
   "cell_type": "code",
   "execution_count": 3,
   "outputs": [
    {
     "data": {
      "text/plain": "datetime.datetime(2009, 10, 20, 0, 0)"
     },
     "execution_count": 3,
     "metadata": {},
     "output_type": "execute_result"
    }
   ],
   "source": [
    "t1"
   ],
   "metadata": {
    "collapsed": false,
    "pycharm": {
     "name": "#%%\n"
    }
   }
  },
  {
   "cell_type": "code",
   "execution_count": 4,
   "outputs": [],
   "source": [
    "date_list = [\n",
    "    datetime(2016,9,1),\n",
    "    datetime(2016,9,10),\n",
    "    datetime(2017,9,1),\n",
    "    datetime(2017,9,20),\n",
    "    datetime(2017,10,1)\n",
    "]"
   ],
   "metadata": {
    "collapsed": false,
    "pycharm": {
     "name": "#%%\n"
    }
   }
  },
  {
   "cell_type": "code",
   "execution_count": 5,
   "outputs": [
    {
     "data": {
      "text/plain": "[datetime.datetime(2016, 9, 1, 0, 0),\n datetime.datetime(2016, 9, 10, 0, 0),\n datetime.datetime(2017, 9, 1, 0, 0),\n datetime.datetime(2017, 9, 20, 0, 0),\n datetime.datetime(2017, 10, 1, 0, 0)]"
     },
     "execution_count": 5,
     "metadata": {},
     "output_type": "execute_result"
    }
   ],
   "source": [
    "date_list"
   ],
   "metadata": {
    "collapsed": false,
    "pycharm": {
     "name": "#%%\n"
    }
   }
  },
  {
   "cell_type": "code",
   "execution_count": 6,
   "outputs": [],
   "source": [
    "s1 = Series(np.random.rand(5), index=date_list)"
   ],
   "metadata": {
    "collapsed": false,
    "pycharm": {
     "name": "#%%\n"
    }
   }
  },
  {
   "cell_type": "code",
   "execution_count": 7,
   "outputs": [
    {
     "data": {
      "text/plain": "2016-09-01    0.302216\n2016-09-10    0.291683\n2017-09-01    0.197645\n2017-09-20    0.946779\n2017-10-01    0.834368\ndtype: float64"
     },
     "execution_count": 7,
     "metadata": {},
     "output_type": "execute_result"
    }
   ],
   "source": [
    "s1"
   ],
   "metadata": {
    "collapsed": false,
    "pycharm": {
     "name": "#%%\n"
    }
   }
  },
  {
   "cell_type": "code",
   "execution_count": 8,
   "outputs": [
    {
     "data": {
      "text/plain": "array([0.30221618, 0.29168275, 0.19764544, 0.94677872, 0.83436839])"
     },
     "execution_count": 8,
     "metadata": {},
     "output_type": "execute_result"
    }
   ],
   "source": [
    "s1.values"
   ],
   "metadata": {
    "collapsed": false,
    "pycharm": {
     "name": "#%%\n"
    }
   }
  },
  {
   "cell_type": "code",
   "execution_count": 9,
   "outputs": [
    {
     "data": {
      "text/plain": "DatetimeIndex(['2016-09-01', '2016-09-10', '2017-09-01', '2017-09-20',\n               '2017-10-01'],\n              dtype='datetime64[ns]', freq=None)"
     },
     "execution_count": 9,
     "metadata": {},
     "output_type": "execute_result"
    }
   ],
   "source": [
    "s1.index"
   ],
   "metadata": {
    "collapsed": false,
    "pycharm": {
     "name": "#%%\n"
    }
   }
  },
  {
   "cell_type": "code",
   "execution_count": 11,
   "outputs": [
    {
     "data": {
      "text/plain": "0.29168274688903295"
     },
     "execution_count": 11,
     "metadata": {},
     "output_type": "execute_result"
    }
   ],
   "source": [
    "s1[1]"
   ],
   "metadata": {
    "collapsed": false,
    "pycharm": {
     "name": "#%%\n"
    }
   }
  },
  {
   "cell_type": "code",
   "execution_count": 12,
   "outputs": [
    {
     "data": {
      "text/plain": "0.29168274688903295"
     },
     "execution_count": 12,
     "metadata": {},
     "output_type": "execute_result"
    }
   ],
   "source": [
    "s1[datetime(2016,9,10)]"
   ],
   "metadata": {
    "collapsed": false,
    "pycharm": {
     "name": "#%%\n"
    }
   }
  },
  {
   "cell_type": "code",
   "execution_count": 13,
   "outputs": [
    {
     "data": {
      "text/plain": "0.29168274688903295"
     },
     "execution_count": 13,
     "metadata": {},
     "output_type": "execute_result"
    }
   ],
   "source": [
    "s1['2016-9-10']"
   ],
   "metadata": {
    "collapsed": false,
    "pycharm": {
     "name": "#%%\n"
    }
   }
  },
  {
   "cell_type": "code",
   "execution_count": 14,
   "outputs": [
    {
     "data": {
      "text/plain": "0.29168274688903295"
     },
     "execution_count": 14,
     "metadata": {},
     "output_type": "execute_result"
    }
   ],
   "source": [
    "s1['20160910']"
   ],
   "metadata": {
    "collapsed": false,
    "pycharm": {
     "name": "#%%\n"
    }
   }
  },
  {
   "cell_type": "code",
   "execution_count": 15,
   "outputs": [
    {
     "data": {
      "text/plain": "2016-09-01    0.302216\n2016-09-10    0.291683\ndtype: float64"
     },
     "execution_count": 15,
     "metadata": {},
     "output_type": "execute_result"
    }
   ],
   "source": [
    "s1['2016-09']"
   ],
   "metadata": {
    "collapsed": false,
    "pycharm": {
     "name": "#%%\n"
    }
   }
  },
  {
   "cell_type": "code",
   "execution_count": 16,
   "outputs": [
    {
     "data": {
      "text/plain": "2017-09-01    0.197645\n2017-09-20    0.946779\ndtype: float64"
     },
     "execution_count": 16,
     "metadata": {},
     "output_type": "execute_result"
    }
   ],
   "source": [
    "s1['2017-09']"
   ],
   "metadata": {
    "collapsed": false,
    "pycharm": {
     "name": "#%%\n"
    }
   }
  },
  {
   "cell_type": "code",
   "execution_count": 17,
   "outputs": [
    {
     "data": {
      "text/plain": "2016-09-01    0.302216\n2016-09-10    0.291683\ndtype: float64"
     },
     "execution_count": 17,
     "metadata": {},
     "output_type": "execute_result"
    }
   ],
   "source": [
    "s1['2016']"
   ],
   "metadata": {
    "collapsed": false,
    "pycharm": {
     "name": "#%%\n"
    }
   }
  },
  {
   "cell_type": "code",
   "execution_count": 18,
   "outputs": [],
   "source": [
    "date_list_new = pd.date_range('2016-01-01', periods=100)"
   ],
   "metadata": {
    "collapsed": false,
    "pycharm": {
     "name": "#%%\n"
    }
   }
  },
  {
   "cell_type": "code",
   "execution_count": 19,
   "outputs": [
    {
     "data": {
      "text/plain": "DatetimeIndex(['2016-01-01', '2016-01-02', '2016-01-03', '2016-01-04',\n               '2016-01-05', '2016-01-06', '2016-01-07', '2016-01-08',\n               '2016-01-09', '2016-01-10', '2016-01-11', '2016-01-12',\n               '2016-01-13', '2016-01-14', '2016-01-15', '2016-01-16',\n               '2016-01-17', '2016-01-18', '2016-01-19', '2016-01-20',\n               '2016-01-21', '2016-01-22', '2016-01-23', '2016-01-24',\n               '2016-01-25', '2016-01-26', '2016-01-27', '2016-01-28',\n               '2016-01-29', '2016-01-30', '2016-01-31', '2016-02-01',\n               '2016-02-02', '2016-02-03', '2016-02-04', '2016-02-05',\n               '2016-02-06', '2016-02-07', '2016-02-08', '2016-02-09',\n               '2016-02-10', '2016-02-11', '2016-02-12', '2016-02-13',\n               '2016-02-14', '2016-02-15', '2016-02-16', '2016-02-17',\n               '2016-02-18', '2016-02-19', '2016-02-20', '2016-02-21',\n               '2016-02-22', '2016-02-23', '2016-02-24', '2016-02-25',\n               '2016-02-26', '2016-02-27', '2016-02-28', '2016-02-29',\n               '2016-03-01', '2016-03-02', '2016-03-03', '2016-03-04',\n               '2016-03-05', '2016-03-06', '2016-03-07', '2016-03-08',\n               '2016-03-09', '2016-03-10', '2016-03-11', '2016-03-12',\n               '2016-03-13', '2016-03-14', '2016-03-15', '2016-03-16',\n               '2016-03-17', '2016-03-18', '2016-03-19', '2016-03-20',\n               '2016-03-21', '2016-03-22', '2016-03-23', '2016-03-24',\n               '2016-03-25', '2016-03-26', '2016-03-27', '2016-03-28',\n               '2016-03-29', '2016-03-30', '2016-03-31', '2016-04-01',\n               '2016-04-02', '2016-04-03', '2016-04-04', '2016-04-05',\n               '2016-04-06', '2016-04-07', '2016-04-08', '2016-04-09'],\n              dtype='datetime64[ns]', freq='D')"
     },
     "execution_count": 19,
     "metadata": {},
     "output_type": "execute_result"
    }
   ],
   "source": [
    "date_list_new"
   ],
   "metadata": {
    "collapsed": false,
    "pycharm": {
     "name": "#%%\n"
    }
   }
  },
  {
   "cell_type": "code",
   "execution_count": 22,
   "outputs": [],
   "source": [
    "date_list_new = pd.date_range('2016-01-01', periods=100, freq='W-MON')"
   ],
   "metadata": {
    "collapsed": false,
    "pycharm": {
     "name": "#%%\n"
    }
   }
  },
  {
   "cell_type": "code",
   "execution_count": 23,
   "outputs": [
    {
     "data": {
      "text/plain": "DatetimeIndex(['2016-01-04', '2016-01-11', '2016-01-18', '2016-01-25',\n               '2016-02-01', '2016-02-08', '2016-02-15', '2016-02-22',\n               '2016-02-29', '2016-03-07', '2016-03-14', '2016-03-21',\n               '2016-03-28', '2016-04-04', '2016-04-11', '2016-04-18',\n               '2016-04-25', '2016-05-02', '2016-05-09', '2016-05-16',\n               '2016-05-23', '2016-05-30', '2016-06-06', '2016-06-13',\n               '2016-06-20', '2016-06-27', '2016-07-04', '2016-07-11',\n               '2016-07-18', '2016-07-25', '2016-08-01', '2016-08-08',\n               '2016-08-15', '2016-08-22', '2016-08-29', '2016-09-05',\n               '2016-09-12', '2016-09-19', '2016-09-26', '2016-10-03',\n               '2016-10-10', '2016-10-17', '2016-10-24', '2016-10-31',\n               '2016-11-07', '2016-11-14', '2016-11-21', '2016-11-28',\n               '2016-12-05', '2016-12-12', '2016-12-19', '2016-12-26',\n               '2017-01-02', '2017-01-09', '2017-01-16', '2017-01-23',\n               '2017-01-30', '2017-02-06', '2017-02-13', '2017-02-20',\n               '2017-02-27', '2017-03-06', '2017-03-13', '2017-03-20',\n               '2017-03-27', '2017-04-03', '2017-04-10', '2017-04-17',\n               '2017-04-24', '2017-05-01', '2017-05-08', '2017-05-15',\n               '2017-05-22', '2017-05-29', '2017-06-05', '2017-06-12',\n               '2017-06-19', '2017-06-26', '2017-07-03', '2017-07-10',\n               '2017-07-17', '2017-07-24', '2017-07-31', '2017-08-07',\n               '2017-08-14', '2017-08-21', '2017-08-28', '2017-09-04',\n               '2017-09-11', '2017-09-18', '2017-09-25', '2017-10-02',\n               '2017-10-09', '2017-10-16', '2017-10-23', '2017-10-30',\n               '2017-11-06', '2017-11-13', '2017-11-20', '2017-11-27'],\n              dtype='datetime64[ns]', freq='W-MON')"
     },
     "execution_count": 23,
     "metadata": {},
     "output_type": "execute_result"
    }
   ],
   "source": [
    "date_list_new"
   ],
   "metadata": {
    "collapsed": false,
    "pycharm": {
     "name": "#%%\n"
    }
   }
  },
  {
   "cell_type": "code",
   "execution_count": 24,
   "outputs": [],
   "source": [
    "date_list_new = pd.date_range('2016-01-01', periods=100, freq='5H')"
   ],
   "metadata": {
    "collapsed": false,
    "pycharm": {
     "name": "#%%\n"
    }
   }
  },
  {
   "cell_type": "code",
   "execution_count": 25,
   "outputs": [
    {
     "data": {
      "text/plain": "DatetimeIndex(['2016-01-01 00:00:00', '2016-01-01 05:00:00',\n               '2016-01-01 10:00:00', '2016-01-01 15:00:00',\n               '2016-01-01 20:00:00', '2016-01-02 01:00:00',\n               '2016-01-02 06:00:00', '2016-01-02 11:00:00',\n               '2016-01-02 16:00:00', '2016-01-02 21:00:00',\n               '2016-01-03 02:00:00', '2016-01-03 07:00:00',\n               '2016-01-03 12:00:00', '2016-01-03 17:00:00',\n               '2016-01-03 22:00:00', '2016-01-04 03:00:00',\n               '2016-01-04 08:00:00', '2016-01-04 13:00:00',\n               '2016-01-04 18:00:00', '2016-01-04 23:00:00',\n               '2016-01-05 04:00:00', '2016-01-05 09:00:00',\n               '2016-01-05 14:00:00', '2016-01-05 19:00:00',\n               '2016-01-06 00:00:00', '2016-01-06 05:00:00',\n               '2016-01-06 10:00:00', '2016-01-06 15:00:00',\n               '2016-01-06 20:00:00', '2016-01-07 01:00:00',\n               '2016-01-07 06:00:00', '2016-01-07 11:00:00',\n               '2016-01-07 16:00:00', '2016-01-07 21:00:00',\n               '2016-01-08 02:00:00', '2016-01-08 07:00:00',\n               '2016-01-08 12:00:00', '2016-01-08 17:00:00',\n               '2016-01-08 22:00:00', '2016-01-09 03:00:00',\n               '2016-01-09 08:00:00', '2016-01-09 13:00:00',\n               '2016-01-09 18:00:00', '2016-01-09 23:00:00',\n               '2016-01-10 04:00:00', '2016-01-10 09:00:00',\n               '2016-01-10 14:00:00', '2016-01-10 19:00:00',\n               '2016-01-11 00:00:00', '2016-01-11 05:00:00',\n               '2016-01-11 10:00:00', '2016-01-11 15:00:00',\n               '2016-01-11 20:00:00', '2016-01-12 01:00:00',\n               '2016-01-12 06:00:00', '2016-01-12 11:00:00',\n               '2016-01-12 16:00:00', '2016-01-12 21:00:00',\n               '2016-01-13 02:00:00', '2016-01-13 07:00:00',\n               '2016-01-13 12:00:00', '2016-01-13 17:00:00',\n               '2016-01-13 22:00:00', '2016-01-14 03:00:00',\n               '2016-01-14 08:00:00', '2016-01-14 13:00:00',\n               '2016-01-14 18:00:00', '2016-01-14 23:00:00',\n               '2016-01-15 04:00:00', '2016-01-15 09:00:00',\n               '2016-01-15 14:00:00', '2016-01-15 19:00:00',\n               '2016-01-16 00:00:00', '2016-01-16 05:00:00',\n               '2016-01-16 10:00:00', '2016-01-16 15:00:00',\n               '2016-01-16 20:00:00', '2016-01-17 01:00:00',\n               '2016-01-17 06:00:00', '2016-01-17 11:00:00',\n               '2016-01-17 16:00:00', '2016-01-17 21:00:00',\n               '2016-01-18 02:00:00', '2016-01-18 07:00:00',\n               '2016-01-18 12:00:00', '2016-01-18 17:00:00',\n               '2016-01-18 22:00:00', '2016-01-19 03:00:00',\n               '2016-01-19 08:00:00', '2016-01-19 13:00:00',\n               '2016-01-19 18:00:00', '2016-01-19 23:00:00',\n               '2016-01-20 04:00:00', '2016-01-20 09:00:00',\n               '2016-01-20 14:00:00', '2016-01-20 19:00:00',\n               '2016-01-21 00:00:00', '2016-01-21 05:00:00',\n               '2016-01-21 10:00:00', '2016-01-21 15:00:00'],\n              dtype='datetime64[ns]', freq='5H')"
     },
     "execution_count": 25,
     "metadata": {},
     "output_type": "execute_result"
    }
   ],
   "source": [
    "date_list_new"
   ],
   "metadata": {
    "collapsed": false,
    "pycharm": {
     "name": "#%%\n"
    }
   }
  },
  {
   "cell_type": "code",
   "execution_count": 26,
   "outputs": [],
   "source": [
    "s2 = Series(np.random.rand(100), index=date_list_new)"
   ],
   "metadata": {
    "collapsed": false,
    "pycharm": {
     "name": "#%%\n"
    }
   }
  },
  {
   "cell_type": "code",
   "execution_count": 27,
   "outputs": [
    {
     "data": {
      "text/plain": "2016-01-01 00:00:00    0.142147\n2016-01-01 05:00:00    0.949117\n2016-01-01 10:00:00    0.116966\n2016-01-01 15:00:00    0.875293\n2016-01-01 20:00:00    0.138829\n                         ...   \n2016-01-20 19:00:00    0.093021\n2016-01-21 00:00:00    0.532546\n2016-01-21 05:00:00    0.573444\n2016-01-21 10:00:00    0.346973\n2016-01-21 15:00:00    0.621904\nFreq: 5H, Length: 100, dtype: float64"
     },
     "execution_count": 27,
     "metadata": {},
     "output_type": "execute_result"
    }
   ],
   "source": [
    "s2"
   ],
   "metadata": {
    "collapsed": false,
    "pycharm": {
     "name": "#%%\n"
    }
   }
  },
  {
   "cell_type": "code",
   "execution_count": null,
   "outputs": [],
   "source": [],
   "metadata": {
    "collapsed": false,
    "pycharm": {
     "name": "#%%\n"
    }
   }
  }
 ],
 "metadata": {
  "kernelspec": {
   "display_name": "Python 3",
   "language": "python",
   "name": "python3"
  },
  "language_info": {
   "codemirror_mode": {
    "name": "ipython",
    "version": 2
   },
   "file_extension": ".py",
   "mimetype": "text/x-python",
   "name": "python",
   "nbconvert_exporter": "python",
   "pygments_lexer": "ipython2",
   "version": "2.7.6"
  }
 },
 "nbformat": 4,
 "nbformat_minor": 0
}