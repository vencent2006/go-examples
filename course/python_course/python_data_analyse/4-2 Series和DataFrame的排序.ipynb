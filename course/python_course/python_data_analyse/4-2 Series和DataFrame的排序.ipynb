{
 "cells": [
  {
   "cell_type": "code",
   "execution_count": 1,
   "outputs": [],
   "source": [
    "import numpy as np\n",
    "import pandas as pd\n",
    "from pandas import Series, DataFrame"
   ],
   "metadata": {
    "collapsed": false,
    "pycharm": {
     "name": "#%%\n"
    }
   }
  },
  {
   "cell_type": "markdown",
   "source": [
    "# Series的排序"
   ],
   "metadata": {
    "collapsed": false,
    "pycharm": {
     "name": "#%% md\n"
    }
   }
  },
  {
   "cell_type": "code",
   "execution_count": 2,
   "outputs": [],
   "source": [
    "s1 = Series(np.random.randn(10))"
   ],
   "metadata": {
    "collapsed": false,
    "pycharm": {
     "name": "#%%\n"
    }
   }
  },
  {
   "cell_type": "code",
   "execution_count": 3,
   "outputs": [
    {
     "data": {
      "text/plain": "0    0.144739\n1   -0.956009\n2    0.065863\n3    1.870607\n4    0.135088\n5   -0.288796\n6   -0.429231\n7    0.921928\n8   -0.614410\n9   -1.078490\ndtype: float64"
     },
     "execution_count": 3,
     "metadata": {},
     "output_type": "execute_result"
    }
   ],
   "source": [
    "s1"
   ],
   "metadata": {
    "collapsed": false,
    "pycharm": {
     "name": "#%%\n"
    }
   }
  },
  {
   "cell_type": "code",
   "execution_count": 4,
   "outputs": [
    {
     "data": {
      "text/plain": "array([ 0.14473909, -0.95600924,  0.06586324,  1.87060651,  0.13508809,\n       -0.28879553, -0.42923071,  0.92192772, -0.61440964, -1.0784903 ])"
     },
     "execution_count": 4,
     "metadata": {},
     "output_type": "execute_result"
    }
   ],
   "source": [
    "s1.values"
   ],
   "metadata": {
    "collapsed": false,
    "pycharm": {
     "name": "#%%\n"
    }
   }
  },
  {
   "cell_type": "code",
   "execution_count": 5,
   "outputs": [
    {
     "data": {
      "text/plain": "numpy.ndarray"
     },
     "execution_count": 5,
     "metadata": {},
     "output_type": "execute_result"
    }
   ],
   "source": [
    "type(s1.values)"
   ],
   "metadata": {
    "collapsed": false,
    "pycharm": {
     "name": "#%%\n"
    }
   }
  },
  {
   "cell_type": "code",
   "execution_count": 6,
   "outputs": [],
   "source": [
    "s2 = s1.sort_values()"
   ],
   "metadata": {
    "collapsed": false,
    "pycharm": {
     "name": "#%%\n"
    }
   }
  },
  {
   "cell_type": "code",
   "execution_count": 7,
   "outputs": [
    {
     "data": {
      "text/plain": "9   -1.078490\n1   -0.956009\n8   -0.614410\n6   -0.429231\n5   -0.288796\n2    0.065863\n4    0.135088\n0    0.144739\n7    0.921928\n3    1.870607\ndtype: float64"
     },
     "execution_count": 7,
     "metadata": {},
     "output_type": "execute_result"
    }
   ],
   "source": [
    "s2"
   ],
   "metadata": {
    "collapsed": false,
    "pycharm": {
     "name": "#%%\n"
    }
   }
  },
  {
   "cell_type": "code",
   "execution_count": 8,
   "outputs": [
    {
     "data": {
      "text/plain": "3    1.870607\n7    0.921928\n0    0.144739\n4    0.135088\n2    0.065863\n5   -0.288796\n6   -0.429231\n8   -0.614410\n1   -0.956009\n9   -1.078490\ndtype: float64"
     },
     "execution_count": 8,
     "metadata": {},
     "output_type": "execute_result"
    }
   ],
   "source": [
    "s1.sort_values(ascending=False)"
   ],
   "metadata": {
    "collapsed": false,
    "pycharm": {
     "name": "#%%\n"
    }
   }
  },
  {
   "cell_type": "code",
   "execution_count": 9,
   "outputs": [
    {
     "data": {
      "text/plain": "0    0.144739\n1   -0.956009\n2    0.065863\n3    1.870607\n4    0.135088\n5   -0.288796\n6   -0.429231\n7    0.921928\n8   -0.614410\n9   -1.078490\ndtype: float64"
     },
     "execution_count": 9,
     "metadata": {},
     "output_type": "execute_result"
    }
   ],
   "source": [
    "s2.sort_index()"
   ],
   "metadata": {
    "collapsed": false,
    "pycharm": {
     "name": "#%%\n"
    }
   }
  },
  {
   "cell_type": "markdown",
   "source": [
    "# Dataframe的排序"
   ],
   "metadata": {
    "collapsed": false,
    "pycharm": {
     "name": "#%% md\n"
    }
   }
  },
  {
   "cell_type": "code",
   "execution_count": 11,
   "outputs": [
    {
     "data": {
      "text/plain": "          A         B         C         D         E\n0  0.252760 -0.275870  0.805126 -0.749273  0.825258\n1 -0.184911  0.051538 -2.187038  0.543678  0.057900\n2  1.637870  1.322968  1.273867  0.596877 -1.721323\n3 -1.172608 -0.153774  0.348627 -1.196014 -0.389991\n4  0.441454 -0.282376  1.209447 -1.141373  0.216373\n5  1.331902  0.292290 -0.563062  0.217336  0.116871\n6  0.499942  0.667734 -1.345062 -0.453409 -0.575061\n7 -0.131410  0.596366  1.604187 -0.562405  0.435006",
      "text/html": "<div>\n<style scoped>\n    .dataframe tbody tr th:only-of-type {\n        vertical-align: middle;\n    }\n\n    .dataframe tbody tr th {\n        vertical-align: top;\n    }\n\n    .dataframe thead th {\n        text-align: right;\n    }\n</style>\n<table border=\"1\" class=\"dataframe\">\n  <thead>\n    <tr style=\"text-align: right;\">\n      <th></th>\n      <th>A</th>\n      <th>B</th>\n      <th>C</th>\n      <th>D</th>\n      <th>E</th>\n    </tr>\n  </thead>\n  <tbody>\n    <tr>\n      <th>0</th>\n      <td>0.252760</td>\n      <td>-0.275870</td>\n      <td>0.805126</td>\n      <td>-0.749273</td>\n      <td>0.825258</td>\n    </tr>\n    <tr>\n      <th>1</th>\n      <td>-0.184911</td>\n      <td>0.051538</td>\n      <td>-2.187038</td>\n      <td>0.543678</td>\n      <td>0.057900</td>\n    </tr>\n    <tr>\n      <th>2</th>\n      <td>1.637870</td>\n      <td>1.322968</td>\n      <td>1.273867</td>\n      <td>0.596877</td>\n      <td>-1.721323</td>\n    </tr>\n    <tr>\n      <th>3</th>\n      <td>-1.172608</td>\n      <td>-0.153774</td>\n      <td>0.348627</td>\n      <td>-1.196014</td>\n      <td>-0.389991</td>\n    </tr>\n    <tr>\n      <th>4</th>\n      <td>0.441454</td>\n      <td>-0.282376</td>\n      <td>1.209447</td>\n      <td>-1.141373</td>\n      <td>0.216373</td>\n    </tr>\n    <tr>\n      <th>5</th>\n      <td>1.331902</td>\n      <td>0.292290</td>\n      <td>-0.563062</td>\n      <td>0.217336</td>\n      <td>0.116871</td>\n    </tr>\n    <tr>\n      <th>6</th>\n      <td>0.499942</td>\n      <td>0.667734</td>\n      <td>-1.345062</td>\n      <td>-0.453409</td>\n      <td>-0.575061</td>\n    </tr>\n    <tr>\n      <th>7</th>\n      <td>-0.131410</td>\n      <td>0.596366</td>\n      <td>1.604187</td>\n      <td>-0.562405</td>\n      <td>0.435006</td>\n    </tr>\n  </tbody>\n</table>\n</div>"
     },
     "execution_count": 11,
     "metadata": {},
     "output_type": "execute_result"
    }
   ],
   "source": [
    "df1 = DataFrame(np.random.randn(40).reshape(8,5), columns=['A', 'B', 'C', 'D', 'E'])\n",
    "df1"
   ],
   "metadata": {
    "collapsed": false,
    "pycharm": {
     "name": "#%%\n"
    }
   }
  },
  {
   "cell_type": "code",
   "execution_count": 12,
   "outputs": [
    {
     "data": {
      "text/plain": "3   -1.172608\n1   -0.184911\n7   -0.131410\n0    0.252760\n4    0.441454\n6    0.499942\n5    1.331902\n2    1.637870\nName: A, dtype: float64"
     },
     "execution_count": 12,
     "metadata": {},
     "output_type": "execute_result"
    }
   ],
   "source": [
    "df1['A'].sort_values()"
   ],
   "metadata": {
    "collapsed": false,
    "pycharm": {
     "name": "#%%\n"
    }
   }
  },
  {
   "cell_type": "code",
   "execution_count": 15,
   "outputs": [
    {
     "data": {
      "text/plain": "          A         B         C         D         E\n2  1.637870  1.322968  1.273867  0.596877 -1.721323\n5  1.331902  0.292290 -0.563062  0.217336  0.116871\n6  0.499942  0.667734 -1.345062 -0.453409 -0.575061\n4  0.441454 -0.282376  1.209447 -1.141373  0.216373\n0  0.252760 -0.275870  0.805126 -0.749273  0.825258\n7 -0.131410  0.596366  1.604187 -0.562405  0.435006\n1 -0.184911  0.051538 -2.187038  0.543678  0.057900\n3 -1.172608 -0.153774  0.348627 -1.196014 -0.389991",
      "text/html": "<div>\n<style scoped>\n    .dataframe tbody tr th:only-of-type {\n        vertical-align: middle;\n    }\n\n    .dataframe tbody tr th {\n        vertical-align: top;\n    }\n\n    .dataframe thead th {\n        text-align: right;\n    }\n</style>\n<table border=\"1\" class=\"dataframe\">\n  <thead>\n    <tr style=\"text-align: right;\">\n      <th></th>\n      <th>A</th>\n      <th>B</th>\n      <th>C</th>\n      <th>D</th>\n      <th>E</th>\n    </tr>\n  </thead>\n  <tbody>\n    <tr>\n      <th>2</th>\n      <td>1.637870</td>\n      <td>1.322968</td>\n      <td>1.273867</td>\n      <td>0.596877</td>\n      <td>-1.721323</td>\n    </tr>\n    <tr>\n      <th>5</th>\n      <td>1.331902</td>\n      <td>0.292290</td>\n      <td>-0.563062</td>\n      <td>0.217336</td>\n      <td>0.116871</td>\n    </tr>\n    <tr>\n      <th>6</th>\n      <td>0.499942</td>\n      <td>0.667734</td>\n      <td>-1.345062</td>\n      <td>-0.453409</td>\n      <td>-0.575061</td>\n    </tr>\n    <tr>\n      <th>4</th>\n      <td>0.441454</td>\n      <td>-0.282376</td>\n      <td>1.209447</td>\n      <td>-1.141373</td>\n      <td>0.216373</td>\n    </tr>\n    <tr>\n      <th>0</th>\n      <td>0.252760</td>\n      <td>-0.275870</td>\n      <td>0.805126</td>\n      <td>-0.749273</td>\n      <td>0.825258</td>\n    </tr>\n    <tr>\n      <th>7</th>\n      <td>-0.131410</td>\n      <td>0.596366</td>\n      <td>1.604187</td>\n      <td>-0.562405</td>\n      <td>0.435006</td>\n    </tr>\n    <tr>\n      <th>1</th>\n      <td>-0.184911</td>\n      <td>0.051538</td>\n      <td>-2.187038</td>\n      <td>0.543678</td>\n      <td>0.057900</td>\n    </tr>\n    <tr>\n      <th>3</th>\n      <td>-1.172608</td>\n      <td>-0.153774</td>\n      <td>0.348627</td>\n      <td>-1.196014</td>\n      <td>-0.389991</td>\n    </tr>\n  </tbody>\n</table>\n</div>"
     },
     "execution_count": 15,
     "metadata": {},
     "output_type": "execute_result"
    }
   ],
   "source": [
    "# 按照A进行排序\n",
    "df2 = df1.sort_values('A', ascending=False)\n",
    "df2"
   ],
   "metadata": {
    "collapsed": false,
    "pycharm": {
     "name": "#%%\n"
    }
   }
  },
  {
   "cell_type": "code",
   "execution_count": 16,
   "outputs": [
    {
     "data": {
      "text/plain": "          A         B         C         D         E\n0  0.252760 -0.275870  0.805126 -0.749273  0.825258\n1 -0.184911  0.051538 -2.187038  0.543678  0.057900\n2  1.637870  1.322968  1.273867  0.596877 -1.721323\n3 -1.172608 -0.153774  0.348627 -1.196014 -0.389991\n4  0.441454 -0.282376  1.209447 -1.141373  0.216373\n5  1.331902  0.292290 -0.563062  0.217336  0.116871\n6  0.499942  0.667734 -1.345062 -0.453409 -0.575061\n7 -0.131410  0.596366  1.604187 -0.562405  0.435006",
      "text/html": "<div>\n<style scoped>\n    .dataframe tbody tr th:only-of-type {\n        vertical-align: middle;\n    }\n\n    .dataframe tbody tr th {\n        vertical-align: top;\n    }\n\n    .dataframe thead th {\n        text-align: right;\n    }\n</style>\n<table border=\"1\" class=\"dataframe\">\n  <thead>\n    <tr style=\"text-align: right;\">\n      <th></th>\n      <th>A</th>\n      <th>B</th>\n      <th>C</th>\n      <th>D</th>\n      <th>E</th>\n    </tr>\n  </thead>\n  <tbody>\n    <tr>\n      <th>0</th>\n      <td>0.252760</td>\n      <td>-0.275870</td>\n      <td>0.805126</td>\n      <td>-0.749273</td>\n      <td>0.825258</td>\n    </tr>\n    <tr>\n      <th>1</th>\n      <td>-0.184911</td>\n      <td>0.051538</td>\n      <td>-2.187038</td>\n      <td>0.543678</td>\n      <td>0.057900</td>\n    </tr>\n    <tr>\n      <th>2</th>\n      <td>1.637870</td>\n      <td>1.322968</td>\n      <td>1.273867</td>\n      <td>0.596877</td>\n      <td>-1.721323</td>\n    </tr>\n    <tr>\n      <th>3</th>\n      <td>-1.172608</td>\n      <td>-0.153774</td>\n      <td>0.348627</td>\n      <td>-1.196014</td>\n      <td>-0.389991</td>\n    </tr>\n    <tr>\n      <th>4</th>\n      <td>0.441454</td>\n      <td>-0.282376</td>\n      <td>1.209447</td>\n      <td>-1.141373</td>\n      <td>0.216373</td>\n    </tr>\n    <tr>\n      <th>5</th>\n      <td>1.331902</td>\n      <td>0.292290</td>\n      <td>-0.563062</td>\n      <td>0.217336</td>\n      <td>0.116871</td>\n    </tr>\n    <tr>\n      <th>6</th>\n      <td>0.499942</td>\n      <td>0.667734</td>\n      <td>-1.345062</td>\n      <td>-0.453409</td>\n      <td>-0.575061</td>\n    </tr>\n    <tr>\n      <th>7</th>\n      <td>-0.131410</td>\n      <td>0.596366</td>\n      <td>1.604187</td>\n      <td>-0.562405</td>\n      <td>0.435006</td>\n    </tr>\n  </tbody>\n</table>\n</div>"
     },
     "execution_count": 16,
     "metadata": {},
     "output_type": "execute_result"
    }
   ],
   "source": [
    "df2.sort_index()"
   ],
   "metadata": {
    "collapsed": false,
    "pycharm": {
     "name": "#%%\n"
    }
   }
  },
  {
   "cell_type": "code",
   "execution_count": null,
   "outputs": [],
   "source": [],
   "metadata": {
    "collapsed": false,
    "pycharm": {
     "name": "#%%\n"
    }
   }
  }
 ],
 "metadata": {
  "kernelspec": {
   "display_name": "Python 3",
   "language": "python",
   "name": "python3"
  },
  "language_info": {
   "codemirror_mode": {
    "name": "ipython",
    "version": 2
   },
   "file_extension": ".py",
   "mimetype": "text/x-python",
   "name": "python",
   "nbconvert_exporter": "python",
   "pygments_lexer": "ipython2",
   "version": "2.7.6"
  }
 },
 "nbformat": 4,
 "nbformat_minor": 0
}