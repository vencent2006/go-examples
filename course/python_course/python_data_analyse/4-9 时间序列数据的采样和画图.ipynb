{
 "cells": [
  {
   "cell_type": "code",
   "execution_count": 1,
   "outputs": [],
   "source": [
    "import numpy as np\n",
    "import pandas as pd\n",
    "from pandas import Series, DataFrame"
   ],
   "metadata": {
    "collapsed": false,
    "pycharm": {
     "name": "#%%\n"
    }
   }
  },
  {
   "cell_type": "code",
   "execution_count": 2,
   "outputs": [],
   "source": [
    "t_range = pd.date_range('2016-01-01', '2016-12-31')"
   ],
   "metadata": {
    "collapsed": false,
    "pycharm": {
     "name": "#%%\n"
    }
   }
  },
  {
   "cell_type": "code",
   "execution_count": 3,
   "outputs": [
    {
     "data": {
      "text/plain": "DatetimeIndex(['2016-01-01', '2016-01-02', '2016-01-03', '2016-01-04',\n               '2016-01-05', '2016-01-06', '2016-01-07', '2016-01-08',\n               '2016-01-09', '2016-01-10',\n               ...\n               '2016-12-22', '2016-12-23', '2016-12-24', '2016-12-25',\n               '2016-12-26', '2016-12-27', '2016-12-28', '2016-12-29',\n               '2016-12-30', '2016-12-31'],\n              dtype='datetime64[ns]', length=366, freq='D')"
     },
     "execution_count": 3,
     "metadata": {},
     "output_type": "execute_result"
    }
   ],
   "source": [
    "t_range"
   ],
   "metadata": {
    "collapsed": false,
    "pycharm": {
     "name": "#%%\n"
    }
   }
  },
  {
   "cell_type": "code",
   "execution_count": 4,
   "outputs": [],
   "source": [
    "s1 = Series(np.random.randn(len(t_range)), index=t_range)"
   ],
   "metadata": {
    "collapsed": false,
    "pycharm": {
     "name": "#%%\n"
    }
   }
  },
  {
   "cell_type": "code",
   "execution_count": 5,
   "outputs": [
    {
     "data": {
      "text/plain": "2016-01-01    1.322297\n2016-01-02   -0.299011\n2016-01-03    0.604256\n2016-01-04   -0.342002\n2016-01-05   -0.410351\n                ...   \n2016-12-27   -0.174955\n2016-12-28    1.818230\n2016-12-29   -0.365831\n2016-12-30    0.735189\n2016-12-31   -1.463379\nFreq: D, Length: 366, dtype: float64"
     },
     "execution_count": 5,
     "metadata": {},
     "output_type": "execute_result"
    }
   ],
   "source": [
    "s1"
   ],
   "metadata": {
    "collapsed": false,
    "pycharm": {
     "name": "#%%\n"
    }
   }
  },
  {
   "cell_type": "code",
   "execution_count": 6,
   "outputs": [],
   "source": [
    "s1_month = s1.resample('M').mean()"
   ],
   "metadata": {
    "collapsed": false,
    "pycharm": {
     "name": "#%%\n"
    }
   }
  },
  {
   "cell_type": "code",
   "execution_count": 7,
   "outputs": [
    {
     "data": {
      "text/plain": "2016-01-31    0.108600\n2016-02-29   -0.088036\n2016-03-31   -0.075583\n2016-04-30    0.161070\n2016-05-31   -0.178712\n2016-06-30    0.284332\n2016-07-31   -0.098034\n2016-08-31    0.055925\n2016-09-30   -0.146815\n2016-10-31   -0.070925\n2016-11-30    0.372660\n2016-12-31   -0.024322\nFreq: M, dtype: float64"
     },
     "execution_count": 7,
     "metadata": {},
     "output_type": "execute_result"
    }
   ],
   "source": [
    "s1_month"
   ],
   "metadata": {
    "collapsed": false,
    "pycharm": {
     "name": "#%%\n"
    }
   }
  },
  {
   "cell_type": "code",
   "execution_count": 8,
   "outputs": [
    {
     "data": {
      "text/plain": "2016-01-01 00:00:00    1.322297\n2016-01-01 01:00:00    1.322297\n2016-01-01 02:00:00    1.322297\n2016-01-01 03:00:00    1.322297\n2016-01-01 04:00:00    1.322297\n                         ...   \n2016-12-30 20:00:00    0.735189\n2016-12-30 21:00:00    0.735189\n2016-12-30 22:00:00    0.735189\n2016-12-30 23:00:00    0.735189\n2016-12-31 00:00:00   -1.463379\nFreq: H, Length: 8761, dtype: float64"
     },
     "execution_count": 8,
     "metadata": {},
     "output_type": "execute_result"
    }
   ],
   "source": [
    "s1.resample('H').ffill()"
   ],
   "metadata": {
    "collapsed": false,
    "pycharm": {
     "name": "#%%\n"
    }
   }
  },
  {
   "cell_type": "code",
   "execution_count": 9,
   "outputs": [
    {
     "data": {
      "text/plain": "2016-01-01 00:00:00    1.322297\n2016-01-01 01:00:00   -0.299011\n2016-01-01 02:00:00   -0.299011\n2016-01-01 03:00:00   -0.299011\n2016-01-01 04:00:00   -0.299011\n                         ...   \n2016-12-30 20:00:00   -1.463379\n2016-12-30 21:00:00   -1.463379\n2016-12-30 22:00:00   -1.463379\n2016-12-30 23:00:00   -1.463379\n2016-12-31 00:00:00   -1.463379\nFreq: H, Length: 8761, dtype: float64"
     },
     "execution_count": 9,
     "metadata": {},
     "output_type": "execute_result"
    }
   ],
   "source": [
    "s1.resample('H').bfill()"
   ],
   "metadata": {
    "collapsed": false,
    "pycharm": {
     "name": "#%%\n"
    }
   }
  },
  {
   "cell_type": "markdown",
   "source": [
    "# 模拟个股票的图"
   ],
   "metadata": {
    "collapsed": false,
    "pycharm": {
     "name": "#%% md\n"
    }
   }
  },
  {
   "cell_type": "code",
   "execution_count": 10,
   "outputs": [],
   "source": [
    "t_range = pd.date_range('2016-01-01', '2016-12-31', freq='H')"
   ],
   "metadata": {
    "collapsed": false,
    "pycharm": {
     "name": "#%%\n"
    }
   }
  },
  {
   "cell_type": "code",
   "execution_count": 11,
   "outputs": [
    {
     "data": {
      "text/plain": "DatetimeIndex(['2016-01-01 00:00:00', '2016-01-01 01:00:00',\n               '2016-01-01 02:00:00', '2016-01-01 03:00:00',\n               '2016-01-01 04:00:00', '2016-01-01 05:00:00',\n               '2016-01-01 06:00:00', '2016-01-01 07:00:00',\n               '2016-01-01 08:00:00', '2016-01-01 09:00:00',\n               ...\n               '2016-12-30 15:00:00', '2016-12-30 16:00:00',\n               '2016-12-30 17:00:00', '2016-12-30 18:00:00',\n               '2016-12-30 19:00:00', '2016-12-30 20:00:00',\n               '2016-12-30 21:00:00', '2016-12-30 22:00:00',\n               '2016-12-30 23:00:00', '2016-12-31 00:00:00'],\n              dtype='datetime64[ns]', length=8761, freq='H')"
     },
     "execution_count": 11,
     "metadata": {},
     "output_type": "execute_result"
    }
   ],
   "source": [
    "t_range"
   ],
   "metadata": {
    "collapsed": false,
    "pycharm": {
     "name": "#%%\n"
    }
   }
  },
  {
   "cell_type": "code",
   "execution_count": 12,
   "outputs": [],
   "source": [
    "stock_df = DataFrame(index=t_range)"
   ],
   "metadata": {
    "collapsed": false,
    "pycharm": {
     "name": "#%%\n"
    }
   }
  },
  {
   "cell_type": "code",
   "execution_count": 13,
   "outputs": [
    {
     "data": {
      "text/plain": "Empty DataFrame\nColumns: []\nIndex: [2016-01-01 00:00:00, 2016-01-01 01:00:00, 2016-01-01 02:00:00, 2016-01-01 03:00:00, 2016-01-01 04:00:00]",
      "text/html": "<div>\n<style scoped>\n    .dataframe tbody tr th:only-of-type {\n        vertical-align: middle;\n    }\n\n    .dataframe tbody tr th {\n        vertical-align: top;\n    }\n\n    .dataframe thead th {\n        text-align: right;\n    }\n</style>\n<table border=\"1\" class=\"dataframe\">\n  <thead>\n    <tr style=\"text-align: right;\">\n      <th></th>\n    </tr>\n  </thead>\n  <tbody>\n    <tr>\n      <th>2016-01-01 00:00:00</th>\n    </tr>\n    <tr>\n      <th>2016-01-01 01:00:00</th>\n    </tr>\n    <tr>\n      <th>2016-01-01 02:00:00</th>\n    </tr>\n    <tr>\n      <th>2016-01-01 03:00:00</th>\n    </tr>\n    <tr>\n      <th>2016-01-01 04:00:00</th>\n    </tr>\n  </tbody>\n</table>\n</div>"
     },
     "execution_count": 13,
     "metadata": {},
     "output_type": "execute_result"
    }
   ],
   "source": [
    "stock_df.head()"
   ],
   "metadata": {
    "collapsed": false,
    "pycharm": {
     "name": "#%%\n"
    }
   }
  },
  {
   "cell_type": "code",
   "execution_count": 14,
   "outputs": [],
   "source": [
    "stock_df['BABA'] = np.random.randint(80,160,size=len(t_range))"
   ],
   "metadata": {
    "collapsed": false,
    "pycharm": {
     "name": "#%%\n"
    }
   }
  },
  {
   "cell_type": "code",
   "execution_count": 15,
   "outputs": [
    {
     "data": {
      "text/plain": "                     BABA\n2016-01-01 00:00:00    92\n2016-01-01 01:00:00   103\n2016-01-01 02:00:00   151\n2016-01-01 03:00:00   144\n2016-01-01 04:00:00   145",
      "text/html": "<div>\n<style scoped>\n    .dataframe tbody tr th:only-of-type {\n        vertical-align: middle;\n    }\n\n    .dataframe tbody tr th {\n        vertical-align: top;\n    }\n\n    .dataframe thead th {\n        text-align: right;\n    }\n</style>\n<table border=\"1\" class=\"dataframe\">\n  <thead>\n    <tr style=\"text-align: right;\">\n      <th></th>\n      <th>BABA</th>\n    </tr>\n  </thead>\n  <tbody>\n    <tr>\n      <th>2016-01-01 00:00:00</th>\n      <td>92</td>\n    </tr>\n    <tr>\n      <th>2016-01-01 01:00:00</th>\n      <td>103</td>\n    </tr>\n    <tr>\n      <th>2016-01-01 02:00:00</th>\n      <td>151</td>\n    </tr>\n    <tr>\n      <th>2016-01-01 03:00:00</th>\n      <td>144</td>\n    </tr>\n    <tr>\n      <th>2016-01-01 04:00:00</th>\n      <td>145</td>\n    </tr>\n  </tbody>\n</table>\n</div>"
     },
     "execution_count": 15,
     "metadata": {},
     "output_type": "execute_result"
    }
   ],
   "source": [
    "stock_df.head()"
   ],
   "metadata": {
    "collapsed": false,
    "pycharm": {
     "name": "#%%\n"
    }
   }
  },
  {
   "cell_type": "code",
   "execution_count": 16,
   "outputs": [],
   "source": [
    "stock_df['TENCENT'] = np.random.randint(30,50,len(t_range))"
   ],
   "metadata": {
    "collapsed": false,
    "pycharm": {
     "name": "#%%\n"
    }
   }
  },
  {
   "cell_type": "code",
   "execution_count": 17,
   "outputs": [
    {
     "data": {
      "text/plain": "                     BABA  TENCENT\n2016-01-01 00:00:00    92       32\n2016-01-01 01:00:00   103       40\n2016-01-01 02:00:00   151       36\n2016-01-01 03:00:00   144       36\n2016-01-01 04:00:00   145       48",
      "text/html": "<div>\n<style scoped>\n    .dataframe tbody tr th:only-of-type {\n        vertical-align: middle;\n    }\n\n    .dataframe tbody tr th {\n        vertical-align: top;\n    }\n\n    .dataframe thead th {\n        text-align: right;\n    }\n</style>\n<table border=\"1\" class=\"dataframe\">\n  <thead>\n    <tr style=\"text-align: right;\">\n      <th></th>\n      <th>BABA</th>\n      <th>TENCENT</th>\n    </tr>\n  </thead>\n  <tbody>\n    <tr>\n      <th>2016-01-01 00:00:00</th>\n      <td>92</td>\n      <td>32</td>\n    </tr>\n    <tr>\n      <th>2016-01-01 01:00:00</th>\n      <td>103</td>\n      <td>40</td>\n    </tr>\n    <tr>\n      <th>2016-01-01 02:00:00</th>\n      <td>151</td>\n      <td>36</td>\n    </tr>\n    <tr>\n      <th>2016-01-01 03:00:00</th>\n      <td>144</td>\n      <td>36</td>\n    </tr>\n    <tr>\n      <th>2016-01-01 04:00:00</th>\n      <td>145</td>\n      <td>48</td>\n    </tr>\n  </tbody>\n</table>\n</div>"
     },
     "execution_count": 17,
     "metadata": {},
     "output_type": "execute_result"
    }
   ],
   "source": [
    "stock_df.head()"
   ],
   "metadata": {
    "collapsed": false,
    "pycharm": {
     "name": "#%%\n"
    }
   }
  },
  {
   "cell_type": "code",
   "execution_count": 18,
   "outputs": [
    {
     "data": {
      "text/plain": "<AxesSubplot:>"
     },
     "execution_count": 18,
     "metadata": {},
     "output_type": "execute_result"
    },
    {
     "data": {
      "text/plain": "<Figure size 432x288 with 1 Axes>",
      "image/png": "[encoded data removed]"
     },
     "metadata": {
      "needs_background": "light"
     },
     "output_type": "display_data"
    }
   ],
   "source": [
    "stock_df.plot()"
   ],
   "metadata": {
    "collapsed": false,
    "pycharm": {
     "name": "#%%\n"
    }
   }
  },
  {
   "cell_type": "code",
   "execution_count": 19,
   "outputs": [],
   "source": [
    "import matplotlib.pyplot as plt"
   ],
   "metadata": {
    "collapsed": false,
    "pycharm": {
     "name": "#%%\n"
    }
   }
  },
  {
   "cell_type": "code",
   "execution_count": 20,
   "outputs": [],
   "source": [
    "plt.show()"
   ],
   "metadata": {
    "collapsed": false,
    "pycharm": {
     "name": "#%%\n"
    }
   }
  },
  {
   "cell_type": "code",
   "execution_count": 23,
   "outputs": [],
   "source": [
    "weekly_df = DataFrame()"
   ],
   "metadata": {
    "collapsed": false,
    "pycharm": {
     "name": "#%%\n"
    }
   }
  },
  {
   "cell_type": "code",
   "execution_count": 24,
   "outputs": [],
   "source": [
    "weekly_df['BABA'] = stock_df['BABA'].resample('W').mean()"
   ],
   "metadata": {
    "collapsed": false,
    "pycharm": {
     "name": "#%%\n"
    }
   }
  },
  {
   "cell_type": "code",
   "execution_count": 25,
   "outputs": [],
   "source": [
    "weekly_df['TENCENT'] = stock_df['TENCENT'].resample('W').mean()"
   ],
   "metadata": {
    "collapsed": false,
    "pycharm": {
     "name": "#%%\n"
    }
   }
  },
  {
   "cell_type": "code",
   "execution_count": 26,
   "outputs": [
    {
     "data": {
      "text/plain": "                  BABA    TENCENT\n2016-01-03  120.361111  39.833333\n2016-01-10  120.779762  39.244048\n2016-01-17  121.535714  39.904762\n2016-01-24  120.089286  39.315476\n2016-01-31  116.511905  40.166667\n2016-02-07  119.273810  39.767857\n2016-02-14  119.880952  40.642857\n2016-02-21  119.690476  39.452381\n2016-02-28  119.928571  39.535714\n2016-03-06  117.190476  38.940476\n2016-03-13  117.202381  38.779762\n2016-03-20  119.654762  39.363095\n2016-03-27  120.125000  39.577381\n2016-04-03  119.000000  38.857143\n2016-04-10  118.613095  39.238095\n2016-04-17  119.321429  38.940476\n2016-04-24  115.904762  39.000000\n2016-05-01  117.767857  39.267857\n2016-05-08  121.184524  39.630952\n2016-05-15  118.392857  39.827381\n2016-05-22  119.208333  39.761905\n2016-05-29  119.291667  39.345238\n2016-06-05  121.148810  39.785714\n2016-06-12  121.613095  39.136905\n2016-06-19  119.970238  39.892857\n2016-06-26  119.130952  39.297619\n2016-07-03  118.446429  39.410714\n2016-07-10  117.797619  38.892857\n2016-07-17  123.130952  39.607143\n2016-07-24  123.458333  39.226190\n2016-07-31  118.523810  39.559524\n2016-08-07  116.529762  39.642857\n2016-08-14  116.571429  40.047619\n2016-08-21  121.244048  39.101190\n2016-08-28  116.863095  39.297619\n2016-09-04  117.988095  39.047619\n2016-09-11  119.869048  39.696429\n2016-09-18  119.857143  39.464286\n2016-09-25  123.267857  39.714286\n2016-10-02  119.071429  40.000000\n2016-10-09  121.863095  39.744048\n2016-10-16  118.952381  39.148810\n2016-10-23  118.660714  39.732143\n2016-10-30  118.559524  39.595238\n2016-11-06  120.910714  39.005952\n2016-11-13  118.869048  39.244048\n2016-11-20  118.494048  39.375000\n2016-11-27  118.565476  39.714286\n2016-12-04  122.309524  39.333333\n2016-12-11  117.702381  39.660714\n2016-12-18  118.696429  39.750000\n2016-12-25  119.964286  39.208333\n2017-01-01  122.801653  39.380165",
      "text/html": "<div>\n<style scoped>\n    .dataframe tbody tr th:only-of-type {\n        vertical-align: middle;\n    }\n\n    .dataframe tbody tr th {\n        vertical-align: top;\n    }\n\n    .dataframe thead th {\n        text-align: right;\n    }\n</style>\n<table border=\"1\" class=\"dataframe\">\n  <thead>\n    <tr style=\"text-align: right;\">\n      <th></th>\n      <th>BABA</th>\n      <th>TENCENT</th>\n    </tr>\n  </thead>\n  <tbody>\n    <tr>\n      <th>2016-01-03</th>\n      <td>120.361111</td>\n      <td>39.833333</td>\n    </tr>\n    <tr>\n      <th>2016-01-10</th>\n      <td>120.779762</td>\n      <td>39.244048</td>\n    </tr>\n    <tr>\n      <th>2016-01-17</th>\n      <td>121.535714</td>\n      <td>39.904762</td>\n    </tr>\n    <tr>\n      <th>2016-01-24</th>\n      <td>120.089286</td>\n      <td>39.315476</td>\n    </tr>\n    <tr>\n      <th>2016-01-31</th>\n      <td>116.511905</td>\n      <td>40.166667</td>\n    </tr>\n    <tr>\n      <th>2016-02-07</th>\n      <td>119.273810</td>\n      <td>39.767857</td>\n    </tr>\n    <tr>\n      <th>2016-02-14</th>\n      <td>119.880952</td>\n      <td>40.642857</td>\n    </tr>\n    <tr>\n      <th>2016-02-21</th>\n      <td>119.690476</td>\n      <td>39.452381</td>\n    </tr>\n    <tr>\n      <th>2016-02-28</th>\n      <td>119.928571</td>\n      <td>39.535714</td>\n    </tr>\n    <tr>\n      <th>2016-03-06</th>\n      <td>117.190476</td>\n      <td>38.940476</td>\n    </tr>\n    <tr>\n      <th>2016-03-13</th>\n      <td>117.202381</td>\n      <td>38.779762</td>\n    </tr>\n    <tr>\n      <th>2016-03-20</th>\n      <td>119.654762</td>\n      <td>39.363095</td>\n    </tr>\n    <tr>\n      <th>2016-03-27</th>\n      <td>120.125000</td>\n      <td>39.577381</td>\n    </tr>\n    <tr>\n      <th>2016-04-03</th>\n      <td>119.000000</td>\n      <td>38.857143</td>\n    </tr>\n    <tr>\n      <th>2016-04-10</th>\n      <td>118.613095</td>\n      <td>39.238095</td>\n    </tr>\n    <tr>\n      <th>2016-04-17</th>\n      <td>119.321429</td>\n      <td>38.940476</td>\n    </tr>\n    <tr>\n      <th>2016-04-24</th>\n      <td>115.904762</td>\n      <td>39.000000</td>\n    </tr>\n    <tr>\n      <th>2016-05-01</th>\n      <td>117.767857</td>\n      <td>39.267857</td>\n    </tr>\n    <tr>\n      <th>2016-05-08</th>\n      <td>121.184524</td>\n      <td>39.630952</td>\n    </tr>\n    <tr>\n      <th>2016-05-15</th>\n      <td>118.392857</td>\n      <td>39.827381</td>\n    </tr>\n    <tr>\n      <th>2016-05-22</th>\n      <td>119.208333</td>\n      <td>39.761905</td>\n    </tr>\n    <tr>\n      <th>2016-05-29</th>\n      <td>119.291667</td>\n      <td>39.345238</td>\n    </tr>\n    <tr>\n      <th>2016-06-05</th>\n      <td>121.148810</td>\n      <td>39.785714</td>\n    </tr>\n    <tr>\n      <th>2016-06-12</th>\n      <td>121.613095</td>\n      <td>39.136905</td>\n    </tr>\n    <tr>\n      <th>2016-06-19</th>\n      <td>119.970238</td>\n      <td>39.892857</td>\n    </tr>\n    <tr>\n      <th>2016-06-26</th>\n      <td>119.130952</td>\n      <td>39.297619</td>\n    </tr>\n    <tr>\n      <th>2016-07-03</th>\n      <td>118.446429</td>\n      <td>39.410714</td>\n    </tr>\n    <tr>\n      <th>2016-07-10</th>\n      <td>117.797619</td>\n      <td>38.892857</td>\n    </tr>\n    <tr>\n      <th>2016-07-17</th>\n      <td>123.130952</td>\n      <td>39.607143</td>\n    </tr>\n    <tr>\n      <th>2016-07-24</th>\n      <td>123.458333</td>\n      <td>39.226190</td>\n    </tr>\n    <tr>\n      <th>2016-07-31</th>\n      <td>118.523810</td>\n      <td>39.559524</td>\n    </tr>\n    <tr>\n      <th>2016-08-07</th>\n      <td>116.529762</td>\n      <td>39.642857</td>\n    </tr>\n    <tr>\n      <th>2016-08-14</th>\n      <td>116.571429</td>\n      <td>40.047619</td>\n    </tr>\n    <tr>\n      <th>2016-08-21</th>\n      <td>121.244048</td>\n      <td>39.101190</td>\n    </tr>\n    <tr>\n      <th>2016-08-28</th>\n      <td>116.863095</td>\n      <td>39.297619</td>\n    </tr>\n    <tr>\n      <th>2016-09-04</th>\n      <td>117.988095</td>\n      <td>39.047619</td>\n    </tr>\n    <tr>\n      <th>2016-09-11</th>\n      <td>119.869048</td>\n      <td>39.696429</td>\n    </tr>\n    <tr>\n      <th>2016-09-18</th>\n      <td>119.857143</td>\n      <td>39.464286</td>\n    </tr>\n    <tr>\n      <th>2016-09-25</th>\n      <td>123.267857</td>\n      <td>39.714286</td>\n    </tr>\n    <tr>\n      <th>2016-10-02</th>\n      <td>119.071429</td>\n      <td>40.000000</td>\n    </tr>\n    <tr>\n      <th>2016-10-09</th>\n      <td>121.863095</td>\n      <td>39.744048</td>\n    </tr>\n    <tr>\n      <th>2016-10-16</th>\n      <td>118.952381</td>\n      <td>39.148810</td>\n    </tr>\n    <tr>\n      <th>2016-10-23</th>\n      <td>118.660714</td>\n      <td>39.732143</td>\n    </tr>\n    <tr>\n      <th>2016-10-30</th>\n      <td>118.559524</td>\n      <td>39.595238</td>\n    </tr>\n    <tr>\n      <th>2016-11-06</th>\n      <td>120.910714</td>\n      <td>39.005952</td>\n    </tr>\n    <tr>\n      <th>2016-11-13</th>\n      <td>118.869048</td>\n      <td>39.244048</td>\n    </tr>\n    <tr>\n      <th>2016-11-20</th>\n      <td>118.494048</td>\n      <td>39.375000</td>\n    </tr>\n    <tr>\n      <th>2016-11-27</th>\n      <td>118.565476</td>\n      <td>39.714286</td>\n    </tr>\n    <tr>\n      <th>2016-12-04</th>\n      <td>122.309524</td>\n      <td>39.333333</td>\n    </tr>\n    <tr>\n      <th>2016-12-11</th>\n      <td>117.702381</td>\n      <td>39.660714</td>\n    </tr>\n    <tr>\n      <th>2016-12-18</th>\n      <td>118.696429</td>\n      <td>39.750000</td>\n    </tr>\n    <tr>\n      <th>2016-12-25</th>\n      <td>119.964286</td>\n      <td>39.208333</td>\n    </tr>\n    <tr>\n      <th>2017-01-01</th>\n      <td>122.801653</td>\n      <td>39.380165</td>\n    </tr>\n  </tbody>\n</table>\n</div>"
     },
     "execution_count": 26,
     "metadata": {},
     "output_type": "execute_result"
    }
   ],
   "source": [
    "weekly_df"
   ],
   "metadata": {
    "collapsed": false,
    "pycharm": {
     "name": "#%%\n"
    }
   }
  },
  {
   "cell_type": "code",
   "execution_count": 27,
   "outputs": [
    {
     "data": {
      "text/plain": "<AxesSubplot:>"
     },
     "execution_count": 27,
     "metadata": {},
     "output_type": "execute_result"
    },
    {
     "data": {
      "text/plain": "<Figure size 432x288 with 1 Axes>",
      "image/png": "[encoded data removed]"
     },
     "metadata": {
      "needs_background": "light"
     },
     "output_type": "display_data"
    }
   ],
   "source": [
    "weekly_df.plot()"
   ],
   "metadata": {
    "collapsed": false,
    "pycharm": {
     "name": "#%%\n"
    }
   }
  },
  {
   "cell_type": "code",
   "execution_count": null,
   "outputs": [],
   "source": [],
   "metadata": {
    "collapsed": false,
    "pycharm": {
     "name": "#%%\n"
    }
   }
  }
 ],
 "metadata": {
  "kernelspec": {
   "display_name": "Python 3",
   "language": "python",
   "name": "python3"
  },
  "language_info": {
   "codemirror_mode": {
    "name": "ipython",
    "version": 2
   },
   "file_extension": ".py",
   "mimetype": "text/x-python",
   "name": "python",
   "nbconvert_exporter": "python",
   "pygments_lexer": "ipython2",
   "version": "2.7.6"
  }
 },
 "nbformat": 4,
 "nbformat_minor": 0
}