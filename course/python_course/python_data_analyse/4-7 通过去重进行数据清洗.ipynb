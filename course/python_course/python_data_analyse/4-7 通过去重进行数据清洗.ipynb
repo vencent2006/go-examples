{
 "cells": [
  {
   "cell_type": "code",
   "execution_count": 1,
   "outputs": [],
   "source": [
    "import numpy as np\n",
    "import pandas as pd\n",
    "from pandas import Series, DataFrame"
   ],
   "metadata": {
    "collapsed": false,
    "pycharm": {
     "name": "#%%\n"
    }
   }
  },
  {
   "cell_type": "code",
   "execution_count": 2,
   "outputs": [],
   "source": [
    "df = pd.read_csv('demo_duplicate.csv')"
   ],
   "metadata": {
    "collapsed": false,
    "pycharm": {
     "name": "#%%\n"
    }
   }
  },
  {
   "cell_type": "code",
   "execution_count": 3,
   "outputs": [
    {
     "data": {
      "text/plain": "   Unnamed: 0  Price  Seqno Symbol        time\n0           0   1623      0   APPL  1473411962\n1           1   1623      0   APPL  1473411962\n2           2   1623      0   APPL  1473411963\n3           3   1623      0   APPL  1473411963\n4           4   1649      1   APPL  1473411963",
      "text/html": "<div>\n<style scoped>\n    .dataframe tbody tr th:only-of-type {\n        vertical-align: middle;\n    }\n\n    .dataframe tbody tr th {\n        vertical-align: top;\n    }\n\n    .dataframe thead th {\n        text-align: right;\n    }\n</style>\n<table border=\"1\" class=\"dataframe\">\n  <thead>\n    <tr style=\"text-align: right;\">\n      <th></th>\n      <th>Unnamed: 0</th>\n      <th>Price</th>\n      <th>Seqno</th>\n      <th>Symbol</th>\n      <th>time</th>\n    </tr>\n  </thead>\n  <tbody>\n    <tr>\n      <th>0</th>\n      <td>0</td>\n      <td>1623</td>\n      <td>0</td>\n      <td>APPL</td>\n      <td>1473411962</td>\n    </tr>\n    <tr>\n      <th>1</th>\n      <td>1</td>\n      <td>1623</td>\n      <td>0</td>\n      <td>APPL</td>\n      <td>1473411962</td>\n    </tr>\n    <tr>\n      <th>2</th>\n      <td>2</td>\n      <td>1623</td>\n      <td>0</td>\n      <td>APPL</td>\n      <td>1473411963</td>\n    </tr>\n    <tr>\n      <th>3</th>\n      <td>3</td>\n      <td>1623</td>\n      <td>0</td>\n      <td>APPL</td>\n      <td>1473411963</td>\n    </tr>\n    <tr>\n      <th>4</th>\n      <td>4</td>\n      <td>1649</td>\n      <td>1</td>\n      <td>APPL</td>\n      <td>1473411963</td>\n    </tr>\n  </tbody>\n</table>\n</div>"
     },
     "execution_count": 3,
     "metadata": {},
     "output_type": "execute_result"
    }
   ],
   "source": [
    "df.head()"
   ],
   "metadata": {
    "collapsed": false,
    "pycharm": {
     "name": "#%%\n"
    }
   }
  },
  {
   "cell_type": "code",
   "execution_count": 4,
   "outputs": [],
   "source": [
    "del df['Unnamed: 0']"
   ],
   "metadata": {
    "collapsed": false,
    "pycharm": {
     "name": "#%%\n"
    }
   }
  },
  {
   "cell_type": "code",
   "execution_count": 5,
   "outputs": [
    {
     "data": {
      "text/plain": "   Price  Seqno Symbol        time\n0   1623      0   APPL  1473411962\n1   1623      0   APPL  1473411962\n2   1623      0   APPL  1473411963\n3   1623      0   APPL  1473411963\n4   1649      1   APPL  1473411963",
      "text/html": "<div>\n<style scoped>\n    .dataframe tbody tr th:only-of-type {\n        vertical-align: middle;\n    }\n\n    .dataframe tbody tr th {\n        vertical-align: top;\n    }\n\n    .dataframe thead th {\n        text-align: right;\n    }\n</style>\n<table border=\"1\" class=\"dataframe\">\n  <thead>\n    <tr style=\"text-align: right;\">\n      <th></th>\n      <th>Price</th>\n      <th>Seqno</th>\n      <th>Symbol</th>\n      <th>time</th>\n    </tr>\n  </thead>\n  <tbody>\n    <tr>\n      <th>0</th>\n      <td>1623</td>\n      <td>0</td>\n      <td>APPL</td>\n      <td>1473411962</td>\n    </tr>\n    <tr>\n      <th>1</th>\n      <td>1623</td>\n      <td>0</td>\n      <td>APPL</td>\n      <td>1473411962</td>\n    </tr>\n    <tr>\n      <th>2</th>\n      <td>1623</td>\n      <td>0</td>\n      <td>APPL</td>\n      <td>1473411963</td>\n    </tr>\n    <tr>\n      <th>3</th>\n      <td>1623</td>\n      <td>0</td>\n      <td>APPL</td>\n      <td>1473411963</td>\n    </tr>\n    <tr>\n      <th>4</th>\n      <td>1649</td>\n      <td>1</td>\n      <td>APPL</td>\n      <td>1473411963</td>\n    </tr>\n  </tbody>\n</table>\n</div>"
     },
     "execution_count": 5,
     "metadata": {},
     "output_type": "execute_result"
    }
   ],
   "source": [
    "df.head()"
   ],
   "metadata": {
    "collapsed": false,
    "pycharm": {
     "name": "#%%\n"
    }
   }
  },
  {
   "cell_type": "code",
   "execution_count": 6,
   "outputs": [
    {
     "data": {
      "text/plain": "15956"
     },
     "execution_count": 6,
     "metadata": {},
     "output_type": "execute_result"
    }
   ],
   "source": [
    "df.size"
   ],
   "metadata": {
    "collapsed": false,
    "pycharm": {
     "name": "#%%\n"
    }
   }
  },
  {
   "cell_type": "code",
   "execution_count": 7,
   "outputs": [
    {
     "data": {
      "text/plain": "3989"
     },
     "execution_count": 7,
     "metadata": {},
     "output_type": "execute_result"
    }
   ],
   "source": [
    "len(df)"
   ],
   "metadata": {
    "collapsed": false,
    "pycharm": {
     "name": "#%%\n"
    }
   }
  },
  {
   "cell_type": "code",
   "execution_count": 8,
   "outputs": [
    {
     "data": {
      "text/plain": "(3989, 4)"
     },
     "execution_count": 8,
     "metadata": {},
     "output_type": "execute_result"
    }
   ],
   "source": [
    "df.shape"
   ],
   "metadata": {
    "collapsed": false,
    "pycharm": {
     "name": "#%%\n"
    }
   }
  },
  {
   "cell_type": "code",
   "execution_count": 10,
   "outputs": [
    {
     "data": {
      "text/plain": "array([  0,   1,   2,   3,   4,   5,   6,   7,   8,   9,  10,  11,  12,\n        13,  14,  15,  16,  17,  18,  19,  20,  21,  22,  23,  24,  25,\n        26,  27,  28,  29,  30,  31,  32,  33,  34,  35,  36,  37,  38,\n        39,  40,  41,  42,  43,  44,  45,  46,  47,  48,  49,  50,  51,\n        52,  53,  54,  55,  56,  57,  58,  59,  60,  61,  62,  63,  64,\n        65,  66,  67,  68,  69,  70,  71,  72,  73,  74,  75,  76,  77,\n        78,  79,  80,  81,  82,  83,  84,  85,  86,  87,  88,  89,  90,\n        91,  92,  93,  94,  95,  96,  97,  98,  99, 100, 101, 102, 103,\n       104, 105, 106, 107, 108, 109, 110, 111, 112, 113, 114, 115, 116,\n       117, 118, 119, 120, 121, 122, 123, 124, 125, 126, 127, 128, 129,\n       130, 131, 132, 133, 134, 135, 136, 137, 138, 139, 140, 141, 142,\n       143, 144, 145, 146, 147, 148, 149, 150, 151, 152, 153, 154, 155,\n       156, 157, 158, 159, 160, 161, 162, 163, 164, 165, 166, 167, 168,\n       169, 170, 171, 172, 173, 174, 175, 176, 177, 178, 179, 180, 181,\n       182, 183, 184, 185, 186, 187, 188, 189, 190, 191, 192, 193, 194,\n       195, 196, 197, 198, 199, 200, 201, 202, 203, 204, 205, 206, 207,\n       208, 209, 210, 211, 212, 213, 214, 215, 216, 217, 218, 219, 220,\n       221, 222, 223, 224, 225, 226, 227, 228, 229, 230, 231, 232, 233,\n       234, 235, 236, 237, 238, 239, 240, 241, 242, 243, 244, 245, 246,\n       247, 248, 249, 250, 251, 252, 253, 254, 255, 256, 257, 258, 259,\n       260, 261, 262, 263, 264, 265, 266, 267, 268, 269, 270, 271, 272,\n       273, 274, 275, 276, 277, 278, 279, 280, 281, 282, 283, 284, 285,\n       286, 287, 288, 289, 290, 291, 292, 293, 294, 295, 296, 297, 298,\n       299, 300, 301, 302, 303, 304, 305, 306, 307, 308, 309, 310, 311,\n       312, 313, 314, 315, 316, 317, 318, 319, 320, 321, 322, 323, 324,\n       325, 326, 327, 328, 329, 330, 331, 332, 333, 334, 335, 336, 337,\n       338, 339, 340, 341, 342, 343, 344, 345, 346, 347, 348, 349, 350,\n       351, 352, 353, 354, 355, 356, 357, 358, 359, 360, 361, 362, 363,\n       364, 365, 366, 367, 368, 369, 370, 371, 372, 373, 374, 375, 376,\n       377, 378, 379, 380, 381, 382, 383, 384, 385, 386, 387, 388, 389,\n       390, 391, 392, 393, 394, 395, 396, 397, 398, 399, 400, 401, 402,\n       403, 404, 405, 406, 407, 408, 409, 410, 411, 412, 413, 414, 415,\n       416, 417, 418, 419, 420, 421, 422, 423, 424, 425, 426, 427, 428,\n       429, 430, 431, 432, 433, 434, 435, 436, 437, 438, 439, 440, 441,\n       442, 443, 444, 445, 446, 447, 448, 449, 450, 451, 452, 453, 454,\n       455, 456, 457, 458, 459, 460, 461, 462, 463, 464, 465, 466, 467,\n       468, 469, 470, 471, 472, 473, 474, 475, 476, 477, 478, 479, 480,\n       481, 482, 483, 484, 485, 486, 487, 488, 489, 490, 491, 492, 493,\n       494, 495, 496, 497, 498, 499, 500, 501, 502, 503, 504, 505, 506,\n       507, 508, 509, 510, 511, 512, 513, 514, 515, 516, 517, 518, 519,\n       520, 521, 522, 523, 524, 525, 526, 527, 528, 529, 530, 531, 532,\n       533, 534, 535, 536, 537, 538, 539, 540, 541, 542, 543, 544, 545,\n       546, 547, 548, 549, 550, 551, 552, 553, 554, 555, 556, 557, 558,\n       559, 560, 561, 562, 563, 564, 565, 566, 567, 568, 569, 570, 571,\n       572, 573, 574, 575, 576, 577, 578, 579, 580, 581, 582, 583, 584,\n       585, 586, 587, 588, 589, 590, 591, 592, 593, 594, 595, 596, 597,\n       598, 599, 600, 601, 602, 603, 604, 605, 606, 607, 608, 609, 610,\n       611, 612, 613, 614, 615, 616, 617, 618, 619, 620, 621, 622, 623,\n       624, 625, 626, 627, 628, 629, 630, 631, 632, 633, 634, 635, 636,\n       637, 638, 639, 640, 641, 642, 643, 644, 645, 646, 647, 648, 649,\n       650, 651, 652, 653, 654, 655, 656, 657, 658, 659, 660, 661, 662,\n       663, 664, 665, 666, 667, 668, 669, 670, 671, 672, 673, 674, 675,\n       676, 677, 678, 679, 680, 681, 682, 683, 684, 685, 686, 687, 688,\n       689, 690, 691, 692, 693, 694, 695, 696, 697, 698, 699, 700, 701,\n       702, 703, 704, 705, 706, 707, 708, 709, 710, 711, 712, 713, 714,\n       715, 716, 717, 718, 719, 720, 721, 722, 723, 724, 725, 726, 727,\n       728, 729, 730, 731, 732, 733, 734, 735, 736, 737, 738, 739, 740,\n       741, 742, 743, 744, 745, 746, 747, 748, 749, 750, 751, 752, 753,\n       754, 755, 756, 757, 758, 759, 760, 761, 762, 763, 764, 765, 766,\n       767, 768, 769, 770, 771, 772, 773, 774, 775, 776, 777, 778, 779,\n       780, 781, 782, 783, 784, 785, 786, 787, 788, 789, 790, 791, 792,\n       793, 794, 795, 796, 797, 798, 799, 800, 801, 802, 803, 804, 805,\n       806, 807, 808, 809, 810, 811, 812, 813, 814, 815, 816, 817, 818,\n       819, 820, 821, 822, 823, 824, 825, 826, 827, 828, 829, 830, 831,\n       832, 833, 834, 835, 836, 837, 838, 839, 840, 841, 842, 843, 844,\n       845, 846, 847, 848, 849, 850, 851, 852, 853, 854, 855, 856, 857,\n       858, 859, 860, 861, 862, 863, 864, 865, 866, 867, 868, 869, 870,\n       871, 872, 873, 874, 875, 876, 877, 878, 879, 880, 881, 882, 883,\n       884, 885, 886, 887, 888, 889, 890, 891, 892, 893, 894, 895, 896,\n       897, 898, 899, 900, 901, 902, 903, 904, 905, 906, 907, 908, 909,\n       910, 911, 912, 913, 914, 915, 916, 917, 918, 919, 920, 921, 922,\n       923, 924, 925, 926, 927, 928, 929, 930, 931, 932, 933, 934, 935,\n       936, 937, 938, 939, 940, 941, 942, 943, 944, 945, 946, 947, 948,\n       949, 950, 951, 952, 953, 954, 955, 956, 957, 958, 959, 960, 961,\n       962, 963, 964, 965, 966, 967, 968, 969, 970, 971, 972, 973, 974,\n       975, 976, 977, 978, 979, 980, 981, 982, 983, 984, 985, 986, 987,\n       988, 989, 990, 991, 992, 993, 994, 995, 996, 997, 998, 999])"
     },
     "execution_count": 10,
     "metadata": {},
     "output_type": "execute_result"
    }
   ],
   "source": [
    "df['Seqno'].unique()"
   ],
   "metadata": {
    "collapsed": false,
    "pycharm": {
     "name": "#%%\n"
    }
   }
  },
  {
   "cell_type": "code",
   "execution_count": 11,
   "outputs": [
    {
     "data": {
      "text/plain": "1000"
     },
     "execution_count": 11,
     "metadata": {},
     "output_type": "execute_result"
    }
   ],
   "source": [
    "len(df['Seqno'].unique())"
   ],
   "metadata": {
    "collapsed": false,
    "pycharm": {
     "name": "#%%\n"
    }
   }
  },
  {
   "cell_type": "code",
   "execution_count": 12,
   "outputs": [
    {
     "data": {
      "text/plain": "0       False\n1        True\n2        True\n3        True\n4       False\n        ...  \n3984     True\n3985    False\n3986     True\n3987     True\n3988     True\nName: Seqno, Length: 3989, dtype: bool"
     },
     "execution_count": 12,
     "metadata": {},
     "output_type": "execute_result"
    }
   ],
   "source": [
    "df['Seqno'].duplicated()"
   ],
   "metadata": {
    "collapsed": false,
    "pycharm": {
     "name": "#%%\n"
    }
   }
  },
  {
   "cell_type": "code",
   "execution_count": 13,
   "outputs": [
    {
     "data": {
      "text/plain": "0         0\n4         1\n8         2\n12        3\n16        4\n       ... \n3969    995\n3973    996\n3977    997\n3981    998\n3985    999\nName: Seqno, Length: 1000, dtype: int64"
     },
     "execution_count": 13,
     "metadata": {},
     "output_type": "execute_result"
    }
   ],
   "source": [
    "df['Seqno'].drop_duplicates()"
   ],
   "metadata": {
    "collapsed": false,
    "pycharm": {
     "name": "#%%\n"
    }
   }
  },
  {
   "cell_type": "code",
   "execution_count": 14,
   "outputs": [
    {
     "data": {
      "text/plain": "pandas.core.series.Series"
     },
     "execution_count": 14,
     "metadata": {},
     "output_type": "execute_result"
    }
   ],
   "source": [
    "type(df['Seqno'].drop_duplicates())"
   ],
   "metadata": {
    "collapsed": false,
    "pycharm": {
     "name": "#%%\n"
    }
   }
  },
  {
   "cell_type": "code",
   "execution_count": 15,
   "outputs": [
    {
     "data": {
      "text/plain": "   Price  Seqno Symbol        time\n0   1623      0   APPL  1473411962\n1   1623      0   APPL  1473411962\n2   1623      0   APPL  1473411963\n3   1623      0   APPL  1473411963\n4   1649      1   APPL  1473411963",
      "text/html": "<div>\n<style scoped>\n    .dataframe tbody tr th:only-of-type {\n        vertical-align: middle;\n    }\n\n    .dataframe tbody tr th {\n        vertical-align: top;\n    }\n\n    .dataframe thead th {\n        text-align: right;\n    }\n</style>\n<table border=\"1\" class=\"dataframe\">\n  <thead>\n    <tr style=\"text-align: right;\">\n      <th></th>\n      <th>Price</th>\n      <th>Seqno</th>\n      <th>Symbol</th>\n      <th>time</th>\n    </tr>\n  </thead>\n  <tbody>\n    <tr>\n      <th>0</th>\n      <td>1623</td>\n      <td>0</td>\n      <td>APPL</td>\n      <td>1473411962</td>\n    </tr>\n    <tr>\n      <th>1</th>\n      <td>1623</td>\n      <td>0</td>\n      <td>APPL</td>\n      <td>1473411962</td>\n    </tr>\n    <tr>\n      <th>2</th>\n      <td>1623</td>\n      <td>0</td>\n      <td>APPL</td>\n      <td>1473411963</td>\n    </tr>\n    <tr>\n      <th>3</th>\n      <td>1623</td>\n      <td>0</td>\n      <td>APPL</td>\n      <td>1473411963</td>\n    </tr>\n    <tr>\n      <th>4</th>\n      <td>1649</td>\n      <td>1</td>\n      <td>APPL</td>\n      <td>1473411963</td>\n    </tr>\n  </tbody>\n</table>\n</div>"
     },
     "execution_count": 15,
     "metadata": {},
     "output_type": "execute_result"
    }
   ],
   "source": [
    "df.head()"
   ],
   "metadata": {
    "collapsed": false,
    "pycharm": {
     "name": "#%%\n"
    }
   }
  },
  {
   "cell_type": "code",
   "execution_count": 16,
   "outputs": [
    {
     "data": {
      "text/plain": "      Price  Seqno Symbol        time\n0      1623      0   APPL  1473411962\n2      1623      0   APPL  1473411963\n4      1649      1   APPL  1473411963\n6      1649      1   APPL  1473411964\n8      1642      2   APPL  1473411964\n...     ...    ...    ...         ...\n3979   1674    997   APPL  1473412960\n3981   1680    998   APPL  1473412960\n3983   1680    998   APPL  1473412961\n3985   1509    999   APPL  1473412961\n3988   1509    999   APPL  1473412962\n\n[1737 rows x 4 columns]",
      "text/html": "<div>\n<style scoped>\n    .dataframe tbody tr th:only-of-type {\n        vertical-align: middle;\n    }\n\n    .dataframe tbody tr th {\n        vertical-align: top;\n    }\n\n    .dataframe thead th {\n        text-align: right;\n    }\n</style>\n<table border=\"1\" class=\"dataframe\">\n  <thead>\n    <tr style=\"text-align: right;\">\n      <th></th>\n      <th>Price</th>\n      <th>Seqno</th>\n      <th>Symbol</th>\n      <th>time</th>\n    </tr>\n  </thead>\n  <tbody>\n    <tr>\n      <th>0</th>\n      <td>1623</td>\n      <td>0</td>\n      <td>APPL</td>\n      <td>1473411962</td>\n    </tr>\n    <tr>\n      <th>2</th>\n      <td>1623</td>\n      <td>0</td>\n      <td>APPL</td>\n      <td>1473411963</td>\n    </tr>\n    <tr>\n      <th>4</th>\n      <td>1649</td>\n      <td>1</td>\n      <td>APPL</td>\n      <td>1473411963</td>\n    </tr>\n    <tr>\n      <th>6</th>\n      <td>1649</td>\n      <td>1</td>\n      <td>APPL</td>\n      <td>1473411964</td>\n    </tr>\n    <tr>\n      <th>8</th>\n      <td>1642</td>\n      <td>2</td>\n      <td>APPL</td>\n      <td>1473411964</td>\n    </tr>\n    <tr>\n      <th>...</th>\n      <td>...</td>\n      <td>...</td>\n      <td>...</td>\n      <td>...</td>\n    </tr>\n    <tr>\n      <th>3979</th>\n      <td>1674</td>\n      <td>997</td>\n      <td>APPL</td>\n      <td>1473412960</td>\n    </tr>\n    <tr>\n      <th>3981</th>\n      <td>1680</td>\n      <td>998</td>\n      <td>APPL</td>\n      <td>1473412960</td>\n    </tr>\n    <tr>\n      <th>3983</th>\n      <td>1680</td>\n      <td>998</td>\n      <td>APPL</td>\n      <td>1473412961</td>\n    </tr>\n    <tr>\n      <th>3985</th>\n      <td>1509</td>\n      <td>999</td>\n      <td>APPL</td>\n      <td>1473412961</td>\n    </tr>\n    <tr>\n      <th>3988</th>\n      <td>1509</td>\n      <td>999</td>\n      <td>APPL</td>\n      <td>1473412962</td>\n    </tr>\n  </tbody>\n</table>\n<p>1737 rows × 4 columns</p>\n</div>"
     },
     "execution_count": 16,
     "metadata": {},
     "output_type": "execute_result"
    }
   ],
   "source": [
    "df.drop_duplicates()"
   ],
   "metadata": {
    "collapsed": false,
    "pycharm": {
     "name": "#%%\n"
    }
   }
  },
  {
   "cell_type": "code",
   "execution_count": 18,
   "outputs": [
    {
     "data": {
      "text/plain": "      Price  Seqno Symbol        time\n0      1623      0   APPL  1473411962\n4      1649      1   APPL  1473411963\n8      1642      2   APPL  1473411964\n12     1636      3   APPL  1473411965\n16     1669      4   APPL  1473411966\n...     ...    ...    ...         ...\n3969   1641    995   APPL  1473412957\n3973   1581    996   APPL  1473412958\n3977   1674    997   APPL  1473412959\n3981   1680    998   APPL  1473412960\n3985   1509    999   APPL  1473412961\n\n[1000 rows x 4 columns]",
      "text/html": "<div>\n<style scoped>\n    .dataframe tbody tr th:only-of-type {\n        vertical-align: middle;\n    }\n\n    .dataframe tbody tr th {\n        vertical-align: top;\n    }\n\n    .dataframe thead th {\n        text-align: right;\n    }\n</style>\n<table border=\"1\" class=\"dataframe\">\n  <thead>\n    <tr style=\"text-align: right;\">\n      <th></th>\n      <th>Price</th>\n      <th>Seqno</th>\n      <th>Symbol</th>\n      <th>time</th>\n    </tr>\n  </thead>\n  <tbody>\n    <tr>\n      <th>0</th>\n      <td>1623</td>\n      <td>0</td>\n      <td>APPL</td>\n      <td>1473411962</td>\n    </tr>\n    <tr>\n      <th>4</th>\n      <td>1649</td>\n      <td>1</td>\n      <td>APPL</td>\n      <td>1473411963</td>\n    </tr>\n    <tr>\n      <th>8</th>\n      <td>1642</td>\n      <td>2</td>\n      <td>APPL</td>\n      <td>1473411964</td>\n    </tr>\n    <tr>\n      <th>12</th>\n      <td>1636</td>\n      <td>3</td>\n      <td>APPL</td>\n      <td>1473411965</td>\n    </tr>\n    <tr>\n      <th>16</th>\n      <td>1669</td>\n      <td>4</td>\n      <td>APPL</td>\n      <td>1473411966</td>\n    </tr>\n    <tr>\n      <th>...</th>\n      <td>...</td>\n      <td>...</td>\n      <td>...</td>\n      <td>...</td>\n    </tr>\n    <tr>\n      <th>3969</th>\n      <td>1641</td>\n      <td>995</td>\n      <td>APPL</td>\n      <td>1473412957</td>\n    </tr>\n    <tr>\n      <th>3973</th>\n      <td>1581</td>\n      <td>996</td>\n      <td>APPL</td>\n      <td>1473412958</td>\n    </tr>\n    <tr>\n      <th>3977</th>\n      <td>1674</td>\n      <td>997</td>\n      <td>APPL</td>\n      <td>1473412959</td>\n    </tr>\n    <tr>\n      <th>3981</th>\n      <td>1680</td>\n      <td>998</td>\n      <td>APPL</td>\n      <td>1473412960</td>\n    </tr>\n    <tr>\n      <th>3985</th>\n      <td>1509</td>\n      <td>999</td>\n      <td>APPL</td>\n      <td>1473412961</td>\n    </tr>\n  </tbody>\n</table>\n<p>1000 rows × 4 columns</p>\n</div>"
     },
     "execution_count": 18,
     "metadata": {},
     "output_type": "execute_result"
    }
   ],
   "source": [
    "df.drop_duplicates(['Seqno'], keep='first')"
   ],
   "metadata": {
    "collapsed": false,
    "pycharm": {
     "name": "#%%\n"
    }
   }
  },
  {
   "cell_type": "code",
   "execution_count": 19,
   "outputs": [
    {
     "data": {
      "text/plain": "      Price  Seqno Symbol        time\n3      1623      0   APPL  1473411963\n7      1649      1   APPL  1473411964\n11     1642      2   APPL  1473411965\n15     1636      3   APPL  1473411966\n19     1669      4   APPL  1473411967\n...     ...    ...    ...         ...\n3972   1641    995   APPL  1473412958\n3976   1581    996   APPL  1473412959\n3980   1674    997   APPL  1473412960\n3984   1680    998   APPL  1473412961\n3988   1509    999   APPL  1473412962\n\n[1000 rows x 4 columns]",
      "text/html": "<div>\n<style scoped>\n    .dataframe tbody tr th:only-of-type {\n        vertical-align: middle;\n    }\n\n    .dataframe tbody tr th {\n        vertical-align: top;\n    }\n\n    .dataframe thead th {\n        text-align: right;\n    }\n</style>\n<table border=\"1\" class=\"dataframe\">\n  <thead>\n    <tr style=\"text-align: right;\">\n      <th></th>\n      <th>Price</th>\n      <th>Seqno</th>\n      <th>Symbol</th>\n      <th>time</th>\n    </tr>\n  </thead>\n  <tbody>\n    <tr>\n      <th>3</th>\n      <td>1623</td>\n      <td>0</td>\n      <td>APPL</td>\n      <td>1473411963</td>\n    </tr>\n    <tr>\n      <th>7</th>\n      <td>1649</td>\n      <td>1</td>\n      <td>APPL</td>\n      <td>1473411964</td>\n    </tr>\n    <tr>\n      <th>11</th>\n      <td>1642</td>\n      <td>2</td>\n      <td>APPL</td>\n      <td>1473411965</td>\n    </tr>\n    <tr>\n      <th>15</th>\n      <td>1636</td>\n      <td>3</td>\n      <td>APPL</td>\n      <td>1473411966</td>\n    </tr>\n    <tr>\n      <th>19</th>\n      <td>1669</td>\n      <td>4</td>\n      <td>APPL</td>\n      <td>1473411967</td>\n    </tr>\n    <tr>\n      <th>...</th>\n      <td>...</td>\n      <td>...</td>\n      <td>...</td>\n      <td>...</td>\n    </tr>\n    <tr>\n      <th>3972</th>\n      <td>1641</td>\n      <td>995</td>\n      <td>APPL</td>\n      <td>1473412958</td>\n    </tr>\n    <tr>\n      <th>3976</th>\n      <td>1581</td>\n      <td>996</td>\n      <td>APPL</td>\n      <td>1473412959</td>\n    </tr>\n    <tr>\n      <th>3980</th>\n      <td>1674</td>\n      <td>997</td>\n      <td>APPL</td>\n      <td>1473412960</td>\n    </tr>\n    <tr>\n      <th>3984</th>\n      <td>1680</td>\n      <td>998</td>\n      <td>APPL</td>\n      <td>1473412961</td>\n    </tr>\n    <tr>\n      <th>3988</th>\n      <td>1509</td>\n      <td>999</td>\n      <td>APPL</td>\n      <td>1473412962</td>\n    </tr>\n  </tbody>\n</table>\n<p>1000 rows × 4 columns</p>\n</div>"
     },
     "execution_count": 19,
     "metadata": {},
     "output_type": "execute_result"
    }
   ],
   "source": [
    "df.drop_duplicates(['Seqno'], keep='last')"
   ],
   "metadata": {
    "collapsed": false,
    "pycharm": {
     "name": "#%%\n"
    }
   }
  },
  {
   "cell_type": "code",
   "execution_count": null,
   "outputs": [],
   "source": [],
   "metadata": {
    "collapsed": false,
    "pycharm": {
     "name": "#%%\n"
    }
   }
  }
 ],
 "metadata": {
  "kernelspec": {
   "display_name": "Python 3",
   "language": "python",
   "name": "python3"
  },
  "language_info": {
   "codemirror_mode": {
    "name": "ipython",
    "version": 2
   },
   "file_extension": ".py",
   "mimetype": "text/x-python",
   "name": "python",
   "nbconvert_exporter": "python",
   "pygments_lexer": "ipython2",
   "version": "2.7.6"
  }
 },
 "nbformat": 4,
 "nbformat_minor": 0
}