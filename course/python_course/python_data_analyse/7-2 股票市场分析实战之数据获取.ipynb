{
 "cells": [
  {
   "cell_type": "markdown",
   "source": [
    "# pandas_datareader"
   ],
   "metadata": {
    "collapsed": false,
    "pycharm": {
     "name": "#%% md\n"
    }
   }
  },
  {
   "cell_type": "code",
   "execution_count": 1,
   "outputs": [],
   "source": [
    "import pandas_datareader as pdr"
   ],
   "metadata": {
    "collapsed": false,
    "pycharm": {
     "name": "#%%\n"
    }
   }
  },
  {
   "cell_type": "code",
   "execution_count": 3,
   "outputs": [],
   "source": [
    "alibaba = pdr.get_data_yahoo('BABA')"
   ],
   "metadata": {
    "collapsed": false,
    "pycharm": {
     "name": "#%%\n"
    }
   }
  },
  {
   "cell_type": "code",
   "execution_count": 4,
   "outputs": [
    {
     "data": {
      "text/plain": "                  High         Low        Open       Close    Volume  \\\nDate                                                                   \n2017-07-28  158.960007  152.820007  153.960007  157.559998  14449400   \n2017-07-31  159.389999  153.500000  158.899994  154.949997  17782400   \n2017-08-01  156.610001  153.800003  156.250000  154.729996  12035300   \n2017-08-02  155.750000  149.100006  155.470001  151.910004  19529300   \n2017-08-03  153.800003  149.600006  152.100006  153.320007  12435400   \n\n             Adj Close  \nDate                    \n2017-07-28  157.559998  \n2017-07-31  154.949997  \n2017-08-01  154.729996  \n2017-08-02  151.910004  \n2017-08-03  153.320007  ",
      "text/html": "<div>\n<style scoped>\n    .dataframe tbody tr th:only-of-type {\n        vertical-align: middle;\n    }\n\n    .dataframe tbody tr th {\n        vertical-align: top;\n    }\n\n    .dataframe thead th {\n        text-align: right;\n    }\n</style>\n<table border=\"1\" class=\"dataframe\">\n  <thead>\n    <tr style=\"text-align: right;\">\n      <th></th>\n      <th>High</th>\n      <th>Low</th>\n      <th>Open</th>\n      <th>Close</th>\n      <th>Volume</th>\n      <th>Adj Close</th>\n    </tr>\n    <tr>\n      <th>Date</th>\n      <th></th>\n      <th></th>\n      <th></th>\n      <th></th>\n      <th></th>\n      <th></th>\n    </tr>\n  </thead>\n  <tbody>\n    <tr>\n      <th>2017-07-28</th>\n      <td>158.960007</td>\n      <td>152.820007</td>\n      <td>153.960007</td>\n      <td>157.559998</td>\n      <td>14449400</td>\n      <td>157.559998</td>\n    </tr>\n    <tr>\n      <th>2017-07-31</th>\n      <td>159.389999</td>\n      <td>153.500000</td>\n      <td>158.899994</td>\n      <td>154.949997</td>\n      <td>17782400</td>\n      <td>154.949997</td>\n    </tr>\n    <tr>\n      <th>2017-08-01</th>\n      <td>156.610001</td>\n      <td>153.800003</td>\n      <td>156.250000</td>\n      <td>154.729996</td>\n      <td>12035300</td>\n      <td>154.729996</td>\n    </tr>\n    <tr>\n      <th>2017-08-02</th>\n      <td>155.750000</td>\n      <td>149.100006</td>\n      <td>155.470001</td>\n      <td>151.910004</td>\n      <td>19529300</td>\n      <td>151.910004</td>\n    </tr>\n    <tr>\n      <th>2017-08-03</th>\n      <td>153.800003</td>\n      <td>149.600006</td>\n      <td>152.100006</td>\n      <td>153.320007</td>\n      <td>12435400</td>\n      <td>153.320007</td>\n    </tr>\n  </tbody>\n</table>\n</div>"
     },
     "execution_count": 4,
     "metadata": {},
     "output_type": "execute_result"
    }
   ],
   "source": [
    "alibaba.head()"
   ],
   "metadata": {
    "collapsed": false,
    "pycharm": {
     "name": "#%%\n"
    }
   }
  },
  {
   "cell_type": "code",
   "execution_count": 5,
   "outputs": [
    {
     "data": {
      "text/plain": "(1258, 6)"
     },
     "execution_count": 5,
     "metadata": {},
     "output_type": "execute_result"
    }
   ],
   "source": [
    "alibaba.shape"
   ],
   "metadata": {
    "collapsed": false,
    "pycharm": {
     "name": "#%%\n"
    }
   }
  },
  {
   "cell_type": "code",
   "execution_count": 6,
   "outputs": [
    {
     "data": {
      "text/plain": "<bound method NDFrame.tail of                   High         Low        Open       Close    Volume  \\\nDate                                                                   \n2017-07-28  158.960007  152.820007  153.960007  157.559998  14449400   \n2017-07-31  159.389999  153.500000  158.899994  154.949997  17782400   \n2017-08-01  156.610001  153.800003  156.250000  154.729996  12035300   \n2017-08-02  155.750000  149.100006  155.470001  151.910004  19529300   \n2017-08-03  153.800003  149.600006  152.100006  153.320007  12435400   \n...                ...         ...         ...         ...       ...   \n2022-07-21  106.610001  103.680000  104.059998  105.129997  17865500   \n2022-07-22  104.699997   99.680000  104.309998  100.610001  18803500   \n2022-07-25  101.269997   98.739998  100.500000  101.059998  16604300   \n2022-07-26  105.250000  100.809998  104.309998  101.440002  28004300   \n2022-07-27  102.970001   99.800003  102.199997  102.779999  19330800   \n\n             Adj Close  \nDate                    \n2017-07-28  157.559998  \n2017-07-31  154.949997  \n2017-08-01  154.729996  \n2017-08-02  151.910004  \n2017-08-03  153.320007  \n...                ...  \n2022-07-21  105.129997  \n2022-07-22  100.610001  \n2022-07-25  101.059998  \n2022-07-26  101.440002  \n2022-07-27  102.779999  \n\n[1258 rows x 6 columns]>"
     },
     "execution_count": 6,
     "metadata": {},
     "output_type": "execute_result"
    }
   ],
   "source": [
    "alibaba.tail"
   ],
   "metadata": {
    "collapsed": false,
    "pycharm": {
     "name": "#%%\n"
    }
   }
  },
  {
   "cell_type": "code",
   "execution_count": 7,
   "outputs": [
    {
     "data": {
      "text/plain": "              High          Low         Open        Close        Volume  \\\ncount  1258.000000  1258.000000  1258.000000  1258.000000  1.258000e+03   \nmean    187.605169   182.640416   185.341107   185.146057  2.004650e+07   \nstd      46.454910    45.969425    46.294836    46.287263  1.220448e+07   \nmin      80.139999    73.279999    75.099998    76.760002  5.523000e+06   \n25%     163.084251   158.892506   161.379997   160.702496  1.330680e+07   \n50%     183.116005   178.550003   180.840004   180.860001  1.736860e+07   \n75%     213.722500   209.369751   211.242496   211.490002  2.282715e+07   \nmax     319.320007   308.910004   313.500000   317.140015  1.598343e+08   \n\n         Adj Close  \ncount  1258.000000  \nmean    185.146057  \nstd      46.287263  \nmin      76.760002  \n25%     160.702496  \n50%     180.860001  \n75%     211.490002  \nmax     317.140015  ",
      "text/html": "<div>\n<style scoped>\n    .dataframe tbody tr th:only-of-type {\n        vertical-align: middle;\n    }\n\n    .dataframe tbody tr th {\n        vertical-align: top;\n    }\n\n    .dataframe thead th {\n        text-align: right;\n    }\n</style>\n<table border=\"1\" class=\"dataframe\">\n  <thead>\n    <tr style=\"text-align: right;\">\n      <th></th>\n      <th>High</th>\n      <th>Low</th>\n      <th>Open</th>\n      <th>Close</th>\n      <th>Volume</th>\n      <th>Adj Close</th>\n    </tr>\n  </thead>\n  <tbody>\n    <tr>\n      <th>count</th>\n      <td>1258.000000</td>\n      <td>1258.000000</td>\n      <td>1258.000000</td>\n      <td>1258.000000</td>\n      <td>1.258000e+03</td>\n      <td>1258.000000</td>\n    </tr>\n    <tr>\n      <th>mean</th>\n      <td>187.605169</td>\n      <td>182.640416</td>\n      <td>185.341107</td>\n      <td>185.146057</td>\n      <td>2.004650e+07</td>\n      <td>185.146057</td>\n    </tr>\n    <tr>\n      <th>std</th>\n      <td>46.454910</td>\n      <td>45.969425</td>\n      <td>46.294836</td>\n      <td>46.287263</td>\n      <td>1.220448e+07</td>\n      <td>46.287263</td>\n    </tr>\n    <tr>\n      <th>min</th>\n      <td>80.139999</td>\n      <td>73.279999</td>\n      <td>75.099998</td>\n      <td>76.760002</td>\n      <td>5.523000e+06</td>\n      <td>76.760002</td>\n    </tr>\n    <tr>\n      <th>25%</th>\n      <td>163.084251</td>\n      <td>158.892506</td>\n      <td>161.379997</td>\n      <td>160.702496</td>\n      <td>1.330680e+07</td>\n      <td>160.702496</td>\n    </tr>\n    <tr>\n      <th>50%</th>\n      <td>183.116005</td>\n      <td>178.550003</td>\n      <td>180.840004</td>\n      <td>180.860001</td>\n      <td>1.736860e+07</td>\n      <td>180.860001</td>\n    </tr>\n    <tr>\n      <th>75%</th>\n      <td>213.722500</td>\n      <td>209.369751</td>\n      <td>211.242496</td>\n      <td>211.490002</td>\n      <td>2.282715e+07</td>\n      <td>211.490002</td>\n    </tr>\n    <tr>\n      <th>max</th>\n      <td>319.320007</td>\n      <td>308.910004</td>\n      <td>313.500000</td>\n      <td>317.140015</td>\n      <td>1.598343e+08</td>\n      <td>317.140015</td>\n    </tr>\n  </tbody>\n</table>\n</div>"
     },
     "execution_count": 7,
     "metadata": {},
     "output_type": "execute_result"
    }
   ],
   "source": [
    "alibaba.describe()"
   ],
   "metadata": {
    "collapsed": false,
    "pycharm": {
     "name": "#%%\n"
    }
   }
  },
  {
   "cell_type": "code",
   "execution_count": 8,
   "outputs": [
    {
     "data": {
      "text/plain": "<bound method DataFrame.info of                   High         Low        Open       Close    Volume  \\\nDate                                                                   \n2017-07-28  158.960007  152.820007  153.960007  157.559998  14449400   \n2017-07-31  159.389999  153.500000  158.899994  154.949997  17782400   \n2017-08-01  156.610001  153.800003  156.250000  154.729996  12035300   \n2017-08-02  155.750000  149.100006  155.470001  151.910004  19529300   \n2017-08-03  153.800003  149.600006  152.100006  153.320007  12435400   \n...                ...         ...         ...         ...       ...   \n2022-07-21  106.610001  103.680000  104.059998  105.129997  17865500   \n2022-07-22  104.699997   99.680000  104.309998  100.610001  18803500   \n2022-07-25  101.269997   98.739998  100.500000  101.059998  16604300   \n2022-07-26  105.250000  100.809998  104.309998  101.440002  28004300   \n2022-07-27  102.970001   99.800003  102.199997  102.779999  19330800   \n\n             Adj Close  \nDate                    \n2017-07-28  157.559998  \n2017-07-31  154.949997  \n2017-08-01  154.729996  \n2017-08-02  151.910004  \n2017-08-03  153.320007  \n...                ...  \n2022-07-21  105.129997  \n2022-07-22  100.610001  \n2022-07-25  101.059998  \n2022-07-26  101.440002  \n2022-07-27  102.779999  \n\n[1258 rows x 6 columns]>"
     },
     "execution_count": 8,
     "metadata": {},
     "output_type": "execute_result"
    }
   ],
   "source": [
    "alibaba.info"
   ],
   "metadata": {
    "collapsed": false,
    "pycharm": {
     "name": "#%%\n"
    }
   }
  },
  {
   "cell_type": "code",
   "execution_count": 9,
   "outputs": [
    {
     "name": "stdout",
     "output_type": "stream",
     "text": [
      "<class 'pandas.core.frame.DataFrame'>\n",
      "DatetimeIndex: 1258 entries, 2017-07-28 to 2022-07-27\n",
      "Data columns (total 6 columns):\n",
      " #   Column     Non-Null Count  Dtype  \n",
      "---  ------     --------------  -----  \n",
      " 0   High       1258 non-null   float64\n",
      " 1   Low        1258 non-null   float64\n",
      " 2   Open       1258 non-null   float64\n",
      " 3   Close      1258 non-null   float64\n",
      " 4   Volume     1258 non-null   int64  \n",
      " 5   Adj Close  1258 non-null   float64\n",
      "dtypes: float64(5), int64(1)\n",
      "memory usage: 68.8 KB\n"
     ]
    }
   ],
   "source": [
    "alibaba.info()"
   ],
   "metadata": {
    "collapsed": false,
    "pycharm": {
     "name": "#%%\n"
    }
   }
  },
  {
   "cell_type": "code",
   "execution_count": null,
   "outputs": [],
   "source": [],
   "metadata": {
    "collapsed": false,
    "pycharm": {
     "name": "#%%\n"
    }
   }
  }
 ],
 "metadata": {
  "kernelspec": {
   "display_name": "Python 3",
   "language": "python",
   "name": "python3"
  },
  "language_info": {
   "codemirror_mode": {
    "name": "ipython",
    "version": 2
   },
   "file_extension": ".py",
   "mimetype": "text/x-python",
   "name": "python",
   "nbconvert_exporter": "python",
   "pygments_lexer": "ipython2",
   "version": "2.7.6"
  }
 },
 "nbformat": 4,
 "nbformat_minor": 0
}