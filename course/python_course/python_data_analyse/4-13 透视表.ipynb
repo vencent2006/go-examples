{
 "cells": [
  {
   "cell_type": "code",
   "execution_count": 2,
   "outputs": [],
   "source": [
    "import numpy as np\n",
    "import pandas as pd\n",
    "from pandas import Series, DataFrame"
   ],
   "metadata": {
    "collapsed": false,
    "pycharm": {
     "name": "#%%\n"
    }
   }
  },
  {
   "cell_type": "code",
   "execution_count": 3,
   "outputs": [
    {
     "name": "stdout",
     "output_type": "stream",
     "text": [
      "apply_demo.csv     demo_duplicate.csv movie_metadata.csv\r\n",
      "city_weather.csv   iris.csv\r\n"
     ]
    }
   ],
   "source": [
    "!ls homework"
   ],
   "metadata": {
    "collapsed": false,
    "pycharm": {
     "name": "#%%\n"
    }
   }
  },
  {
   "cell_type": "code",
   "execution_count": 5,
   "outputs": [],
   "source": [
    "df = pd.read_excel('homework/sales-funnel.xlsx')"
   ],
   "metadata": {
    "collapsed": false,
    "pycharm": {
     "name": "#%%\n"
    }
   }
  },
  {
   "cell_type": "code",
   "execution_count": 6,
   "outputs": [
    {
     "data": {
      "text/plain": "    Account                          Name            Rep        Manager  \\\n0    714466               Trantow-Barrows   Craig Booker   Debra Henley   \n1    714466               Trantow-Barrows   Craig Booker   Debra Henley   \n2    714466               Trantow-Barrows   Craig Booker   Debra Henley   \n3    737550  Fritsch, Russel and Anderson   Craig Booker   Debra Henley   \n4    146832                  Kiehn-Spinka  Daniel Hilton   Debra Henley   \n5    218895                     Kulas Inc  Daniel Hilton   Debra Henley   \n6    218895                     Kulas Inc  Daniel Hilton   Debra Henley   \n7    412290                 Jerde-Hilpert     John Smith   Debra Henley   \n8    740150                    Barton LLC     John Smith   Debra Henley   \n9    141962                    Herman LLC    Cedric Moss  Fred Anderson   \n10   163416                   Purdy-Kunde    Cedric Moss  Fred Anderson   \n11   239344                    Stokes LLC    Cedric Moss  Fred Anderson   \n12   239344                    Stokes LLC    Cedric Moss  Fred Anderson   \n13   307599   Kassulke, Ondricka and Metz     Wendy Yule  Fred Anderson   \n14   688981                   Keeling LLC     Wendy Yule  Fred Anderson   \n15   729833                     Koepp Ltd     Wendy Yule  Fred Anderson   \n16   729833                     Koepp Ltd     Wendy Yule  Fred Anderson   \n\n        Product  Quantity   Price     Status  \n0           CPU         1   30000  presented  \n1      Software         1   10000  presented  \n2   Maintenance         2    5000    pending  \n3           CPU         1   35000   declined  \n4           CPU         2   65000        won  \n5           CPU         2   40000    pending  \n6      Software         1   10000  presented  \n7   Maintenance         2    5000    pending  \n8           CPU         1   35000   declined  \n9           CPU         2   65000        won  \n10          CPU         1   30000  presented  \n11  Maintenance         1    5000    pending  \n12     Software         1   10000  presented  \n13  Maintenance         3    7000        won  \n14          CPU         5  100000        won  \n15          CPU         2   65000   declined  \n16      Monitor         2    5000  presented  ",
      "text/html": "<div>\n<style scoped>\n    .dataframe tbody tr th:only-of-type {\n        vertical-align: middle;\n    }\n\n    .dataframe tbody tr th {\n        vertical-align: top;\n    }\n\n    .dataframe thead th {\n        text-align: right;\n    }\n</style>\n<table border=\"1\" class=\"dataframe\">\n  <thead>\n    <tr style=\"text-align: right;\">\n      <th></th>\n      <th>Account</th>\n      <th>Name</th>\n      <th>Rep</th>\n      <th>Manager</th>\n      <th>Product</th>\n      <th>Quantity</th>\n      <th>Price</th>\n      <th>Status</th>\n    </tr>\n  </thead>\n  <tbody>\n    <tr>\n      <th>0</th>\n      <td>714466</td>\n      <td>Trantow-Barrows</td>\n      <td>Craig Booker</td>\n      <td>Debra Henley</td>\n      <td>CPU</td>\n      <td>1</td>\n      <td>30000</td>\n      <td>presented</td>\n    </tr>\n    <tr>\n      <th>1</th>\n      <td>714466</td>\n      <td>Trantow-Barrows</td>\n      <td>Craig Booker</td>\n      <td>Debra Henley</td>\n      <td>Software</td>\n      <td>1</td>\n      <td>10000</td>\n      <td>presented</td>\n    </tr>\n    <tr>\n      <th>2</th>\n      <td>714466</td>\n      <td>Trantow-Barrows</td>\n      <td>Craig Booker</td>\n      <td>Debra Henley</td>\n      <td>Maintenance</td>\n      <td>2</td>\n      <td>5000</td>\n      <td>pending</td>\n    </tr>\n    <tr>\n      <th>3</th>\n      <td>737550</td>\n      <td>Fritsch, Russel and Anderson</td>\n      <td>Craig Booker</td>\n      <td>Debra Henley</td>\n      <td>CPU</td>\n      <td>1</td>\n      <td>35000</td>\n      <td>declined</td>\n    </tr>\n    <tr>\n      <th>4</th>\n      <td>146832</td>\n      <td>Kiehn-Spinka</td>\n      <td>Daniel Hilton</td>\n      <td>Debra Henley</td>\n      <td>CPU</td>\n      <td>2</td>\n      <td>65000</td>\n      <td>won</td>\n    </tr>\n    <tr>\n      <th>5</th>\n      <td>218895</td>\n      <td>Kulas Inc</td>\n      <td>Daniel Hilton</td>\n      <td>Debra Henley</td>\n      <td>CPU</td>\n      <td>2</td>\n      <td>40000</td>\n      <td>pending</td>\n    </tr>\n    <tr>\n      <th>6</th>\n      <td>218895</td>\n      <td>Kulas Inc</td>\n      <td>Daniel Hilton</td>\n      <td>Debra Henley</td>\n      <td>Software</td>\n      <td>1</td>\n      <td>10000</td>\n      <td>presented</td>\n    </tr>\n    <tr>\n      <th>7</th>\n      <td>412290</td>\n      <td>Jerde-Hilpert</td>\n      <td>John Smith</td>\n      <td>Debra Henley</td>\n      <td>Maintenance</td>\n      <td>2</td>\n      <td>5000</td>\n      <td>pending</td>\n    </tr>\n    <tr>\n      <th>8</th>\n      <td>740150</td>\n      <td>Barton LLC</td>\n      <td>John Smith</td>\n      <td>Debra Henley</td>\n      <td>CPU</td>\n      <td>1</td>\n      <td>35000</td>\n      <td>declined</td>\n    </tr>\n    <tr>\n      <th>9</th>\n      <td>141962</td>\n      <td>Herman LLC</td>\n      <td>Cedric Moss</td>\n      <td>Fred Anderson</td>\n      <td>CPU</td>\n      <td>2</td>\n      <td>65000</td>\n      <td>won</td>\n    </tr>\n    <tr>\n      <th>10</th>\n      <td>163416</td>\n      <td>Purdy-Kunde</td>\n      <td>Cedric Moss</td>\n      <td>Fred Anderson</td>\n      <td>CPU</td>\n      <td>1</td>\n      <td>30000</td>\n      <td>presented</td>\n    </tr>\n    <tr>\n      <th>11</th>\n      <td>239344</td>\n      <td>Stokes LLC</td>\n      <td>Cedric Moss</td>\n      <td>Fred Anderson</td>\n      <td>Maintenance</td>\n      <td>1</td>\n      <td>5000</td>\n      <td>pending</td>\n    </tr>\n    <tr>\n      <th>12</th>\n      <td>239344</td>\n      <td>Stokes LLC</td>\n      <td>Cedric Moss</td>\n      <td>Fred Anderson</td>\n      <td>Software</td>\n      <td>1</td>\n      <td>10000</td>\n      <td>presented</td>\n    </tr>\n    <tr>\n      <th>13</th>\n      <td>307599</td>\n      <td>Kassulke, Ondricka and Metz</td>\n      <td>Wendy Yule</td>\n      <td>Fred Anderson</td>\n      <td>Maintenance</td>\n      <td>3</td>\n      <td>7000</td>\n      <td>won</td>\n    </tr>\n    <tr>\n      <th>14</th>\n      <td>688981</td>\n      <td>Keeling LLC</td>\n      <td>Wendy Yule</td>\n      <td>Fred Anderson</td>\n      <td>CPU</td>\n      <td>5</td>\n      <td>100000</td>\n      <td>won</td>\n    </tr>\n    <tr>\n      <th>15</th>\n      <td>729833</td>\n      <td>Koepp Ltd</td>\n      <td>Wendy Yule</td>\n      <td>Fred Anderson</td>\n      <td>CPU</td>\n      <td>2</td>\n      <td>65000</td>\n      <td>declined</td>\n    </tr>\n    <tr>\n      <th>16</th>\n      <td>729833</td>\n      <td>Koepp Ltd</td>\n      <td>Wendy Yule</td>\n      <td>Fred Anderson</td>\n      <td>Monitor</td>\n      <td>2</td>\n      <td>5000</td>\n      <td>presented</td>\n    </tr>\n  </tbody>\n</table>\n</div>"
     },
     "execution_count": 6,
     "metadata": {},
     "output_type": "execute_result"
    }
   ],
   "source": [
    "df"
   ],
   "metadata": {
    "collapsed": false,
    "pycharm": {
     "name": "#%%\n"
    }
   }
  },
  {
   "cell_type": "code",
   "execution_count": 9,
   "outputs": [
    {
     "data": {
      "text/plain": "                              Account   Price  Quantity\nName                                                   \nBarton LLC                     740150   35000  1.000000\nFritsch, Russel and Anderson   737550   35000  1.000000\nHerman LLC                     141962   65000  2.000000\nJerde-Hilpert                  412290    5000  2.000000\nKassulke, Ondricka and Metz    307599    7000  3.000000\nKeeling LLC                    688981  100000  5.000000\nKiehn-Spinka                   146832   65000  2.000000\nKoepp Ltd                      729833   35000  2.000000\nKulas Inc                      218895   25000  1.500000\nPurdy-Kunde                    163416   30000  1.000000\nStokes LLC                     239344    7500  1.000000\nTrantow-Barrows                714466   15000  1.333333",
      "text/html": "<div>\n<style scoped>\n    .dataframe tbody tr th:only-of-type {\n        vertical-align: middle;\n    }\n\n    .dataframe tbody tr th {\n        vertical-align: top;\n    }\n\n    .dataframe thead th {\n        text-align: right;\n    }\n</style>\n<table border=\"1\" class=\"dataframe\">\n  <thead>\n    <tr style=\"text-align: right;\">\n      <th></th>\n      <th>Account</th>\n      <th>Price</th>\n      <th>Quantity</th>\n    </tr>\n    <tr>\n      <th>Name</th>\n      <th></th>\n      <th></th>\n      <th></th>\n    </tr>\n  </thead>\n  <tbody>\n    <tr>\n      <th>Barton LLC</th>\n      <td>740150</td>\n      <td>35000</td>\n      <td>1.000000</td>\n    </tr>\n    <tr>\n      <th>Fritsch, Russel and Anderson</th>\n      <td>737550</td>\n      <td>35000</td>\n      <td>1.000000</td>\n    </tr>\n    <tr>\n      <th>Herman LLC</th>\n      <td>141962</td>\n      <td>65000</td>\n      <td>2.000000</td>\n    </tr>\n    <tr>\n      <th>Jerde-Hilpert</th>\n      <td>412290</td>\n      <td>5000</td>\n      <td>2.000000</td>\n    </tr>\n    <tr>\n      <th>Kassulke, Ondricka and Metz</th>\n      <td>307599</td>\n      <td>7000</td>\n      <td>3.000000</td>\n    </tr>\n    <tr>\n      <th>Keeling LLC</th>\n      <td>688981</td>\n      <td>100000</td>\n      <td>5.000000</td>\n    </tr>\n    <tr>\n      <th>Kiehn-Spinka</th>\n      <td>146832</td>\n      <td>65000</td>\n      <td>2.000000</td>\n    </tr>\n    <tr>\n      <th>Koepp Ltd</th>\n      <td>729833</td>\n      <td>35000</td>\n      <td>2.000000</td>\n    </tr>\n    <tr>\n      <th>Kulas Inc</th>\n      <td>218895</td>\n      <td>25000</td>\n      <td>1.500000</td>\n    </tr>\n    <tr>\n      <th>Purdy-Kunde</th>\n      <td>163416</td>\n      <td>30000</td>\n      <td>1.000000</td>\n    </tr>\n    <tr>\n      <th>Stokes LLC</th>\n      <td>239344</td>\n      <td>7500</td>\n      <td>1.000000</td>\n    </tr>\n    <tr>\n      <th>Trantow-Barrows</th>\n      <td>714466</td>\n      <td>15000</td>\n      <td>1.333333</td>\n    </tr>\n  </tbody>\n</table>\n</div>"
     },
     "execution_count": 9,
     "metadata": {},
     "output_type": "execute_result"
    }
   ],
   "source": [
    "# 默认的agg func是mean\n",
    "pd.pivot_table(df, index=['Name'])"
   ],
   "metadata": {
    "collapsed": false,
    "pycharm": {
     "name": "#%%\n"
    }
   }
  },
  {
   "cell_type": "code",
   "execution_count": 10,
   "outputs": [
    {
     "data": {
      "text/plain": "                              Account   Price  Quantity\nName                                                   \nBarton LLC                     740150   35000         1\nFritsch, Russel and Anderson   737550   35000         1\nHerman LLC                     141962   65000         2\nJerde-Hilpert                  412290    5000         2\nKassulke, Ondricka and Metz    307599    7000         3\nKeeling LLC                    688981  100000         5\nKiehn-Spinka                   146832   65000         2\nKoepp Ltd                     1459666   70000         4\nKulas Inc                      437790   50000         3\nPurdy-Kunde                    163416   30000         1\nStokes LLC                     478688   15000         2\nTrantow-Barrows               2143398   45000         4",
      "text/html": "<div>\n<style scoped>\n    .dataframe tbody tr th:only-of-type {\n        vertical-align: middle;\n    }\n\n    .dataframe tbody tr th {\n        vertical-align: top;\n    }\n\n    .dataframe thead th {\n        text-align: right;\n    }\n</style>\n<table border=\"1\" class=\"dataframe\">\n  <thead>\n    <tr style=\"text-align: right;\">\n      <th></th>\n      <th>Account</th>\n      <th>Price</th>\n      <th>Quantity</th>\n    </tr>\n    <tr>\n      <th>Name</th>\n      <th></th>\n      <th></th>\n      <th></th>\n    </tr>\n  </thead>\n  <tbody>\n    <tr>\n      <th>Barton LLC</th>\n      <td>740150</td>\n      <td>35000</td>\n      <td>1</td>\n    </tr>\n    <tr>\n      <th>Fritsch, Russel and Anderson</th>\n      <td>737550</td>\n      <td>35000</td>\n      <td>1</td>\n    </tr>\n    <tr>\n      <th>Herman LLC</th>\n      <td>141962</td>\n      <td>65000</td>\n      <td>2</td>\n    </tr>\n    <tr>\n      <th>Jerde-Hilpert</th>\n      <td>412290</td>\n      <td>5000</td>\n      <td>2</td>\n    </tr>\n    <tr>\n      <th>Kassulke, Ondricka and Metz</th>\n      <td>307599</td>\n      <td>7000</td>\n      <td>3</td>\n    </tr>\n    <tr>\n      <th>Keeling LLC</th>\n      <td>688981</td>\n      <td>100000</td>\n      <td>5</td>\n    </tr>\n    <tr>\n      <th>Kiehn-Spinka</th>\n      <td>146832</td>\n      <td>65000</td>\n      <td>2</td>\n    </tr>\n    <tr>\n      <th>Koepp Ltd</th>\n      <td>1459666</td>\n      <td>70000</td>\n      <td>4</td>\n    </tr>\n    <tr>\n      <th>Kulas Inc</th>\n      <td>437790</td>\n      <td>50000</td>\n      <td>3</td>\n    </tr>\n    <tr>\n      <th>Purdy-Kunde</th>\n      <td>163416</td>\n      <td>30000</td>\n      <td>1</td>\n    </tr>\n    <tr>\n      <th>Stokes LLC</th>\n      <td>478688</td>\n      <td>15000</td>\n      <td>2</td>\n    </tr>\n    <tr>\n      <th>Trantow-Barrows</th>\n      <td>2143398</td>\n      <td>45000</td>\n      <td>4</td>\n    </tr>\n  </tbody>\n</table>\n</div>"
     },
     "execution_count": 10,
     "metadata": {},
     "output_type": "execute_result"
    }
   ],
   "source": [
    "pd.pivot_table(df, index=['Name'], aggfunc='sum')"
   ],
   "metadata": {
    "collapsed": false,
    "pycharm": {
     "name": "#%%\n"
    }
   }
  },
  {
   "cell_type": "code",
   "execution_count": 11,
   "outputs": [
    {
     "data": {
      "text/plain": "                                                          Account   Price  \\\nName                         Rep           Manager                          \nBarton LLC                   John Smith    Debra Henley    740150   35000   \nFritsch, Russel and Anderson Craig Booker  Debra Henley    737550   35000   \nHerman LLC                   Cedric Moss   Fred Anderson   141962   65000   \nJerde-Hilpert                John Smith    Debra Henley    412290    5000   \nKassulke, Ondricka and Metz  Wendy Yule    Fred Anderson   307599    7000   \nKeeling LLC                  Wendy Yule    Fred Anderson   688981  100000   \nKiehn-Spinka                 Daniel Hilton Debra Henley    146832   65000   \nKoepp Ltd                    Wendy Yule    Fred Anderson   729833   35000   \nKulas Inc                    Daniel Hilton Debra Henley    218895   25000   \nPurdy-Kunde                  Cedric Moss   Fred Anderson   163416   30000   \nStokes LLC                   Cedric Moss   Fred Anderson   239344    7500   \nTrantow-Barrows              Craig Booker  Debra Henley    714466   15000   \n\n                                                          Quantity  \nName                         Rep           Manager                  \nBarton LLC                   John Smith    Debra Henley   1.000000  \nFritsch, Russel and Anderson Craig Booker  Debra Henley   1.000000  \nHerman LLC                   Cedric Moss   Fred Anderson  2.000000  \nJerde-Hilpert                John Smith    Debra Henley   2.000000  \nKassulke, Ondricka and Metz  Wendy Yule    Fred Anderson  3.000000  \nKeeling LLC                  Wendy Yule    Fred Anderson  5.000000  \nKiehn-Spinka                 Daniel Hilton Debra Henley   2.000000  \nKoepp Ltd                    Wendy Yule    Fred Anderson  2.000000  \nKulas Inc                    Daniel Hilton Debra Henley   1.500000  \nPurdy-Kunde                  Cedric Moss   Fred Anderson  1.000000  \nStokes LLC                   Cedric Moss   Fred Anderson  1.000000  \nTrantow-Barrows              Craig Booker  Debra Henley   1.333333  ",
      "text/html": "<div>\n<style scoped>\n    .dataframe tbody tr th:only-of-type {\n        vertical-align: middle;\n    }\n\n    .dataframe tbody tr th {\n        vertical-align: top;\n    }\n\n    .dataframe thead th {\n        text-align: right;\n    }\n</style>\n<table border=\"1\" class=\"dataframe\">\n  <thead>\n    <tr style=\"text-align: right;\">\n      <th></th>\n      <th></th>\n      <th></th>\n      <th>Account</th>\n      <th>Price</th>\n      <th>Quantity</th>\n    </tr>\n    <tr>\n      <th>Name</th>\n      <th>Rep</th>\n      <th>Manager</th>\n      <th></th>\n      <th></th>\n      <th></th>\n    </tr>\n  </thead>\n  <tbody>\n    <tr>\n      <th>Barton LLC</th>\n      <th>John Smith</th>\n      <th>Debra Henley</th>\n      <td>740150</td>\n      <td>35000</td>\n      <td>1.000000</td>\n    </tr>\n    <tr>\n      <th>Fritsch, Russel and Anderson</th>\n      <th>Craig Booker</th>\n      <th>Debra Henley</th>\n      <td>737550</td>\n      <td>35000</td>\n      <td>1.000000</td>\n    </tr>\n    <tr>\n      <th>Herman LLC</th>\n      <th>Cedric Moss</th>\n      <th>Fred Anderson</th>\n      <td>141962</td>\n      <td>65000</td>\n      <td>2.000000</td>\n    </tr>\n    <tr>\n      <th>Jerde-Hilpert</th>\n      <th>John Smith</th>\n      <th>Debra Henley</th>\n      <td>412290</td>\n      <td>5000</td>\n      <td>2.000000</td>\n    </tr>\n    <tr>\n      <th>Kassulke, Ondricka and Metz</th>\n      <th>Wendy Yule</th>\n      <th>Fred Anderson</th>\n      <td>307599</td>\n      <td>7000</td>\n      <td>3.000000</td>\n    </tr>\n    <tr>\n      <th>Keeling LLC</th>\n      <th>Wendy Yule</th>\n      <th>Fred Anderson</th>\n      <td>688981</td>\n      <td>100000</td>\n      <td>5.000000</td>\n    </tr>\n    <tr>\n      <th>Kiehn-Spinka</th>\n      <th>Daniel Hilton</th>\n      <th>Debra Henley</th>\n      <td>146832</td>\n      <td>65000</td>\n      <td>2.000000</td>\n    </tr>\n    <tr>\n      <th>Koepp Ltd</th>\n      <th>Wendy Yule</th>\n      <th>Fred Anderson</th>\n      <td>729833</td>\n      <td>35000</td>\n      <td>2.000000</td>\n    </tr>\n    <tr>\n      <th>Kulas Inc</th>\n      <th>Daniel Hilton</th>\n      <th>Debra Henley</th>\n      <td>218895</td>\n      <td>25000</td>\n      <td>1.500000</td>\n    </tr>\n    <tr>\n      <th>Purdy-Kunde</th>\n      <th>Cedric Moss</th>\n      <th>Fred Anderson</th>\n      <td>163416</td>\n      <td>30000</td>\n      <td>1.000000</td>\n    </tr>\n    <tr>\n      <th>Stokes LLC</th>\n      <th>Cedric Moss</th>\n      <th>Fred Anderson</th>\n      <td>239344</td>\n      <td>7500</td>\n      <td>1.000000</td>\n    </tr>\n    <tr>\n      <th>Trantow-Barrows</th>\n      <th>Craig Booker</th>\n      <th>Debra Henley</th>\n      <td>714466</td>\n      <td>15000</td>\n      <td>1.333333</td>\n    </tr>\n  </tbody>\n</table>\n</div>"
     },
     "execution_count": 11,
     "metadata": {},
     "output_type": "execute_result"
    }
   ],
   "source": [
    "pd.pivot_table(df, index=['Name', 'Rep', 'Manager'])"
   ],
   "metadata": {
    "collapsed": false,
    "pycharm": {
     "name": "#%%\n"
    }
   }
  },
  {
   "cell_type": "code",
   "execution_count": 12,
   "outputs": [
    {
     "data": {
      "text/plain": "                              Account         Price  Quantity\nManager       Rep                                            \nDebra Henley  Craig Booker   720237.0  20000.000000  1.250000\n              Daniel Hilton  194874.0  38333.333333  1.666667\n              John Smith     576220.0  20000.000000  1.500000\nFred Anderson Cedric Moss    196016.5  27500.000000  1.250000\n              Wendy Yule     614061.5  44250.000000  3.000000",
      "text/html": "<div>\n<style scoped>\n    .dataframe tbody tr th:only-of-type {\n        vertical-align: middle;\n    }\n\n    .dataframe tbody tr th {\n        vertical-align: top;\n    }\n\n    .dataframe thead th {\n        text-align: right;\n    }\n</style>\n<table border=\"1\" class=\"dataframe\">\n  <thead>\n    <tr style=\"text-align: right;\">\n      <th></th>\n      <th></th>\n      <th>Account</th>\n      <th>Price</th>\n      <th>Quantity</th>\n    </tr>\n    <tr>\n      <th>Manager</th>\n      <th>Rep</th>\n      <th></th>\n      <th></th>\n      <th></th>\n    </tr>\n  </thead>\n  <tbody>\n    <tr>\n      <th rowspan=\"3\" valign=\"top\">Debra Henley</th>\n      <th>Craig Booker</th>\n      <td>720237.0</td>\n      <td>20000.000000</td>\n      <td>1.250000</td>\n    </tr>\n    <tr>\n      <th>Daniel Hilton</th>\n      <td>194874.0</td>\n      <td>38333.333333</td>\n      <td>1.666667</td>\n    </tr>\n    <tr>\n      <th>John Smith</th>\n      <td>576220.0</td>\n      <td>20000.000000</td>\n      <td>1.500000</td>\n    </tr>\n    <tr>\n      <th rowspan=\"2\" valign=\"top\">Fred Anderson</th>\n      <th>Cedric Moss</th>\n      <td>196016.5</td>\n      <td>27500.000000</td>\n      <td>1.250000</td>\n    </tr>\n    <tr>\n      <th>Wendy Yule</th>\n      <td>614061.5</td>\n      <td>44250.000000</td>\n      <td>3.000000</td>\n    </tr>\n  </tbody>\n</table>\n</div>"
     },
     "execution_count": 12,
     "metadata": {},
     "output_type": "execute_result"
    }
   ],
   "source": [
    "pd.pivot_table(df, index=['Manager', 'Rep'])"
   ],
   "metadata": {
    "collapsed": false,
    "pycharm": {
     "name": "#%%\n"
    }
   }
  },
  {
   "cell_type": "code",
   "execution_count": 14,
   "outputs": [
    {
     "data": {
      "text/plain": "                              Price\nManager       Rep                  \nDebra Henley  Craig Booker    80000\n              Daniel Hilton  115000\n              John Smith      40000\nFred Anderson Cedric Moss    110000\n              Wendy Yule     177000",
      "text/html": "<div>\n<style scoped>\n    .dataframe tbody tr th:only-of-type {\n        vertical-align: middle;\n    }\n\n    .dataframe tbody tr th {\n        vertical-align: top;\n    }\n\n    .dataframe thead th {\n        text-align: right;\n    }\n</style>\n<table border=\"1\" class=\"dataframe\">\n  <thead>\n    <tr style=\"text-align: right;\">\n      <th></th>\n      <th></th>\n      <th>Price</th>\n    </tr>\n    <tr>\n      <th>Manager</th>\n      <th>Rep</th>\n      <th></th>\n    </tr>\n  </thead>\n  <tbody>\n    <tr>\n      <th rowspan=\"3\" valign=\"top\">Debra Henley</th>\n      <th>Craig Booker</th>\n      <td>80000</td>\n    </tr>\n    <tr>\n      <th>Daniel Hilton</th>\n      <td>115000</td>\n    </tr>\n    <tr>\n      <th>John Smith</th>\n      <td>40000</td>\n    </tr>\n    <tr>\n      <th rowspan=\"2\" valign=\"top\">Fred Anderson</th>\n      <th>Cedric Moss</th>\n      <td>110000</td>\n    </tr>\n    <tr>\n      <th>Wendy Yule</th>\n      <td>177000</td>\n    </tr>\n  </tbody>\n</table>\n</div>"
     },
     "execution_count": 14,
     "metadata": {},
     "output_type": "execute_result"
    }
   ],
   "source": [
    "pd.pivot_table(df, index=['Manager', 'Rep'], values=['Price'], aggfunc='sum')"
   ],
   "metadata": {
    "collapsed": false,
    "pycharm": {
     "name": "#%%\n"
    }
   }
  },
  {
   "cell_type": "code",
   "execution_count": 15,
   "outputs": [
    {
     "data": {
      "text/plain": "                              Price  Quantity\nManager       Rep                            \nDebra Henley  Craig Booker    80000         5\n              Daniel Hilton  115000         5\n              John Smith      40000         3\nFred Anderson Cedric Moss    110000         5\n              Wendy Yule     177000        12",
      "text/html": "<div>\n<style scoped>\n    .dataframe tbody tr th:only-of-type {\n        vertical-align: middle;\n    }\n\n    .dataframe tbody tr th {\n        vertical-align: top;\n    }\n\n    .dataframe thead th {\n        text-align: right;\n    }\n</style>\n<table border=\"1\" class=\"dataframe\">\n  <thead>\n    <tr style=\"text-align: right;\">\n      <th></th>\n      <th></th>\n      <th>Price</th>\n      <th>Quantity</th>\n    </tr>\n    <tr>\n      <th>Manager</th>\n      <th>Rep</th>\n      <th></th>\n      <th></th>\n    </tr>\n  </thead>\n  <tbody>\n    <tr>\n      <th rowspan=\"3\" valign=\"top\">Debra Henley</th>\n      <th>Craig Booker</th>\n      <td>80000</td>\n      <td>5</td>\n    </tr>\n    <tr>\n      <th>Daniel Hilton</th>\n      <td>115000</td>\n      <td>5</td>\n    </tr>\n    <tr>\n      <th>John Smith</th>\n      <td>40000</td>\n      <td>3</td>\n    </tr>\n    <tr>\n      <th rowspan=\"2\" valign=\"top\">Fred Anderson</th>\n      <th>Cedric Moss</th>\n      <td>110000</td>\n      <td>5</td>\n    </tr>\n    <tr>\n      <th>Wendy Yule</th>\n      <td>177000</td>\n      <td>12</td>\n    </tr>\n  </tbody>\n</table>\n</div>"
     },
     "execution_count": 15,
     "metadata": {},
     "output_type": "execute_result"
    }
   ],
   "source": [
    "pd.pivot_table(df, index=['Manager', 'Rep'], values=['Price', 'Quantity'], aggfunc='sum')"
   ],
   "metadata": {
    "collapsed": false,
    "pycharm": {
     "name": "#%%\n"
    }
   }
  },
  {
   "cell_type": "code",
   "execution_count": 16,
   "outputs": [
    {
     "data": {
      "text/plain": "                                Price                              Quantity  \\\nProduct                           CPU Maintenance Monitor Software      CPU   \nManager       Rep                                                             \nDebra Henley  Craig Booker    65000.0      5000.0     NaN  10000.0      2.0   \n              Daniel Hilton  105000.0         NaN     NaN  10000.0      4.0   \n              John Smith      35000.0      5000.0     NaN      NaN      1.0   \nFred Anderson Cedric Moss     95000.0      5000.0     NaN  10000.0      3.0   \n              Wendy Yule     165000.0      7000.0  5000.0      NaN      7.0   \n\n                                                          \nProduct                     Maintenance Monitor Software  \nManager       Rep                                         \nDebra Henley  Craig Booker          2.0     NaN      1.0  \n              Daniel Hilton         NaN     NaN      1.0  \n              John Smith            2.0     NaN      NaN  \nFred Anderson Cedric Moss           1.0     NaN      1.0  \n              Wendy Yule            3.0     2.0      NaN  ",
      "text/html": "<div>\n<style scoped>\n    .dataframe tbody tr th:only-of-type {\n        vertical-align: middle;\n    }\n\n    .dataframe tbody tr th {\n        vertical-align: top;\n    }\n\n    .dataframe thead tr th {\n        text-align: left;\n    }\n\n    .dataframe thead tr:last-of-type th {\n        text-align: right;\n    }\n</style>\n<table border=\"1\" class=\"dataframe\">\n  <thead>\n    <tr>\n      <th></th>\n      <th></th>\n      <th colspan=\"4\" halign=\"left\">Price</th>\n      <th colspan=\"4\" halign=\"left\">Quantity</th>\n    </tr>\n    <tr>\n      <th></th>\n      <th>Product</th>\n      <th>CPU</th>\n      <th>Maintenance</th>\n      <th>Monitor</th>\n      <th>Software</th>\n      <th>CPU</th>\n      <th>Maintenance</th>\n      <th>Monitor</th>\n      <th>Software</th>\n    </tr>\n    <tr>\n      <th>Manager</th>\n      <th>Rep</th>\n      <th></th>\n      <th></th>\n      <th></th>\n      <th></th>\n      <th></th>\n      <th></th>\n      <th></th>\n      <th></th>\n    </tr>\n  </thead>\n  <tbody>\n    <tr>\n      <th rowspan=\"3\" valign=\"top\">Debra Henley</th>\n      <th>Craig Booker</th>\n      <td>65000.0</td>\n      <td>5000.0</td>\n      <td>NaN</td>\n      <td>10000.0</td>\n      <td>2.0</td>\n      <td>2.0</td>\n      <td>NaN</td>\n      <td>1.0</td>\n    </tr>\n    <tr>\n      <th>Daniel Hilton</th>\n      <td>105000.0</td>\n      <td>NaN</td>\n      <td>NaN</td>\n      <td>10000.0</td>\n      <td>4.0</td>\n      <td>NaN</td>\n      <td>NaN</td>\n      <td>1.0</td>\n    </tr>\n    <tr>\n      <th>John Smith</th>\n      <td>35000.0</td>\n      <td>5000.0</td>\n      <td>NaN</td>\n      <td>NaN</td>\n      <td>1.0</td>\n      <td>2.0</td>\n      <td>NaN</td>\n      <td>NaN</td>\n    </tr>\n    <tr>\n      <th rowspan=\"2\" valign=\"top\">Fred Anderson</th>\n      <th>Cedric Moss</th>\n      <td>95000.0</td>\n      <td>5000.0</td>\n      <td>NaN</td>\n      <td>10000.0</td>\n      <td>3.0</td>\n      <td>1.0</td>\n      <td>NaN</td>\n      <td>1.0</td>\n    </tr>\n    <tr>\n      <th>Wendy Yule</th>\n      <td>165000.0</td>\n      <td>7000.0</td>\n      <td>5000.0</td>\n      <td>NaN</td>\n      <td>7.0</td>\n      <td>3.0</td>\n      <td>2.0</td>\n      <td>NaN</td>\n    </tr>\n  </tbody>\n</table>\n</div>"
     },
     "execution_count": 16,
     "metadata": {},
     "output_type": "execute_result"
    }
   ],
   "source": [
    "pd.pivot_table(df, index=['Manager', 'Rep'], values=['Price', 'Quantity'], columns=['Product'], aggfunc='sum')"
   ],
   "metadata": {
    "collapsed": false,
    "pycharm": {
     "name": "#%%\n"
    }
   }
  },
  {
   "cell_type": "code",
   "execution_count": null,
   "outputs": [],
   "source": [],
   "metadata": {
    "collapsed": false,
    "pycharm": {
     "name": "#%%\n"
    }
   }
  }
 ],
 "metadata": {
  "kernelspec": {
   "display_name": "Python 3",
   "language": "python",
   "name": "python3"
  },
  "language_info": {
   "codemirror_mode": {
    "name": "ipython",
    "version": 2
   },
   "file_extension": ".py",
   "mimetype": "text/x-python",
   "name": "python",
   "nbconvert_exporter": "python",
   "pygments_lexer": "ipython2",
   "version": "2.7.6"
  }
 },
 "nbformat": 4,
 "nbformat_minor": 0
}