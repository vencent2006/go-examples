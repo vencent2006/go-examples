{
 "cells": [
  {
   "cell_type": "code",
   "execution_count": 1,
   "outputs": [],
   "source": [
    "import numpy as np\n",
    "import pandas as pd\n",
    "from pandas import Series, DataFrame"
   ],
   "metadata": {
    "collapsed": false,
    "pycharm": {
     "name": "#%%\n"
    }
   }
  },
  {
   "cell_type": "code",
   "execution_count": 2,
   "outputs": [
    {
     "name": "stdout",
     "output_type": "stream",
     "text": [
      "apply_demo.csv     demo_duplicate.csv movie_metadata.csv\r\n",
      "city_weather.csv   iris.csv\r\n"
     ]
    }
   ],
   "source": [
    "!ls homework"
   ],
   "metadata": {
    "collapsed": false,
    "pycharm": {
     "name": "#%%\n"
    }
   }
  },
  {
   "cell_type": "code",
   "execution_count": 4,
   "outputs": [],
   "source": [
    "df = pd.read_csv('homework/city_weather.csv')"
   ],
   "metadata": {
    "collapsed": false,
    "pycharm": {
     "name": "#%%\n"
    }
   }
  },
  {
   "cell_type": "code",
   "execution_count": 5,
   "outputs": [
    {
     "data": {
      "text/plain": "          date city  temperature  wind\n0   03/01/2016   BJ            8     5\n1   17/01/2016   BJ           12     2\n2   31/01/2016   BJ           19     2\n3   14/02/2016   BJ           -3     3\n4   28/02/2016   BJ           19     2\n5   13/03/2016   BJ            5     3\n6   27/03/2016   SH           -4     4\n7   10/04/2016   SH           19     3\n8   24/04/2016   SH           20     3\n9   08/05/2016   SH           17     3\n10  22/05/2016   SH            4     2\n11  05/06/2016   SH          -10     4\n12  19/06/2016   SH            0     5\n13  03/07/2016   SH           -9     5\n14  17/07/2016   GZ           10     2\n15  31/07/2016   GZ           -1     5\n16  14/08/2016   GZ            1     5\n17  28/08/2016   GZ           25     4\n18  11/09/2016   SZ           20     1\n19  25/09/2016   SZ          -10     4",
      "text/html": "<div>\n<style scoped>\n    .dataframe tbody tr th:only-of-type {\n        vertical-align: middle;\n    }\n\n    .dataframe tbody tr th {\n        vertical-align: top;\n    }\n\n    .dataframe thead th {\n        text-align: right;\n    }\n</style>\n<table border=\"1\" class=\"dataframe\">\n  <thead>\n    <tr style=\"text-align: right;\">\n      <th></th>\n      <th>date</th>\n      <th>city</th>\n      <th>temperature</th>\n      <th>wind</th>\n    </tr>\n  </thead>\n  <tbody>\n    <tr>\n      <th>0</th>\n      <td>03/01/2016</td>\n      <td>BJ</td>\n      <td>8</td>\n      <td>5</td>\n    </tr>\n    <tr>\n      <th>1</th>\n      <td>17/01/2016</td>\n      <td>BJ</td>\n      <td>12</td>\n      <td>2</td>\n    </tr>\n    <tr>\n      <th>2</th>\n      <td>31/01/2016</td>\n      <td>BJ</td>\n      <td>19</td>\n      <td>2</td>\n    </tr>\n    <tr>\n      <th>3</th>\n      <td>14/02/2016</td>\n      <td>BJ</td>\n      <td>-3</td>\n      <td>3</td>\n    </tr>\n    <tr>\n      <th>4</th>\n      <td>28/02/2016</td>\n      <td>BJ</td>\n      <td>19</td>\n      <td>2</td>\n    </tr>\n    <tr>\n      <th>5</th>\n      <td>13/03/2016</td>\n      <td>BJ</td>\n      <td>5</td>\n      <td>3</td>\n    </tr>\n    <tr>\n      <th>6</th>\n      <td>27/03/2016</td>\n      <td>SH</td>\n      <td>-4</td>\n      <td>4</td>\n    </tr>\n    <tr>\n      <th>7</th>\n      <td>10/04/2016</td>\n      <td>SH</td>\n      <td>19</td>\n      <td>3</td>\n    </tr>\n    <tr>\n      <th>8</th>\n      <td>24/04/2016</td>\n      <td>SH</td>\n      <td>20</td>\n      <td>3</td>\n    </tr>\n    <tr>\n      <th>9</th>\n      <td>08/05/2016</td>\n      <td>SH</td>\n      <td>17</td>\n      <td>3</td>\n    </tr>\n    <tr>\n      <th>10</th>\n      <td>22/05/2016</td>\n      <td>SH</td>\n      <td>4</td>\n      <td>2</td>\n    </tr>\n    <tr>\n      <th>11</th>\n      <td>05/06/2016</td>\n      <td>SH</td>\n      <td>-10</td>\n      <td>4</td>\n    </tr>\n    <tr>\n      <th>12</th>\n      <td>19/06/2016</td>\n      <td>SH</td>\n      <td>0</td>\n      <td>5</td>\n    </tr>\n    <tr>\n      <th>13</th>\n      <td>03/07/2016</td>\n      <td>SH</td>\n      <td>-9</td>\n      <td>5</td>\n    </tr>\n    <tr>\n      <th>14</th>\n      <td>17/07/2016</td>\n      <td>GZ</td>\n      <td>10</td>\n      <td>2</td>\n    </tr>\n    <tr>\n      <th>15</th>\n      <td>31/07/2016</td>\n      <td>GZ</td>\n      <td>-1</td>\n      <td>5</td>\n    </tr>\n    <tr>\n      <th>16</th>\n      <td>14/08/2016</td>\n      <td>GZ</td>\n      <td>1</td>\n      <td>5</td>\n    </tr>\n    <tr>\n      <th>17</th>\n      <td>28/08/2016</td>\n      <td>GZ</td>\n      <td>25</td>\n      <td>4</td>\n    </tr>\n    <tr>\n      <th>18</th>\n      <td>11/09/2016</td>\n      <td>SZ</td>\n      <td>20</td>\n      <td>1</td>\n    </tr>\n    <tr>\n      <th>19</th>\n      <td>25/09/2016</td>\n      <td>SZ</td>\n      <td>-10</td>\n      <td>4</td>\n    </tr>\n  </tbody>\n</table>\n</div>"
     },
     "execution_count": 5,
     "metadata": {},
     "output_type": "execute_result"
    }
   ],
   "source": [
    "df"
   ],
   "metadata": {
    "collapsed": false,
    "pycharm": {
     "name": "#%%\n"
    }
   }
  },
  {
   "cell_type": "code",
   "execution_count": 7,
   "outputs": [],
   "source": [
    "g = df.groupby(df['city'])"
   ],
   "metadata": {
    "collapsed": false,
    "pycharm": {
     "name": "#%%\n"
    }
   }
  },
  {
   "cell_type": "code",
   "execution_count": 8,
   "outputs": [
    {
     "data": {
      "text/plain": "<pandas.core.groupby.generic.DataFrameGroupBy object at 0x11a00bac0>"
     },
     "execution_count": 8,
     "metadata": {},
     "output_type": "execute_result"
    }
   ],
   "source": [
    "g"
   ],
   "metadata": {
    "collapsed": false,
    "pycharm": {
     "name": "#%%\n"
    }
   }
  },
  {
   "cell_type": "code",
   "execution_count": 9,
   "outputs": [
    {
     "data": {
      "text/plain": "{'BJ': [0, 1, 2, 3, 4, 5], 'GZ': [14, 15, 16, 17], 'SH': [6, 7, 8, 9, 10, 11, 12, 13], 'SZ': [18, 19]}"
     },
     "execution_count": 9,
     "metadata": {},
     "output_type": "execute_result"
    }
   ],
   "source": [
    "g.groups"
   ],
   "metadata": {
    "collapsed": false,
    "pycharm": {
     "name": "#%%\n"
    }
   }
  },
  {
   "cell_type": "code",
   "execution_count": 11,
   "outputs": [],
   "source": [
    "df_bj = g.get_group('BJ')"
   ],
   "metadata": {
    "collapsed": false,
    "pycharm": {
     "name": "#%%\n"
    }
   }
  },
  {
   "cell_type": "code",
   "execution_count": 12,
   "outputs": [
    {
     "data": {
      "text/plain": "         date city  temperature  wind\n0  03/01/2016   BJ            8     5\n1  17/01/2016   BJ           12     2\n2  31/01/2016   BJ           19     2\n3  14/02/2016   BJ           -3     3\n4  28/02/2016   BJ           19     2\n5  13/03/2016   BJ            5     3",
      "text/html": "<div>\n<style scoped>\n    .dataframe tbody tr th:only-of-type {\n        vertical-align: middle;\n    }\n\n    .dataframe tbody tr th {\n        vertical-align: top;\n    }\n\n    .dataframe thead th {\n        text-align: right;\n    }\n</style>\n<table border=\"1\" class=\"dataframe\">\n  <thead>\n    <tr style=\"text-align: right;\">\n      <th></th>\n      <th>date</th>\n      <th>city</th>\n      <th>temperature</th>\n      <th>wind</th>\n    </tr>\n  </thead>\n  <tbody>\n    <tr>\n      <th>0</th>\n      <td>03/01/2016</td>\n      <td>BJ</td>\n      <td>8</td>\n      <td>5</td>\n    </tr>\n    <tr>\n      <th>1</th>\n      <td>17/01/2016</td>\n      <td>BJ</td>\n      <td>12</td>\n      <td>2</td>\n    </tr>\n    <tr>\n      <th>2</th>\n      <td>31/01/2016</td>\n      <td>BJ</td>\n      <td>19</td>\n      <td>2</td>\n    </tr>\n    <tr>\n      <th>3</th>\n      <td>14/02/2016</td>\n      <td>BJ</td>\n      <td>-3</td>\n      <td>3</td>\n    </tr>\n    <tr>\n      <th>4</th>\n      <td>28/02/2016</td>\n      <td>BJ</td>\n      <td>19</td>\n      <td>2</td>\n    </tr>\n    <tr>\n      <th>5</th>\n      <td>13/03/2016</td>\n      <td>BJ</td>\n      <td>5</td>\n      <td>3</td>\n    </tr>\n  </tbody>\n</table>\n</div>"
     },
     "execution_count": 12,
     "metadata": {},
     "output_type": "execute_result"
    }
   ],
   "source": [
    "df_bj"
   ],
   "metadata": {
    "collapsed": false,
    "pycharm": {
     "name": "#%%\n"
    }
   }
  },
  {
   "cell_type": "code",
   "execution_count": 13,
   "outputs": [
    {
     "name": "stderr",
     "output_type": "stream",
     "text": [
      "/var/folders/hz/s8c8_1g17vn88p_rdwm0vkzh0000gn/T/ipykernel_84465/367675745.py:1: FutureWarning: Dropping of nuisance columns in DataFrame reductions (with 'numeric_only=None') is deprecated; in a future version this will raise TypeError.  Select only valid columns before calling the reduction.\n",
      "  df_bj.mean()\n"
     ]
    },
    {
     "data": {
      "text/plain": "temperature    10.000000\nwind            2.833333\ndtype: float64"
     },
     "execution_count": 13,
     "metadata": {},
     "output_type": "execute_result"
    }
   ],
   "source": [
    "df_bj.mean()"
   ],
   "metadata": {
    "collapsed": false,
    "pycharm": {
     "name": "#%%\n"
    }
   }
  },
  {
   "cell_type": "code",
   "execution_count": 14,
   "outputs": [
    {
     "data": {
      "text/plain": "      temperature      wind\ncity                       \nBJ         10.000  2.833333\nGZ          8.750  4.000000\nSH          4.625  3.625000\nSZ          5.000  2.500000",
      "text/html": "<div>\n<style scoped>\n    .dataframe tbody tr th:only-of-type {\n        vertical-align: middle;\n    }\n\n    .dataframe tbody tr th {\n        vertical-align: top;\n    }\n\n    .dataframe thead th {\n        text-align: right;\n    }\n</style>\n<table border=\"1\" class=\"dataframe\">\n  <thead>\n    <tr style=\"text-align: right;\">\n      <th></th>\n      <th>temperature</th>\n      <th>wind</th>\n    </tr>\n    <tr>\n      <th>city</th>\n      <th></th>\n      <th></th>\n    </tr>\n  </thead>\n  <tbody>\n    <tr>\n      <th>BJ</th>\n      <td>10.000</td>\n      <td>2.833333</td>\n    </tr>\n    <tr>\n      <th>GZ</th>\n      <td>8.750</td>\n      <td>4.000000</td>\n    </tr>\n    <tr>\n      <th>SH</th>\n      <td>4.625</td>\n      <td>3.625000</td>\n    </tr>\n    <tr>\n      <th>SZ</th>\n      <td>5.000</td>\n      <td>2.500000</td>\n    </tr>\n  </tbody>\n</table>\n</div>"
     },
     "execution_count": 14,
     "metadata": {},
     "output_type": "execute_result"
    }
   ],
   "source": [
    "g.mean()"
   ],
   "metadata": {
    "collapsed": false,
    "pycharm": {
     "name": "#%%\n"
    }
   }
  },
  {
   "cell_type": "code",
   "execution_count": 15,
   "outputs": [
    {
     "data": {
      "text/plain": "            date  temperature  wind\ncity                               \nBJ    31/01/2016           19     5\nGZ    31/07/2016           25     5\nSH    27/03/2016           20     5\nSZ    25/09/2016           20     4",
      "text/html": "<div>\n<style scoped>\n    .dataframe tbody tr th:only-of-type {\n        vertical-align: middle;\n    }\n\n    .dataframe tbody tr th {\n        vertical-align: top;\n    }\n\n    .dataframe thead th {\n        text-align: right;\n    }\n</style>\n<table border=\"1\" class=\"dataframe\">\n  <thead>\n    <tr style=\"text-align: right;\">\n      <th></th>\n      <th>date</th>\n      <th>temperature</th>\n      <th>wind</th>\n    </tr>\n    <tr>\n      <th>city</th>\n      <th></th>\n      <th></th>\n      <th></th>\n    </tr>\n  </thead>\n  <tbody>\n    <tr>\n      <th>BJ</th>\n      <td>31/01/2016</td>\n      <td>19</td>\n      <td>5</td>\n    </tr>\n    <tr>\n      <th>GZ</th>\n      <td>31/07/2016</td>\n      <td>25</td>\n      <td>5</td>\n    </tr>\n    <tr>\n      <th>SH</th>\n      <td>27/03/2016</td>\n      <td>20</td>\n      <td>5</td>\n    </tr>\n    <tr>\n      <th>SZ</th>\n      <td>25/09/2016</td>\n      <td>20</td>\n      <td>4</td>\n    </tr>\n  </tbody>\n</table>\n</div>"
     },
     "execution_count": 15,
     "metadata": {},
     "output_type": "execute_result"
    }
   ],
   "source": [
    "g.max()"
   ],
   "metadata": {
    "collapsed": false,
    "pycharm": {
     "name": "#%%\n"
    }
   }
  },
  {
   "cell_type": "code",
   "execution_count": 16,
   "outputs": [
    {
     "data": {
      "text/plain": "     temperature                                                    wind  \\\n           count    mean        std   min   25%   50%    75%   max count   \ncity                                                                       \nBJ           6.0  10.000   8.532292  -3.0  5.75  10.0  17.25  19.0   6.0   \nGZ           4.0   8.750  11.842719  -1.0  0.50   5.5  13.75  25.0   4.0   \nSH           8.0   4.625  12.489281 -10.0 -5.25   2.0  17.50  20.0   8.0   \nSZ           2.0   5.000  21.213203 -10.0 -2.50   5.0  12.50  20.0   2.0   \n\n                                                     \n          mean       std  min   25%  50%   75%  max  \ncity                                                 \nBJ    2.833333  1.169045  2.0  2.00  2.5  3.00  5.0  \nGZ    4.000000  1.414214  2.0  3.50  4.5  5.00  5.0  \nSH    3.625000  1.060660  2.0  3.00  3.5  4.25  5.0  \nSZ    2.500000  2.121320  1.0  1.75  2.5  3.25  4.0  ",
      "text/html": "<div>\n<style scoped>\n    .dataframe tbody tr th:only-of-type {\n        vertical-align: middle;\n    }\n\n    .dataframe tbody tr th {\n        vertical-align: top;\n    }\n\n    .dataframe thead tr th {\n        text-align: left;\n    }\n\n    .dataframe thead tr:last-of-type th {\n        text-align: right;\n    }\n</style>\n<table border=\"1\" class=\"dataframe\">\n  <thead>\n    <tr>\n      <th></th>\n      <th colspan=\"8\" halign=\"left\">temperature</th>\n      <th colspan=\"8\" halign=\"left\">wind</th>\n    </tr>\n    <tr>\n      <th></th>\n      <th>count</th>\n      <th>mean</th>\n      <th>std</th>\n      <th>min</th>\n      <th>25%</th>\n      <th>50%</th>\n      <th>75%</th>\n      <th>max</th>\n      <th>count</th>\n      <th>mean</th>\n      <th>std</th>\n      <th>min</th>\n      <th>25%</th>\n      <th>50%</th>\n      <th>75%</th>\n      <th>max</th>\n    </tr>\n    <tr>\n      <th>city</th>\n      <th></th>\n      <th></th>\n      <th></th>\n      <th></th>\n      <th></th>\n      <th></th>\n      <th></th>\n      <th></th>\n      <th></th>\n      <th></th>\n      <th></th>\n      <th></th>\n      <th></th>\n      <th></th>\n      <th></th>\n      <th></th>\n    </tr>\n  </thead>\n  <tbody>\n    <tr>\n      <th>BJ</th>\n      <td>6.0</td>\n      <td>10.000</td>\n      <td>8.532292</td>\n      <td>-3.0</td>\n      <td>5.75</td>\n      <td>10.0</td>\n      <td>17.25</td>\n      <td>19.0</td>\n      <td>6.0</td>\n      <td>2.833333</td>\n      <td>1.169045</td>\n      <td>2.0</td>\n      <td>2.00</td>\n      <td>2.5</td>\n      <td>3.00</td>\n      <td>5.0</td>\n    </tr>\n    <tr>\n      <th>GZ</th>\n      <td>4.0</td>\n      <td>8.750</td>\n      <td>11.842719</td>\n      <td>-1.0</td>\n      <td>0.50</td>\n      <td>5.5</td>\n      <td>13.75</td>\n      <td>25.0</td>\n      <td>4.0</td>\n      <td>4.000000</td>\n      <td>1.414214</td>\n      <td>2.0</td>\n      <td>3.50</td>\n      <td>4.5</td>\n      <td>5.00</td>\n      <td>5.0</td>\n    </tr>\n    <tr>\n      <th>SH</th>\n      <td>8.0</td>\n      <td>4.625</td>\n      <td>12.489281</td>\n      <td>-10.0</td>\n      <td>-5.25</td>\n      <td>2.0</td>\n      <td>17.50</td>\n      <td>20.0</td>\n      <td>8.0</td>\n      <td>3.625000</td>\n      <td>1.060660</td>\n      <td>2.0</td>\n      <td>3.00</td>\n      <td>3.5</td>\n      <td>4.25</td>\n      <td>5.0</td>\n    </tr>\n    <tr>\n      <th>SZ</th>\n      <td>2.0</td>\n      <td>5.000</td>\n      <td>21.213203</td>\n      <td>-10.0</td>\n      <td>-2.50</td>\n      <td>5.0</td>\n      <td>12.50</td>\n      <td>20.0</td>\n      <td>2.0</td>\n      <td>2.500000</td>\n      <td>2.121320</td>\n      <td>1.0</td>\n      <td>1.75</td>\n      <td>2.5</td>\n      <td>3.25</td>\n      <td>4.0</td>\n    </tr>\n  </tbody>\n</table>\n</div>"
     },
     "execution_count": 16,
     "metadata": {},
     "output_type": "execute_result"
    }
   ],
   "source": [
    "g.describe()"
   ],
   "metadata": {
    "collapsed": false,
    "pycharm": {
     "name": "#%%\n"
    }
   }
  },
  {
   "cell_type": "code",
   "execution_count": 17,
   "outputs": [
    {
     "name": "stderr",
     "output_type": "stream",
     "text": [
      "/var/folders/hz/s8c8_1g17vn88p_rdwm0vkzh0000gn/T/ipykernel_84465/3861899568.py:1: FutureWarning: Dropping of nuisance columns in DataFrame reductions (with 'numeric_only=None') is deprecated; in a future version this will raise TypeError.  Select only valid columns before calling the reduction.\n",
      "  type(df_bj.mean())\n"
     ]
    },
    {
     "data": {
      "text/plain": "pandas.core.series.Series"
     },
     "execution_count": 17,
     "metadata": {},
     "output_type": "execute_result"
    }
   ],
   "source": [
    "type(df_bj.mean())"
   ],
   "metadata": {
    "collapsed": false,
    "pycharm": {
     "name": "#%%\n"
    }
   }
  },
  {
   "cell_type": "code",
   "execution_count": 18,
   "outputs": [
    {
     "data": {
      "text/plain": "pandas.core.frame.DataFrame"
     },
     "execution_count": 18,
     "metadata": {},
     "output_type": "execute_result"
    }
   ],
   "source": [
    "type(g.mean())"
   ],
   "metadata": {
    "collapsed": false,
    "pycharm": {
     "name": "#%%\n"
    }
   }
  },
  {
   "cell_type": "code",
   "execution_count": 19,
   "outputs": [
    {
     "data": {
      "text/plain": "[('BJ',\n           date city  temperature  wind\n  0  03/01/2016   BJ            8     5\n  1  17/01/2016   BJ           12     2\n  2  31/01/2016   BJ           19     2\n  3  14/02/2016   BJ           -3     3\n  4  28/02/2016   BJ           19     2\n  5  13/03/2016   BJ            5     3),\n ('GZ',\n            date city  temperature  wind\n  14  17/07/2016   GZ           10     2\n  15  31/07/2016   GZ           -1     5\n  16  14/08/2016   GZ            1     5\n  17  28/08/2016   GZ           25     4),\n ('SH',\n            date city  temperature  wind\n  6   27/03/2016   SH           -4     4\n  7   10/04/2016   SH           19     3\n  8   24/04/2016   SH           20     3\n  9   08/05/2016   SH           17     3\n  10  22/05/2016   SH            4     2\n  11  05/06/2016   SH          -10     4\n  12  19/06/2016   SH            0     5\n  13  03/07/2016   SH           -9     5),\n ('SZ',\n            date city  temperature  wind\n  18  11/09/2016   SZ           20     1\n  19  25/09/2016   SZ          -10     4)]"
     },
     "execution_count": 19,
     "metadata": {},
     "output_type": "execute_result"
    }
   ],
   "source": [
    "list(g)"
   ],
   "metadata": {
    "collapsed": false,
    "pycharm": {
     "name": "#%%\n"
    }
   }
  },
  {
   "cell_type": "code",
   "execution_count": 20,
   "outputs": [
    {
     "data": {
      "text/plain": "{'BJ':          date city  temperature  wind\n 0  03/01/2016   BJ            8     5\n 1  17/01/2016   BJ           12     2\n 2  31/01/2016   BJ           19     2\n 3  14/02/2016   BJ           -3     3\n 4  28/02/2016   BJ           19     2\n 5  13/03/2016   BJ            5     3,\n 'GZ':           date city  temperature  wind\n 14  17/07/2016   GZ           10     2\n 15  31/07/2016   GZ           -1     5\n 16  14/08/2016   GZ            1     5\n 17  28/08/2016   GZ           25     4,\n 'SH':           date city  temperature  wind\n 6   27/03/2016   SH           -4     4\n 7   10/04/2016   SH           19     3\n 8   24/04/2016   SH           20     3\n 9   08/05/2016   SH           17     3\n 10  22/05/2016   SH            4     2\n 11  05/06/2016   SH          -10     4\n 12  19/06/2016   SH            0     5\n 13  03/07/2016   SH           -9     5,\n 'SZ':           date city  temperature  wind\n 18  11/09/2016   SZ           20     1\n 19  25/09/2016   SZ          -10     4}"
     },
     "execution_count": 20,
     "metadata": {},
     "output_type": "execute_result"
    }
   ],
   "source": [
    "dict(list(g))"
   ],
   "metadata": {
    "collapsed": false,
    "pycharm": {
     "name": "#%%\n"
    }
   }
  },
  {
   "cell_type": "code",
   "execution_count": 22,
   "outputs": [
    {
     "data": {
      "text/plain": "         date city  temperature  wind\n0  03/01/2016   BJ            8     5\n1  17/01/2016   BJ           12     2\n2  31/01/2016   BJ           19     2\n3  14/02/2016   BJ           -3     3\n4  28/02/2016   BJ           19     2\n5  13/03/2016   BJ            5     3",
      "text/html": "<div>\n<style scoped>\n    .dataframe tbody tr th:only-of-type {\n        vertical-align: middle;\n    }\n\n    .dataframe tbody tr th {\n        vertical-align: top;\n    }\n\n    .dataframe thead th {\n        text-align: right;\n    }\n</style>\n<table border=\"1\" class=\"dataframe\">\n  <thead>\n    <tr style=\"text-align: right;\">\n      <th></th>\n      <th>date</th>\n      <th>city</th>\n      <th>temperature</th>\n      <th>wind</th>\n    </tr>\n  </thead>\n  <tbody>\n    <tr>\n      <th>0</th>\n      <td>03/01/2016</td>\n      <td>BJ</td>\n      <td>8</td>\n      <td>5</td>\n    </tr>\n    <tr>\n      <th>1</th>\n      <td>17/01/2016</td>\n      <td>BJ</td>\n      <td>12</td>\n      <td>2</td>\n    </tr>\n    <tr>\n      <th>2</th>\n      <td>31/01/2016</td>\n      <td>BJ</td>\n      <td>19</td>\n      <td>2</td>\n    </tr>\n    <tr>\n      <th>3</th>\n      <td>14/02/2016</td>\n      <td>BJ</td>\n      <td>-3</td>\n      <td>3</td>\n    </tr>\n    <tr>\n      <th>4</th>\n      <td>28/02/2016</td>\n      <td>BJ</td>\n      <td>19</td>\n      <td>2</td>\n    </tr>\n    <tr>\n      <th>5</th>\n      <td>13/03/2016</td>\n      <td>BJ</td>\n      <td>5</td>\n      <td>3</td>\n    </tr>\n  </tbody>\n</table>\n</div>"
     },
     "execution_count": 22,
     "metadata": {},
     "output_type": "execute_result"
    }
   ],
   "source": [
    "dict(list(g))['BJ']"
   ],
   "metadata": {
    "collapsed": false,
    "pycharm": {
     "name": "#%%\n"
    }
   }
  },
  {
   "cell_type": "code",
   "execution_count": 23,
   "outputs": [
    {
     "name": "stdout",
     "output_type": "stream",
     "text": [
      "BJ\n",
      "         date city  temperature  wind\n",
      "0  03/01/2016   BJ            8     5\n",
      "1  17/01/2016   BJ           12     2\n",
      "2  31/01/2016   BJ           19     2\n",
      "3  14/02/2016   BJ           -3     3\n",
      "4  28/02/2016   BJ           19     2\n",
      "5  13/03/2016   BJ            5     3\n",
      "GZ\n",
      "          date city  temperature  wind\n",
      "14  17/07/2016   GZ           10     2\n",
      "15  31/07/2016   GZ           -1     5\n",
      "16  14/08/2016   GZ            1     5\n",
      "17  28/08/2016   GZ           25     4\n",
      "SH\n",
      "          date city  temperature  wind\n",
      "6   27/03/2016   SH           -4     4\n",
      "7   10/04/2016   SH           19     3\n",
      "8   24/04/2016   SH           20     3\n",
      "9   08/05/2016   SH           17     3\n",
      "10  22/05/2016   SH            4     2\n",
      "11  05/06/2016   SH          -10     4\n",
      "12  19/06/2016   SH            0     5\n",
      "13  03/07/2016   SH           -9     5\n",
      "SZ\n",
      "          date city  temperature  wind\n",
      "18  11/09/2016   SZ           20     1\n",
      "19  25/09/2016   SZ          -10     4\n"
     ]
    }
   ],
   "source": [
    "for name, group_df in g:\n",
    "    print(name)\n",
    "    print(group_df)"
   ],
   "metadata": {
    "collapsed": false,
    "pycharm": {
     "name": "#%%\n"
    }
   }
  },
  {
   "cell_type": "code",
   "execution_count": null,
   "outputs": [],
   "source": [],
   "metadata": {
    "collapsed": false,
    "pycharm": {
     "name": "#%%\n"
    }
   }
  }
 ],
 "metadata": {
  "kernelspec": {
   "display_name": "Python 3",
   "language": "python",
   "name": "python3"
  },
  "language_info": {
   "codemirror_mode": {
    "name": "ipython",
    "version": 2
   },
   "file_extension": ".py",
   "mimetype": "text/x-python",
   "name": "python",
   "nbconvert_exporter": "python",
   "pygments_lexer": "ipython2",
   "version": "2.7.6"
  }
 },
 "nbformat": 4,
 "nbformat_minor": 0
}